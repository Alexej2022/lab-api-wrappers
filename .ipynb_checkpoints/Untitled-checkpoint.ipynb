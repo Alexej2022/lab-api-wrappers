{
 "cells": [
  {
   "cell_type": "code",
   "execution_count": 1,
   "id": "71afe857",
   "metadata": {},
   "outputs": [],
   "source": [
    "secrets_file = open(\"secrets.txt\",\"r\")\n",
    "# function open, \"r\" stands for reading the file\n",
    "# only want to read the file\n",
    "# we can access the file through the handel\n",
    "# ../secrets.txt if one folder above"
   ]
  },
  {
   "cell_type": "code",
   "execution_count": 2,
   "id": "b85097b4",
   "metadata": {},
   "outputs": [],
   "source": [
    "import numpy as np\n",
    "import pandas as pd\n",
    "import spotipy\n",
    "import json\n",
    "from spotipy.oauth2 import SpotifyClientCredentials"
   ]
  },
  {
   "cell_type": "code",
   "execution_count": 3,
   "id": "6ded3063",
   "metadata": {},
   "outputs": [],
   "source": [
    "# contents of the file is written in a string\n",
    "\n",
    "string = secrets_file.read()"
   ]
  },
  {
   "cell_type": "code",
   "execution_count": 4,
   "id": "3d2500b6",
   "metadata": {},
   "outputs": [
    {
     "data": {
      "text/plain": [
       "'clientid:dce6d8a52c174cfb9b34e5ac1976f60f\\nclientsecret:3a685d939cf94ad0a891a3867314204b'"
      ]
     },
     "execution_count": 4,
     "metadata": {},
     "output_type": "execute_result"
    }
   ],
   "source": [
    "string"
   ]
  },
  {
   "cell_type": "code",
   "execution_count": 5,
   "id": "724dd1d0",
   "metadata": {},
   "outputs": [
    {
     "data": {
      "text/plain": [
       "['clientid:dce6d8a52c174cfb9b34e5ac1976f60f',\n",
       " 'clientsecret:3a685d939cf94ad0a891a3867314204b']"
      ]
     },
     "execution_count": 5,
     "metadata": {},
     "output_type": "execute_result"
    }
   ],
   "source": [
    "string.split('\\n')\n",
    "# if we split the string on the new line \n",
    "# i get 2,3 strings with the client id and an empty "
   ]
  },
  {
   "cell_type": "code",
   "execution_count": 6,
   "id": "8df76398",
   "metadata": {},
   "outputs": [],
   "source": [
    "secrets_dict={}\n",
    "for line in string.split('\\n'):\n",
    "    if len(line) > 0:\n",
    "        secrets_dict[line.split(':')[0]]=line.split(':')[1]"
   ]
  },
  {
   "cell_type": "code",
   "execution_count": 7,
   "id": "ecf9f441",
   "metadata": {},
   "outputs": [
    {
     "data": {
      "text/plain": [
       "{'clientid': 'dce6d8a52c174cfb9b34e5ac1976f60f',\n",
       " 'clientsecret': '3a685d939cf94ad0a891a3867314204b'}"
      ]
     },
     "execution_count": 7,
     "metadata": {},
     "output_type": "execute_result"
    }
   ],
   "source": [
    "secrets_dict"
   ]
  },
  {
   "cell_type": "code",
   "execution_count": 8,
   "id": "d556f35f",
   "metadata": {},
   "outputs": [],
   "source": [
    "import spotipy\n",
    "from spotipy.oauth2 import SpotifyClientCredentials\n",
    "\n",
    "#Initialize SpotiPy with user credentials\n",
    "sp = spotipy.Spotify(auth_manager=SpotifyClientCredentials(client_id=secrets_dict['clientid'],\n",
    "                                                           client_secret=secrets_dict['clientsecret']))"
   ]
  },
  {
   "cell_type": "code",
   "execution_count": 9,
   "id": "fa14ef69",
   "metadata": {},
   "outputs": [],
   "source": [
    "import numpy as np\n",
    "import pandas as pd\n",
    "import json"
   ]
  },
  {
   "cell_type": "code",
   "execution_count": 10,
   "id": "3327d00f",
   "metadata": {},
   "outputs": [],
   "source": [
    "playlist1 = sp.user_playlist_tracks(\"spotify\", '37i9dQZF1DWSV3Tk4GO2fq')\n",
    "playlist2 = sp.user_playlist_tracks(\"spotify\", '3SbE5Sk5MWtNc0GRTU0X6d')\n",
    "playlist3 = sp.user_playlist_tracks(\"spotify\", '37i9dQZF1DX1Hya1sRqqxI')\n",
    "playlist4 = sp.user_playlist_tracks(\"spotify\", '37i9dQZF1DXb57FjYWz00c')\n",
    "playlist5 = sp.user_playlist_tracks(\"spotify\", '37i9dQZF1DXbTxeAdrVG2l')\n",
    "playlist6 = sp.user_playlist_tracks(\"spotify\", '37i9dQZF1DX4o1oenSJRJd')\n",
    "playlist7 = sp.user_playlist_tracks(\"spotify\", '37i9dQZF1DX5Ejj0EkURtP')\n",
    "playlist8 = sp.user_playlist_tracks(\"spotify\", '4vSTV61efRmetmaoz95Vet')\n",
    "playlist9 = sp.user_playlist_tracks(\"spotify\", '23HsgHgvpjludlObYNpA1S')\n",
    "playlist10 = sp.user_playlist_tracks(\"spotify\", '0JiVp7Z0pYKI8diUV6HJyQ')\n",
    "playlist11 = sp.user_playlist_tracks(\"spotify\", '37i9dQZF1DWZNJXX2UeBij')\n",
    "playlist12 = sp.user_playlist_tracks(\"spotify\", '37i9dQZF1DWTmvXBN4DgpA')"
   ]
  },
  {
   "cell_type": "code",
   "execution_count": 11,
   "id": "c132871a",
   "metadata": {},
   "outputs": [],
   "source": [
    "def get_artist(put_the_playlist):\n",
    "    \n",
    "    artist_1 =[]\n",
    "    for i in range (len(put_the_playlist[\"items\"])):\n",
    "         artist_1.append(put_the_playlist[\"items\"][i]['track']['artists'][0]['name']) \n",
    "\n",
    "    artist_list1 = []\n",
    "    for word in artist_1:\n",
    "        if word not in artist_list1:\n",
    "            artist_list1.append(word)  \n",
    "\n",
    "    return artist_list1"
   ]
  },
  {
   "cell_type": "code",
   "execution_count": 12,
   "id": "dd84899f",
   "metadata": {},
   "outputs": [],
   "source": [
    "artist_list = get_artist(playlist1) + get_artist(playlist2) + get_artist(playlist3) + get_artist(playlist4) + get_artist(playlist5) + get_artist(playlist6) + get_artist(playlist7) + get_artist(playlist8) + get_artist(playlist9) + get_artist(playlist10) + get_artist(playlist11) + get_artist(playlist12)\n"
   ]
  },
  {
   "cell_type": "code",
   "execution_count": 13,
   "id": "2b4cae82",
   "metadata": {},
   "outputs": [],
   "source": [
    "my_artists = []\n",
    "for word in artist_list:\n",
    "    if word not in my_artists:\n",
    "        my_artists.append(word)"
   ]
  },
  {
   "cell_type": "code",
   "execution_count": 14,
   "id": "7ce82686",
   "metadata": {},
   "outputs": [
    {
     "name": "stdout",
     "output_type": "stream",
     "text": [
      "['Elvis Presley', 'Frank Sinatra', 'The Platters', 'Ray Charles', 'Louis Armstrong', 'Buddy Holly', 'Chuck Berry', 'Ritchie Valens', 'Jerry Lee Lewis', 'Bobby Darin', 'Nat King Cole', 'The Everly Brothers', 'Ella Fitzgerald', 'Harry Belafonte', 'Chet Baker', 'Little Richard', 'Dinah Washington', 'Dean Martin', 'Paul Anka', 'Billie Holiday', 'Bill Haley & His Comets', 'The Flamingos', 'Peggy Lee', 'Muddy Waters', 'Eddie Cochran', 'Louis Prima', 'Fats Domino', 'Bobby Day', 'Dion & The Belmonts', 'Barrett Strong', 'Neil Sedaka', 'The Coasters', 'The Del-Vikings', 'Pat Boone', 'Jackie Wilson', 'Sam Cooke', 'Perry Como', 'The Penguins', 'Danny & The Juniors', 'The Isley Brothers', 'Doris Day', 'Carl Perkins', 'The Crew Cuts', 'The Clovers', 'The Diamonds', 'Tommy Edwards', 'The Big Bopper', 'Percy Faith & His Orchestra', 'The Fleetwoods', 'Johnny Mathis', 'Conway Twitty', 'The Chordettes', 'Frankie Lymon', 'The Five Satins', 'The Animals', 'The Rolling Stones', 'Ben E. King', 'Creedence Clearwater Revival', 'Big Blanco', 'The Mamas & The Papas', 'The Beatles', 'Shocking Blue', 'Etta James', 'Nina Simone', 'David Bowie', 'Solomon Burke', 'Marvin Gaye', 'The Ronettes', 'The Archies', 'James Brown & The Famous Flames', 'Engelbert Humperdinck', 'Frankie Valli', 'The Foundations', 'Neil Diamond', 'B.J. Thomas', 'The Seekers', 'Dion', 'Procol Harum', 'Led Zeppelin', 'Chubby Checker', 'The Backstage Beatles', 'Johnny Cash', 'Gerry & The Pacemakers', 'Aretha Franklin', 'The Doors', 'Patsy Cline', 'Simon & Garfunkel', 'Van Morrison', 'Born For Bliss', 'Buffalo Springfield', 'The Tokens', 'The Ventures', 'Elton John', 'The Trashmen', 'Cream', 'Scott McKenzie', 'Skeeter Davis', 'Bob Dylan', 'Diana Ross & The Supremes', 'Steppenwolf', 'The Band', 'John Denver', 'Tom Jones', 'The Cascades', 'Stevie Wonder', 'The Zombies', 'Zager & Evans', 'Jeannie C. Riley', 'Bee Gees', 'John Travolta', 'Earth, Wind & Fire', 'The Jacksons', 'Gloria Gaynor', 'Queen', 'The Trammps', 'Sister Sledge', 'John Paul Young', 'Billy Ocean', 'ABBA', 'Barry White', 'Frankie Valli & The Four Seasons', 'The Emotions', 'KC & The Sunshine Band', 'The Jackson 5', 'Donna Summer', 'CHIC', 'Wild Cherry', 'Village People', 'AC/DC', 'KISS', 'Lynyrd Skynyrd', 'TOTO', 'Fleetwood Mac', 'Eagles', 'Stealers Wheel', 'Edison Lighthouse', 'Michael Jackson', 'Thin Lizzy', 'Boney M.', 'King Harvest', 'The Doobie Brothers', 'Patrick Hernandez', 'Free', 'Rod Stewart', 'Hot Chocolate', \"The O'Jays\", 'Curtis Mayfield', 'Jackson Browne', 'The Bellamy Brothers', 'Grand Funk Railroad', 'Candi Staton', 'Alice Cooper', 'Chris Norman', 'War', 'Sly & The Family Stone', 'Carl Douglas', 'Don McLean', 'The Spinners', 'Jim Croce', 'Hues Corporation', 'Steve Miller Band', 'Cheryl Lynn', 'Todd Rundgren', 'Blondie', 'Steve Harley', 'The Buggles', 'Boz Scaggs', 'Steely Dan', 'Lynn Anderson', 'Deep Purple', 'Gary Glitter', 'T. Rex', 'Three Dog Night', 'Kool & The Gang', 'Billy Preston', 'Sylvester', 'Carpenters', 'a-ha', 'Michael Sembello', 'Eurythmics', 'Journey', 'Tears For Fears', 'Kenny Loggins', 'Men At Work', 'Soft Cell', 'Bryan Adams', 'Whitney Houston', 'Simple Minds', 'Cyndi Lauper', 'Daryl Hall & John Oates', 'Bon Jovi', 'Starship', 'Bonnie Tyler', 'Rick Astley', 'Lipps Inc.', 'Kim Carnes', 'Wham!', 'New Order', 'The Human League', 'Matthew Wilder', 'Van Halen', 'UB40', 'Culture Club', 'Belinda Carlisle', 'Phil Collins', 'Philip Bailey', 'The Pointer Sisters', 'Dire Straits', 'The Proclaimers', 'Pet Shop Boys', 'Survivor', 'Huey Lewis & The News', 'Eric Carmen', 'Taylor Dayne', 'Duran Duran', 'Paul Simon', 'Billy Joel', 'Fine Young Cannibals', 'Katrina & The Waves', 'Lionel Richie', 'The Cure', 'U2', 'Genesis', 'Run–D.M.C.', 'Dexys Midnight Runners', 'INXS', 'Dead Or Alive', 'Don Henley', 'Prince', 'Tina Turner', 'Depeche Mode', 'Billy Idol', 'Men Without Hats', 'Kim Wilde', 'Madonna', 'Deniece Williams', 'George Michael', 'Madness', 'Tiffany', 'Irene Cara', 'George Harrison', 'Frankie Goes To Hollywood', 'The Police', 'Cameo', 'Spandau Ballet', 'Whitesnake', 'Steve Winwood', 'Chaka Khan', 'Erasure', \"The B-52's\", 'Nena', 'The Communards', 'Phil Oakey', 'Luther Vandross', 'Joy Division', 'Four Tops', 'Boy Meets Girl', 'Tight Fit', 'Diana Ross', 'Womack & Womack', 'The Stranglers', 'Spice Girls', 'Backstreet Boys', 'Mariah Carey', 'Roxette', 'Coolio', 'Radiohead', 'Dr. Dre', 'R.E.M.', 'The Goo Goo Dolls', 'Red Hot Chili Peppers', 'The Cranberries', 'blink-182', 'The Offspring', 'Green Day', '4 Non Blondes', \"Guns N' Roses\", 'Gala', 'The Verve', 'TLC', 'Scorpions', 'Blur', 'Mazzy Star', 'Nirvana', 'Britney Spears', 'Smash Mouth', 'Shaggy', 'Chris Isaak', 'Sixpence None The Richer', 'Counting Crows', 'Blackstreet', 'Shania Twain', 'Sublime', 'Oasis', 'Cher', 'Soundgarden', 'Eminem', 'Fugees', 'The Smashing Pumpkins', 'No Doubt', 'Foo Fighters', 'Pearl Jam', 'Lou Bega', 'Metallica', 'Alice Deejay', 'Mark Morrison', 'Blind Melon', 'Aqua', 'Fools Garden', 'Natalie Imbruglia', 'Warren G', 'Aerosmith', 'Céline Dion', 'Luniz', 'Vengaboys', 'The Cardigans', 'The Notorious B.I.G.', 'Ricky Martin', 'New Radicals', 'Ace of Base', 'Ms. Lauryn Hill', 'Lenny Kravitz', 'Weezer', 'Cypress Hill', 'Dido', 'Savage Garden', 'Robbie Williams', '2Pac', 'Daft Punk', 'MC Hammer', 'Third Eye Blind', 'Seal', 'Black Eyed Peas', '50 Cent', 'Lady Gaga', 'Rihanna', 'Shakira', 'Usher', 'Mary J. Blige', 'Gnarls Barkley', 'JAY-Z', 'Maroon 5', 'Coldplay', 'The Killers', 'Linkin Park', 'The White Stripes', 'Gorillaz', 'Nelly Furtado', 'Foster The People', 'The Game', 'Daddy Yankee', 'Outkast', 'Train', 'Evanescence', 'Timbaland', 'Kesha', 'Flo Rida', 'Kings of Leon', 'Akon', 'Hoobastank', 'Taio Cruz', 'Papa Roach', 'Snow Patrol', 'Jimmy Eat World', 'Alicia Keys', 'Kendrick Lamar', 'Amy Winehouse', 'The Fray', 'Nickelback', 'Stromae', 'Avril Lavigne', 'Sean Paul', 'Franz Ferdinand', \"Plain White T's\", 'Empire of the Sun', 'Beyoncé', 't.A.T.u.', 'Owl City', 'Justin Timberlake', 'Bruno Mars', 'Sean Kingston', 'Nelly', 'Jay Sean', 'My Chemical Romance', 'Fall Out Boy', 'Taylor Swift', 'Ne-Yo', 'Toploader', 'P!nk', 'MGMT', 'Soulja Boy', 'Modjo', \"Destiny's Child\", 'Snoop Dogg', 'Avicii', 'Justin Bieber', 'Ellie Goulding', 'Ed Sheeran', 'The Chainsmokers', 'Sam Smith', 'Post Malone', 'Khalid', 'Tom Odell', 'The Neighbourhood', 'The Weeknd', 'Miguel', 'Billie Eilish', 'Harry Styles', 'J. Cole', 'J Balvin', 'Imagine Dragons', 'Calvin Harris', 'Arctic Monkeys', 'One Direction', 'Lewis Capaldi', 'Shawn Mendes', 'Frank Ocean', 'Juice WRLD', 'Alec Benjamin', 'Gesaffelstein', 'John Legend', 'Drake', 'Måneskin', 'Ariana Grande', 'Lil Baby', 'Jaymes Young', 'Twenty One Pilots', 'Joji', 'Childish Gambino', 'Travis Scott', 'XXXTENTACION', 'Tame Impala', 'Bryson Tiller', 'DJ Snake', 'Cigarettes After Sex', 'Mark Ronson', 'WALK THE MOON', 'Sia', 'CKay', 'Marshmello', 'Lana Del Rey', 'Doja Cat', 'Capital Cities', 'Miley Cyrus', 'SZA', 'Metro Boomin', 'Powfu', 'RAYE', 'Steve Lacy', 'Olivia Rodrigo', 'Pop Smoke', 'Lil Nas X', 'David Guetta', 'Rema', 'Nicki Minaj', 'BLACKPINK', 'Cardi B', 'Jack Harlow', 'Dua Lipa', 'Giveon', 'LISA', 'BTS', 'Adele', 'Glass Animals', 'Internet Money', 'Future', '24kGoldn', 'Charlie Puth', 'GAYLE', 'DJ Khaled', 'Lizzo', 'The Kid LAROI', 'Camila Cabello', 'Selena Gomez', 'Anitta', 'Kali Uchis', 'Dove Cameron', 'Judy Garland', 'Édith Piaf', 'Charles Trenet', 'Stevie Nicks', 'M.I.A.', 'Florence + The Machine', \"Sinéad O'Connor\", 'Gotye', 'Missy Elliott', 'Benny Goodman', 'John Lennon', 'Tones And I', 'The Kinks', 'Vera Lynn', 'Tracy Chapman', 'The Beach Boys', 'Vanessa Carlton', 'The Smiths', 'Vance Joy', 'Carly Simon', 'The Shirelles', 'Electric Light Orchestra', 'Enya', 'Major Lazer', 'Pink Floyd', 'Macy Gray', 'James Arthur', 'Hozier', 'Lil Uzi Vert', 'OneRepublic', 'Passenger', 'Macklemore & Ryan Lewis', 'SAINt JHN', 'Alan Walker', 'Halsey', 'Mike Posner', 'Bad Bunny', 'Luis Fonsi', 'French Montana', 'Roddy Ricch', 'Wiz Khalifa', 'Lauv', 'Lukas Graham', 'Jason Mraz', 'DaBaby', 'Pritam', 'Atif Aslam', 'Salim–Sulaiman', 'Rashid Ali', 'A.R. Rahman', 'Madan Mohan', 'Sonu Nigam', 'Shankar-Ehsaan-Loy', 'Jatin-Lalit', 'Sukhwinder Singh', 'Monty Sharma', 'Suraj Jagan', 'KK', 'Vishal-Shekhar', 'Javed Ali', 'Mohit Chauhan', 'Shaan', 'Kailash Kher', 'Benny Dayal', 'Wajid', 'Rekha Bhardwaj', 'Sandesh Shandilya', \"Suzzane D'Mello\", 'Shankar', 'Himesh Reshammiya', 'Suzanne', 'Abhijeet', 'Alka Yagnik', 'Mithoon', 'Shankar Mahadevan', 'Udit Narayan', 'Sunidhi Chauhan', 'Adnan Sami', 'Raman Mahadevan', 'Mika Singh', 'Monali Thakur', 'Pinky', 'Kumar Sanu', 'Alisha Chinai', 'Kunal Ganjawala', 'Rahat Fateh Ali Khan', 'Jaspinder Narula', 'Kavita Krishnamurthy', 'Neeraj Shridhar', 'Danny Vera', 'Boudewijn de Groot', 'Golden Earring', 'Disturbed', 'DI-RECT', 'Bruce Springsteen', 'Meat Loaf', 'Racoon', 'Miss Montreal', 'Michael Kiwanuka', 'Klein Orkest', 'Rage Against The Machine', 'Supertramp', 'Kate Bush', 'Goldband', 'Wim Sonneveld', 'Paolo Nutini', 'Volbeat', 'Stef Bos', 'Floor Jansen', 'Muse', 'Nothing But Thieves', 'Kensington', 'Guus Meeuwis', 'The Alan Parsons Project', 'Liesbeth List', 'Rammstein']\n"
     ]
    }
   ],
   "source": [
    "print(my_artists)"
   ]
  },
  {
   "cell_type": "code",
   "execution_count": 19,
   "id": "dd6381bd",
   "metadata": {},
   "outputs": [],
   "source": [
    "artists = ['Elvis Presley', 'Frank Sinatra', 'The Platters', 'Ray Charles', 'Louis Armstrong', 'Buddy Holly', 'Chuck Berry', 'Jerry Lee Lewis', 'Ritchie Valens', 'Bobby Darin', 'Nat King Cole', 'The Everly Brothers', 'Ella Fitzgerald', 'Chet Baker', 'Harry Belafonte', 'Dinah Washington', 'Billie Holiday', 'Little Richard', 'Dean Martin', 'Paul Anka', 'Bill Haley & His Comets', 'The Flamingos', 'Peggy Lee', 'Louis Prima', 'Eddie Cochran', 'Muddy Waters', 'Fats Domino', 'Neil Sedaka', 'Dion & The Belmonts', 'Bobby Day', 'Barrett Strong', 'Pat Boone', 'The Del-Vikings', 'Jackie Wilson', 'Perry Como', 'The Coasters', 'Danny & The Juniors', 'The Penguins', 'The Isley Brothers', 'Sam Cooke', 'Doris Day', 'Carl Perkins', 'The Crew Cuts', 'Tommy Edwards', 'The Clovers', 'The Diamonds', 'The Big Bopper', 'Percy Faith & His Orchestra', 'Johnny Mathis', 'Conway Twitty', 'The Fleetwoods', 'The Chordettes', 'Frankie Lymon', 'The Animals', 'The Rolling Stones', 'Big Blanco', 'Ben E. King', 'Creedence Clearwater Revival', 'The Mamas & The Papas', 'The Beatles', 'Shocking Blue', 'Etta James', 'Nina Simone', 'Circle the Earth', 'David Bowie', 'Marvin Gaye', 'Solomon Burke', 'The Ronettes', 'The Archies', 'Engelbert Humperdinck', 'James Brown & The Famous Flames', 'Frankie Valli', 'The Foundations', 'Led Zeppelin', 'The Seekers', 'Dion', 'Procol Harum', 'Aretha Franklin', 'B.J. Thomas', 'Johnny Cash', 'The Backstage Beatles', 'Gerry & The Pacemakers', 'Neil Diamond', 'The Doors', 'Chubby Checker', 'Patsy Cline', 'Van Morrison', 'Born For Bliss', 'The Trashmen', 'Simon & Garfunkel', 'Buffalo Springfield', 'The Ventures', 'The Tokens', 'Elton John', 'Cream', 'Bob Dylan', 'Diana Ross & The Supremes', 'Skeeter Davis', 'Scott McKenzie', 'Steppenwolf', 'Tom Jones', 'John Denver', 'Roy Orbison', 'The Band', 'Zager & Evans', 'The Cascades', 'Jeannie C. Riley', 'Stevie Wonder', 'Bee Gees', 'John Travolta', 'Earth, Wind & Fire', 'The Jacksons', 'Gloria Gaynor', 'Queen', 'The Trammps', 'Sister Sledge', 'John Paul Young', 'Billy Ocean', 'ABBA', 'Barry White', 'Frankie Valli & The Four Seasons', 'The Emotions', 'KC & The Sunshine Band', 'The Jackson 5', 'Donna Summer', 'CHIC', 'Wild Cherry', 'Village People', 'AC/DC', 'KISS', 'Lynyrd Skynyrd', 'TOTO', 'Fleetwood Mac', 'Stealers Wheel', 'Eagles', 'Edison Lighthouse', 'Michael Jackson', 'Thin Lizzy', 'Boney M.', 'King Harvest', 'Patrick Hernandez', 'The Doobie Brothers', 'Free', 'Rod Stewart', 'Hot Chocolate', \"The O'Jays\", 'The Bellamy Brothers', 'Curtis Mayfield', 'Grand Funk Railroad', 'Candi Staton', 'Jackson Browne', 'Alice Cooper', 'Chris Norman', 'Sly & The Family Stone', 'War', 'Carl Douglas', 'Don McLean', 'The Spinners', 'Jim Croce', 'Steve Miller Band', 'Hues Corporation', 'Cheryl Lynn', 'Blondie', 'Steve Harley', 'Todd Rundgren', 'The Buggles', 'Steely Dan', 'Boz Scaggs', 'Deep Purple', 'Lynn Anderson', 'Three Dog Night', 'Billy Preston', 'T. Rex', 'Gary Glitter', 'Carpenters', 'Sylvester', 'a-ha', 'Michael Sembello', 'Eurythmics', 'Journey', 'Tears For Fears', 'Kenny Loggins', 'Men At Work', 'Soft Cell', 'Bryan Adams', 'Whitney Houston', 'Simple Minds', 'Cyndi Lauper', 'Daryl Hall & John Oates', 'Bon Jovi', 'Starship', 'Bonnie Tyler', 'Rick Astley', 'Lipps Inc.', 'Kim Carnes', 'Wham!', 'New Order', 'The Human League', 'Matthew Wilder', 'Van Halen', 'UB40', 'Culture Club', 'Belinda Carlisle', 'Phil Collins', 'Philip Bailey', 'The Pointer Sisters', 'Dire Straits', 'The Proclaimers', 'Pet Shop Boys', 'Survivor', 'Huey Lewis & The News', 'Eric Carmen', 'Taylor Dayne', 'Duran Duran', 'Paul Simon', 'Billy Joel', 'Fine Young Cannibals', 'Katrina & The Waves', 'Lionel Richie', 'The Cure', 'U2', 'Genesis', 'Run–D.M.C.', 'Dexys Midnight Runners', 'INXS', 'Dead Or Alive', 'Don Henley', 'Prince', 'Tina Turner', 'Depeche Mode', 'Billy Idol', 'Men Without Hats', 'Kim Wilde', 'Madonna', 'Kool & The Gang', 'Deniece Williams', 'George Michael', 'Madness', 'Tiffany', 'Irene Cara', 'George Harrison', 'Frankie Goes To Hollywood', 'The Police', 'Cameo', 'Spandau Ballet', 'Whitesnake', 'Steve Winwood', 'Chaka Khan', 'Erasure', \"The B-52's\", 'Nena', 'The Communards', 'Phil Oakey', 'Luther Vandross', 'Joy Division', 'Four Tops', 'Boy Meets Girl', 'Tight Fit', 'Diana Ross', 'Womack & Womack', 'The Stranglers', 'Spice Girls', 'Backstreet Boys', 'Mariah Carey', 'Roxette', 'Coolio', 'Radiohead', 'Dr. Dre', 'R.E.M.', 'The Goo Goo Dolls', 'Red Hot Chili Peppers', 'The Cranberries', 'blink-182', 'The Offspring', 'Green Day', '4 Non Blondes', \"Guns N' Roses\", 'Gala', 'The Verve', 'TLC', 'Scorpions', 'Blur', 'Mazzy Star', 'Britney Spears', 'Nirvana', 'Smash Mouth', 'Shaggy', 'Chris Isaak', 'Sixpence None The Richer', 'Counting Crows', 'Blackstreet', 'Shania Twain', 'Cher', 'Sublime', 'Oasis', 'Soundgarden', 'Fugees', 'Eminem', 'No Doubt', 'The Smashing Pumpkins', 'Lou Bega', 'Foo Fighters', 'Pearl Jam', 'Alice Deejay', 'Metallica', 'Mark Morrison', 'Blind Melon', 'Natalie Imbruglia', 'Fools Garden', 'Aqua', 'Aerosmith', 'Warren G', 'Céline Dion', 'Luniz', 'Vengaboys', 'The Cardigans', 'The Notorious B.I.G.', 'Ricky Martin', 'Ace of Base', 'New Radicals', 'Ms. Lauryn Hill', 'Lenny Kravitz', 'Weezer', 'Cypress Hill', 'Savage Garden', 'Dido', 'Robbie Williams', '2Pac', 'MC Hammer', 'Daft Punk', 'Third Eye Blind', 'Seal', 'Black Eyed Peas', '50 Cent', 'Lady Gaga', 'Rihanna', 'Shakira', 'Usher', 'Mary J. Blige', 'Gnarls Barkley', 'JAY-Z', 'Maroon 5', 'Coldplay', 'The Killers', 'Linkin Park', 'The White Stripes', 'Gorillaz', 'Nelly Furtado', 'Foster The People', 'The Game', 'Daddy Yankee', 'Outkast', 'Timbaland', 'Evanescence', 'Train', 'Kesha', 'Flo Rida', 'Akon', 'Kings of Leon', 'Hoobastank', 'Taio Cruz', 'Papa Roach', 'Snow Patrol', 'Jimmy Eat World', 'Alicia Keys', 'Kendrick Lamar', 'Amy Winehouse', 'Nickelback', 'The Fray', 'Stromae', 'Sean Paul', 'Avril Lavigne', 'Franz Ferdinand', \"Plain White T's\", 'Empire of the Sun', 'Beyoncé', 't.A.T.u.', 'Owl City', 'Justin Timberlake', 'Bruno Mars', 'Nelly', 'Sean Kingston', 'Jay Sean', 'My Chemical Romance', 'Fall Out Boy', 'Ne-Yo', 'Taylor Swift', 'Toploader', 'P!nk', 'MGMT', 'Soulja Boy', 'Modjo', \"Destiny's Child\", 'Snoop Dogg', 'Avicii', 'Justin Bieber', 'Ellie Goulding', 'Ed Sheeran', 'The Chainsmokers', 'Sam Smith', 'Post Malone', 'Khalid', 'Tom Odell', 'The Neighbourhood', 'The Weeknd', 'Miguel', 'Billie Eilish', 'Harry Styles', 'J Balvin', 'J. Cole', 'Calvin Harris', 'Imagine Dragons', 'Arctic Monkeys', 'One Direction', 'Lewis Capaldi', 'Shawn Mendes', 'Frank Ocean', 'Alec Benjamin', 'Drake', 'Gesaffelstein', 'Juice WRLD', 'Måneskin', 'John Legend', 'Ariana Grande', 'Lil Baby', 'Jaymes Young', 'Joji', 'Twenty One Pilots', 'Childish Gambino', 'XXXTENTACION', 'Travis Scott', 'Tame Impala', 'Bryson Tiller', 'DJ Snake', 'Cigarettes After Sex', 'Mark Ronson', 'CKay', 'WALK THE MOON', 'Marshmello', 'Doja Cat', 'Sia', 'Lana Del Rey', 'Meghan Trainor', 'Capital Cities', 'SZA', 'Metro Boomin', 'Powfu', 'RAYE', 'Steve Lacy', 'Olivia Rodrigo', 'Pop Smoke', 'Lil Nas X', 'David Guetta', 'Rema', 'Nicki Minaj', 'BLACKPINK', 'Cardi B', 'Jack Harlow', 'Dua Lipa', 'Giveon', 'LISA', 'BTS', 'Adele', 'Glass Animals', 'Internet Money', 'Future', '24kGoldn', 'Charlie Puth', 'GAYLE', 'DJ Khaled', 'Lizzo', 'Miley Cyrus', 'The Kid LAROI', 'Camila Cabello', 'Selena Gomez', 'Anitta', 'Kali Uchis', 'Dove Cameron', 'Judy Garland', 'Édith Piaf', 'Charles Trenet', 'Stevie Nicks', 'M.I.A.', 'Florence + The Machine', \"Sinéad O'Connor\", 'Gotye', 'Missy Elliott', 'Benny Goodman', 'John Lennon', 'Tones And I', 'The Kinks', 'Vera Lynn', 'Tracy Chapman', 'The Beach Boys', 'Vanessa Carlton', 'The Smiths', 'Vance Joy', 'Carly Simon', 'The Shirelles', 'Electric Light Orchestra', 'Enya', 'Major Lazer', 'Pink Floyd', 'Macy Gray', 'James Arthur', 'Hozier', 'Lil Uzi Vert', 'OneRepublic', 'Passenger', 'Macklemore & Ryan Lewis', 'SAINt JHN', 'Alan Walker', 'Halsey', 'Mike Posner', 'Bad Bunny', 'Luis Fonsi', 'French Montana', 'Roddy Ricch', 'Wiz Khalifa', 'Lauv', 'Lukas Graham', 'Jason Mraz', 'DaBaby', 'Pritam', 'Atif Aslam', 'Salim–Sulaiman', 'Rashid Ali', 'A.R. Rahman', 'Madan Mohan', 'Shankar-Ehsaan-Loy', 'Sonu Nigam', 'Jatin-Lalit', 'Sukhwinder Singh', 'Monty Sharma', 'Suraj Jagan', 'KK', 'Vishal-Shekhar', 'Mohit Chauhan', 'Javed Ali', 'Shaan', 'Kailash Kher', 'Wajid', 'Rekha Bhardwaj', 'Benny Dayal', 'Sandesh Shandilya', \"Suzzane D'Mello\", 'Shankar', 'Himesh Reshammiya', 'Suzanne', 'Abhijeet', 'Alka Yagnik', 'Mithoon', 'Shankar Mahadevan', 'Sunidhi Chauhan', 'Udit Narayan', 'Adnan Sami', 'Raman Mahadevan', 'Mika Singh', 'Monali Thakur', 'Pinky', 'Kumar Sanu', 'Alisha Chinai', 'Rahat Fateh Ali Khan', 'Kunal Ganjawala', 'Jaspinder Narula', 'Manak-E', 'Neeraj Shridhar', 'Danny Vera', 'Boudewijn de Groot', 'Golden Earring', 'Disturbed', 'DI-RECT', 'Bruce Springsteen', 'Meat Loaf', 'Racoon', 'Miss Montreal', 'Michael Kiwanuka', 'Klein Orkest', 'Rage Against The Machine', 'Supertramp', 'Kate Bush', 'Goldband', 'Wim Sonneveld', 'Paolo Nutini', 'Volbeat', 'Stef Bos', 'Floor Jansen', 'Muse', 'Nothing But Thieves', 'Kensington', 'Guus Meeuwis', 'The Alan Parsons Project', 'Liesbeth List', 'Rammstein']\n"
   ]
  },
  {
   "cell_type": "code",
   "execution_count": 20,
   "id": "792f0630",
   "metadata": {},
   "outputs": [
    {
     "data": {
      "text/plain": [
       "594"
      ]
     },
     "execution_count": 20,
     "metadata": {},
     "output_type": "execute_result"
    }
   ],
   "source": [
    "len(artists)"
   ]
  },
  {
   "cell_type": "code",
   "execution_count": 27,
   "id": "9e331e1a",
   "metadata": {},
   "outputs": [],
   "source": [
    "from random import randint\n",
    "from time import sleep"
   ]
  },
  {
   "cell_type": "code",
   "execution_count": 28,
   "id": "dc957689",
   "metadata": {},
   "outputs": [],
   "source": [
    "my_3_tracks = []\n",
    "\n",
    "for artist in artists:\n",
    "    my_3_tracks.append(sp.search(q=artist, limit=10))\n",
    "#     sleep(randint(1,3))"
   ]
  },
  {
   "cell_type": "code",
   "execution_count": 18,
   "id": "66ca942a",
   "metadata": {},
   "outputs": [],
   "source": [
    "# my_3_tracks = []\n",
    "\n",
    "# for artist in artists:   \n",
    "#     my_3_tracks.append(sp.search(q=artist, limit=10))"
   ]
  },
  {
   "cell_type": "code",
   "execution_count": 29,
   "id": "57e96159",
   "metadata": {},
   "outputs": [],
   "source": [
    "# range differs according to artist count\n",
    "songs_30 = []\n",
    "songs_30_uri = []\n",
    "songs_30_url = []\n",
    "for i in range(594):\n",
    "    for j in range(10):\n",
    "        songs_30.append(my_3_tracks[i]['tracks']['items'][j]['name'])\n",
    "        songs_30_uri.append(my_3_tracks[i]['tracks']['items'][j]['uri'])\n",
    "        songs_30_url.append(my_3_tracks[i]['tracks']['items'][j]['external_urls']['spotify'])"
   ]
  },
  {
   "cell_type": "code",
   "execution_count": 30,
   "id": "1b64d11e",
   "metadata": {},
   "outputs": [],
   "source": [
    "songs_30_artists = []\n",
    "for i in range(len(artists)):\n",
    "    j = 10\n",
    "    while j != 0:\n",
    "        songs_30_artists.append(artists[i])\n",
    "        j-=1"
   ]
  },
  {
   "cell_type": "code",
   "execution_count": 31,
   "id": "68a429b7",
   "metadata": {},
   "outputs": [],
   "source": [
    "# range len artist * 10\n",
    "songs_30_features = []\n",
    "for i in range(5940):\n",
    "    songs_30_features.append(sp.audio_features(songs_30_uri[i]))"
   ]
  },
  {
   "cell_type": "code",
   "execution_count": 32,
   "id": "f9d19d15",
   "metadata": {},
   "outputs": [],
   "source": [
    "def flatten(input_list):\n",
    "    return [item for sublist in input_list for item in sublist]"
   ]
  },
  {
   "cell_type": "code",
   "execution_count": 33,
   "id": "ebb362f6",
   "metadata": {},
   "outputs": [],
   "source": [
    "songs_30_features = flatten(songs_30_features)"
   ]
  },
  {
   "cell_type": "code",
   "execution_count": 34,
   "id": "463f9ff3",
   "metadata": {},
   "outputs": [],
   "source": [
    "artist_3_song_30 = pd.DataFrame({'title':songs_30,'artist':songs_30_artists,'url':songs_30_url,'features':songs_30_features})\n"
   ]
  },
  {
   "cell_type": "code",
   "execution_count": 35,
   "id": "94213ce7",
   "metadata": {},
   "outputs": [],
   "source": [
    "ftr = pd.json_normalize(artist_3_song_30.features)\n",
    "ftr.columns = [f'features_{col}' for col in ftr.columns]"
   ]
  },
  {
   "cell_type": "code",
   "execution_count": 36,
   "id": "962d240d",
   "metadata": {},
   "outputs": [],
   "source": [
    "artist3_song30 = pd.concat([artist_3_song_30, ftr], axis=1)\n",
    "cleaned_1 = artist3_song30.drop(columns=['features', 'features_uri', 'features_track_href' , 'features_analysis_url', 'features_id'])\n"
   ]
  },
  {
   "cell_type": "code",
   "execution_count": 37,
   "id": "28b7c5f9",
   "metadata": {},
   "outputs": [
    {
     "data": {
      "text/plain": [
       "title                        4987\n",
       "artist                        594\n",
       "url                          5730\n",
       "features_danceability         781\n",
       "features_energy               964\n",
       "features_key                   12\n",
       "features_loudness            4494\n",
       "features_mode                   2\n",
       "features_speechiness         1020\n",
       "features_acousticness        2167\n",
       "features_instrumentalness    2323\n",
       "features_liveness            1176\n",
       "features_valence              997\n",
       "features_tempo               5268\n",
       "features_type                   1\n",
       "features_duration_ms         5000\n",
       "features_time_signature         5\n",
       "dtype: int64"
      ]
     },
     "execution_count": 37,
     "metadata": {},
     "output_type": "execute_result"
    }
   ],
   "source": [
    "cleaned_1.nunique()"
   ]
  },
  {
   "cell_type": "code",
   "execution_count": 38,
   "id": "5013309c",
   "metadata": {},
   "outputs": [
    {
     "data": {
      "text/plain": [
       "(5940, 17)"
      ]
     },
     "execution_count": 38,
     "metadata": {},
     "output_type": "execute_result"
    }
   ],
   "source": [
    "cleaned_1.shape"
   ]
  },
  {
   "cell_type": "code",
   "execution_count": 39,
   "id": "ebbf817b",
   "metadata": {},
   "outputs": [],
   "source": [
    "cleaned_1 = cleaned_1.drop_duplicates(subset=['title'])\n"
   ]
  },
  {
   "cell_type": "code",
   "execution_count": 40,
   "id": "e55465ba",
   "metadata": {},
   "outputs": [
    {
     "data": {
      "text/plain": [
       "title                        0\n",
       "artist                       0\n",
       "url                          0\n",
       "features_danceability        0\n",
       "features_energy              0\n",
       "features_key                 0\n",
       "features_loudness            0\n",
       "features_mode                0\n",
       "features_speechiness         0\n",
       "features_acousticness        0\n",
       "features_instrumentalness    0\n",
       "features_liveness            0\n",
       "features_valence             0\n",
       "features_tempo               0\n",
       "features_type                0\n",
       "features_duration_ms         0\n",
       "features_time_signature      0\n",
       "dtype: int64"
      ]
     },
     "execution_count": 40,
     "metadata": {},
     "output_type": "execute_result"
    }
   ],
   "source": [
    "cleaned_1.isna().sum()\n"
   ]
  },
  {
   "cell_type": "code",
   "execution_count": 41,
   "id": "c703f63c",
   "metadata": {},
   "outputs": [],
   "source": [
    "cleaned_1.to_csv('test3.csv', index = False)"
   ]
  },
  {
   "cell_type": "code",
   "execution_count": 42,
   "id": "0e1b5592",
   "metadata": {},
   "outputs": [
    {
     "data": {
      "text/html": [
       "<div>\n",
       "<style scoped>\n",
       "    .dataframe tbody tr th:only-of-type {\n",
       "        vertical-align: middle;\n",
       "    }\n",
       "\n",
       "    .dataframe tbody tr th {\n",
       "        vertical-align: top;\n",
       "    }\n",
       "\n",
       "    .dataframe thead th {\n",
       "        text-align: right;\n",
       "    }\n",
       "</style>\n",
       "<table border=\"1\" class=\"dataframe\">\n",
       "  <thead>\n",
       "    <tr style=\"text-align: right;\">\n",
       "      <th></th>\n",
       "      <th>title</th>\n",
       "      <th>artist</th>\n",
       "      <th>url</th>\n",
       "      <th>features_danceability</th>\n",
       "      <th>features_energy</th>\n",
       "      <th>features_key</th>\n",
       "      <th>features_loudness</th>\n",
       "      <th>features_mode</th>\n",
       "      <th>features_speechiness</th>\n",
       "      <th>features_acousticness</th>\n",
       "      <th>features_instrumentalness</th>\n",
       "      <th>features_liveness</th>\n",
       "      <th>features_valence</th>\n",
       "      <th>features_tempo</th>\n",
       "      <th>features_type</th>\n",
       "      <th>features_duration_ms</th>\n",
       "      <th>features_time_signature</th>\n",
       "    </tr>\n",
       "  </thead>\n",
       "  <tbody>\n",
       "    <tr>\n",
       "      <th>0</th>\n",
       "      <td>Blue Christmas</td>\n",
       "      <td>Elvis Presley</td>\n",
       "      <td>https://open.spotify.com/track/3QiAAp20rPC3dcA...</td>\n",
       "      <td>0.465</td>\n",
       "      <td>0.270</td>\n",
       "      <td>4.0</td>\n",
       "      <td>-16.661</td>\n",
       "      <td>1.0</td>\n",
       "      <td>0.0425</td>\n",
       "      <td>0.900</td>\n",
       "      <td>0.001040</td>\n",
       "      <td>0.1450</td>\n",
       "      <td>0.580</td>\n",
       "      <td>94.518</td>\n",
       "      <td>audio_features</td>\n",
       "      <td>129173.0</td>\n",
       "      <td>4.0</td>\n",
       "    </tr>\n",
       "    <tr>\n",
       "      <th>1</th>\n",
       "      <td>Can't Help Falling in Love</td>\n",
       "      <td>Elvis Presley</td>\n",
       "      <td>https://open.spotify.com/track/44AyOl4qVkzS48v...</td>\n",
       "      <td>0.396</td>\n",
       "      <td>0.293</td>\n",
       "      <td>2.0</td>\n",
       "      <td>-14.062</td>\n",
       "      <td>1.0</td>\n",
       "      <td>0.0275</td>\n",
       "      <td>0.941</td>\n",
       "      <td>0.000196</td>\n",
       "      <td>0.1050</td>\n",
       "      <td>0.343</td>\n",
       "      <td>100.307</td>\n",
       "      <td>audio_features</td>\n",
       "      <td>182360.0</td>\n",
       "      <td>3.0</td>\n",
       "    </tr>\n",
       "    <tr>\n",
       "      <th>2</th>\n",
       "      <td>Jailhouse Rock</td>\n",
       "      <td>Elvis Presley</td>\n",
       "      <td>https://open.spotify.com/track/452KBpASS5lZLeJ...</td>\n",
       "      <td>0.623</td>\n",
       "      <td>0.537</td>\n",
       "      <td>10.0</td>\n",
       "      <td>-10.014</td>\n",
       "      <td>0.0</td>\n",
       "      <td>0.0726</td>\n",
       "      <td>0.332</td>\n",
       "      <td>0.000014</td>\n",
       "      <td>0.0963</td>\n",
       "      <td>0.905</td>\n",
       "      <td>166.885</td>\n",
       "      <td>audio_features</td>\n",
       "      <td>146933.0</td>\n",
       "      <td>4.0</td>\n",
       "    </tr>\n",
       "    <tr>\n",
       "      <th>3</th>\n",
       "      <td>Here Comes Santa Claus (Right Down Santa Claus...</td>\n",
       "      <td>Elvis Presley</td>\n",
       "      <td>https://open.spotify.com/track/7n7VsX3sv66znBw...</td>\n",
       "      <td>0.575</td>\n",
       "      <td>0.236</td>\n",
       "      <td>2.0</td>\n",
       "      <td>-16.982</td>\n",
       "      <td>1.0</td>\n",
       "      <td>0.0422</td>\n",
       "      <td>0.968</td>\n",
       "      <td>0.017800</td>\n",
       "      <td>0.1050</td>\n",
       "      <td>0.829</td>\n",
       "      <td>79.576</td>\n",
       "      <td>audio_features</td>\n",
       "      <td>115827.0</td>\n",
       "      <td>4.0</td>\n",
       "    </tr>\n",
       "    <tr>\n",
       "      <th>4</th>\n",
       "      <td>Hound Dog</td>\n",
       "      <td>Elvis Presley</td>\n",
       "      <td>https://open.spotify.com/track/64Ny7djQ6rNJspq...</td>\n",
       "      <td>0.494</td>\n",
       "      <td>0.756</td>\n",
       "      <td>0.0</td>\n",
       "      <td>-8.492</td>\n",
       "      <td>1.0</td>\n",
       "      <td>0.0499</td>\n",
       "      <td>0.733</td>\n",
       "      <td>0.005050</td>\n",
       "      <td>0.7600</td>\n",
       "      <td>0.949</td>\n",
       "      <td>86.895</td>\n",
       "      <td>audio_features</td>\n",
       "      <td>136027.0</td>\n",
       "      <td>4.0</td>\n",
       "    </tr>\n",
       "  </tbody>\n",
       "</table>\n",
       "</div>"
      ],
      "text/plain": [
       "                                               title         artist  \\\n",
       "0                                     Blue Christmas  Elvis Presley   \n",
       "1                         Can't Help Falling in Love  Elvis Presley   \n",
       "2                                     Jailhouse Rock  Elvis Presley   \n",
       "3  Here Comes Santa Claus (Right Down Santa Claus...  Elvis Presley   \n",
       "4                                          Hound Dog  Elvis Presley   \n",
       "\n",
       "                                                 url  features_danceability  \\\n",
       "0  https://open.spotify.com/track/3QiAAp20rPC3dcA...                  0.465   \n",
       "1  https://open.spotify.com/track/44AyOl4qVkzS48v...                  0.396   \n",
       "2  https://open.spotify.com/track/452KBpASS5lZLeJ...                  0.623   \n",
       "3  https://open.spotify.com/track/7n7VsX3sv66znBw...                  0.575   \n",
       "4  https://open.spotify.com/track/64Ny7djQ6rNJspq...                  0.494   \n",
       "\n",
       "   features_energy  features_key  features_loudness  features_mode  \\\n",
       "0            0.270           4.0            -16.661            1.0   \n",
       "1            0.293           2.0            -14.062            1.0   \n",
       "2            0.537          10.0            -10.014            0.0   \n",
       "3            0.236           2.0            -16.982            1.0   \n",
       "4            0.756           0.0             -8.492            1.0   \n",
       "\n",
       "   features_speechiness  features_acousticness  features_instrumentalness  \\\n",
       "0                0.0425                  0.900                   0.001040   \n",
       "1                0.0275                  0.941                   0.000196   \n",
       "2                0.0726                  0.332                   0.000014   \n",
       "3                0.0422                  0.968                   0.017800   \n",
       "4                0.0499                  0.733                   0.005050   \n",
       "\n",
       "   features_liveness  features_valence  features_tempo   features_type  \\\n",
       "0             0.1450             0.580          94.518  audio_features   \n",
       "1             0.1050             0.343         100.307  audio_features   \n",
       "2             0.0963             0.905         166.885  audio_features   \n",
       "3             0.1050             0.829          79.576  audio_features   \n",
       "4             0.7600             0.949          86.895  audio_features   \n",
       "\n",
       "   features_duration_ms  features_time_signature  \n",
       "0              129173.0                      4.0  \n",
       "1              182360.0                      3.0  \n",
       "2              146933.0                      4.0  \n",
       "3              115827.0                      4.0  \n",
       "4              136027.0                      4.0  "
      ]
     },
     "execution_count": 42,
     "metadata": {},
     "output_type": "execute_result"
    }
   ],
   "source": [
    "data = pd.read_csv('test3.csv')\n",
    "data.head()"
   ]
  },
  {
   "cell_type": "code",
   "execution_count": 43,
   "id": "10bf2b11",
   "metadata": {},
   "outputs": [],
   "source": [
    "# Lab | Unsupervised learning intro\n",
    "# Instructions\n",
    "# It's the moment to perform clustering on the songs you collected. \n",
    "#Remember that the ultimate goal of this little project is to \n",
    "#improve the recommendations of artists. Clustering the songs \n",
    "#will allow the recommendation system to limit the scope of \n",
    "#the recommendations to only songs that belong to the \n",
    "#same cluster - songs with similar audio features.\n",
    "\n",
    "# The experiments you did with the Spotify API and the \n",
    "#Billboard web scraping will allow you to create \n",
    "#a pipeline such that when the user enters a song, you:\n",
    "\n",
    "# Check whether or not the song is in the Billboard Hot 200.\n",
    "# Collect the audio features from the Spotify API.\n",
    "# After that, you want to send the Spotify audio features \n",
    "#of the submitted song to the clustering model, \n",
    "#which should return a cluster number.\n",
    "\n",
    "# We want to have as many songs as possible to create the \n",
    "#clustering model, so we will add the songs you collected \n",
    "#to a bigger dataset available on Kaggle containing 160 thousand songs."
   ]
  },
  {
   "cell_type": "code",
   "execution_count": 44,
   "id": "8d47d22b",
   "metadata": {},
   "outputs": [],
   "source": [
    "#  pipeline that takes a song name as input, \n",
    "#checks if it's in the Spotify playlist, \n",
    "#and then checks if it's in the Billboard Hot 200 list."
   ]
  },
  {
   "cell_type": "code",
   "execution_count": 45,
   "id": "882bc33d",
   "metadata": {},
   "outputs": [],
   "source": [
    "import spotipy\n",
    "from spotipy.oauth2 import SpotifyOAuth\n",
    "import requests\n",
    "import pandas as pd\n",
    "from bs4 import BeautifulSoup"
   ]
  },
  {
   "cell_type": "code",
   "execution_count": 46,
   "id": "f4b5ee12",
   "metadata": {},
   "outputs": [],
   "source": [
    "import pandas as pd\n",
    "import numpy as np\n",
    "\n",
    "# K-means\n",
    "from sklearn.cluster import KMeans\n",
    "\n",
    "import numpy as np\n",
    "import matplotlib.pyplot as plt\n",
    "\n",
    "from sklearn import cluster, datasets\n",
    "from matplotlib.lines import Line2D"
   ]
  },
  {
   "cell_type": "code",
   "execution_count": 47,
   "id": "662f0197",
   "metadata": {},
   "outputs": [
    {
     "data": {
      "text/html": [
       "<div>\n",
       "<style scoped>\n",
       "    .dataframe tbody tr th:only-of-type {\n",
       "        vertical-align: middle;\n",
       "    }\n",
       "\n",
       "    .dataframe tbody tr th {\n",
       "        vertical-align: top;\n",
       "    }\n",
       "\n",
       "    .dataframe thead th {\n",
       "        text-align: right;\n",
       "    }\n",
       "</style>\n",
       "<table border=\"1\" class=\"dataframe\">\n",
       "  <thead>\n",
       "    <tr style=\"text-align: right;\">\n",
       "      <th></th>\n",
       "      <th>title</th>\n",
       "      <th>artist</th>\n",
       "      <th>url</th>\n",
       "      <th>danceability</th>\n",
       "      <th>energy</th>\n",
       "      <th>key</th>\n",
       "      <th>loudness</th>\n",
       "      <th>mode</th>\n",
       "      <th>speechiness</th>\n",
       "      <th>acousticness</th>\n",
       "      <th>instrumentalness</th>\n",
       "      <th>liveness</th>\n",
       "      <th>valence</th>\n",
       "      <th>tempo</th>\n",
       "      <th>id</th>\n",
       "      <th>uri</th>\n",
       "      <th>track_href</th>\n",
       "      <th>analysis_url</th>\n",
       "      <th>duration_ms</th>\n",
       "      <th>time_signature</th>\n",
       "    </tr>\n",
       "  </thead>\n",
       "  <tbody>\n",
       "    <tr>\n",
       "      <th>0</th>\n",
       "      <td>Blue Christmas</td>\n",
       "      <td>Elvis Presley</td>\n",
       "      <td>https://open.spotify.com/track/3QiAAp20rPC3dcA...</td>\n",
       "      <td>0.465</td>\n",
       "      <td>0.270</td>\n",
       "      <td>4.0</td>\n",
       "      <td>-16.661</td>\n",
       "      <td>1.0</td>\n",
       "      <td>0.0425</td>\n",
       "      <td>0.900</td>\n",
       "      <td>0.001040</td>\n",
       "      <td>0.1450</td>\n",
       "      <td>0.580</td>\n",
       "      <td>94.518</td>\n",
       "      <td>3QiAAp20rPC3dcAtKtMaqQ</td>\n",
       "      <td>spotify:track:3QiAAp20rPC3dcAtKtMaqQ</td>\n",
       "      <td>https://api.spotify.com/v1/tracks/3QiAAp20rPC3...</td>\n",
       "      <td>https://api.spotify.com/v1/audio-analysis/3QiA...</td>\n",
       "      <td>129173.0</td>\n",
       "      <td>4.0</td>\n",
       "    </tr>\n",
       "    <tr>\n",
       "      <th>1</th>\n",
       "      <td>Can't Help Falling in Love</td>\n",
       "      <td>Elvis Presley</td>\n",
       "      <td>https://open.spotify.com/track/44AyOl4qVkzS48v...</td>\n",
       "      <td>0.396</td>\n",
       "      <td>0.293</td>\n",
       "      <td>2.0</td>\n",
       "      <td>-14.062</td>\n",
       "      <td>1.0</td>\n",
       "      <td>0.0275</td>\n",
       "      <td>0.941</td>\n",
       "      <td>0.000196</td>\n",
       "      <td>0.1050</td>\n",
       "      <td>0.343</td>\n",
       "      <td>100.307</td>\n",
       "      <td>44AyOl4qVkzS48vBsbNXaC</td>\n",
       "      <td>spotify:track:44AyOl4qVkzS48vBsbNXaC</td>\n",
       "      <td>https://api.spotify.com/v1/tracks/44AyOl4qVkzS...</td>\n",
       "      <td>https://api.spotify.com/v1/audio-analysis/44Ay...</td>\n",
       "      <td>182360.0</td>\n",
       "      <td>3.0</td>\n",
       "    </tr>\n",
       "    <tr>\n",
       "      <th>2</th>\n",
       "      <td>Jailhouse Rock</td>\n",
       "      <td>Elvis Presley</td>\n",
       "      <td>https://open.spotify.com/track/452KBpASS5lZLeJ...</td>\n",
       "      <td>0.623</td>\n",
       "      <td>0.537</td>\n",
       "      <td>10.0</td>\n",
       "      <td>-10.014</td>\n",
       "      <td>0.0</td>\n",
       "      <td>0.0726</td>\n",
       "      <td>0.332</td>\n",
       "      <td>0.000014</td>\n",
       "      <td>0.0963</td>\n",
       "      <td>0.905</td>\n",
       "      <td>166.885</td>\n",
       "      <td>452KBpASS5lZLeJWX9Ixub</td>\n",
       "      <td>spotify:track:452KBpASS5lZLeJWX9Ixub</td>\n",
       "      <td>https://api.spotify.com/v1/tracks/452KBpASS5lZ...</td>\n",
       "      <td>https://api.spotify.com/v1/audio-analysis/452K...</td>\n",
       "      <td>146933.0</td>\n",
       "      <td>4.0</td>\n",
       "    </tr>\n",
       "    <tr>\n",
       "      <th>3</th>\n",
       "      <td>Here Comes Santa Claus (Right Down Santa Claus...</td>\n",
       "      <td>Elvis Presley</td>\n",
       "      <td>https://open.spotify.com/track/7n7VsX3sv66znBw...</td>\n",
       "      <td>0.575</td>\n",
       "      <td>0.236</td>\n",
       "      <td>2.0</td>\n",
       "      <td>-16.982</td>\n",
       "      <td>1.0</td>\n",
       "      <td>0.0422</td>\n",
       "      <td>0.968</td>\n",
       "      <td>0.017800</td>\n",
       "      <td>0.1050</td>\n",
       "      <td>0.829</td>\n",
       "      <td>79.576</td>\n",
       "      <td>7n7VsX3sv66znBwA8b5uhp</td>\n",
       "      <td>spotify:track:7n7VsX3sv66znBwA8b5uhp</td>\n",
       "      <td>https://api.spotify.com/v1/tracks/7n7VsX3sv66z...</td>\n",
       "      <td>https://api.spotify.com/v1/audio-analysis/7n7V...</td>\n",
       "      <td>115827.0</td>\n",
       "      <td>4.0</td>\n",
       "    </tr>\n",
       "    <tr>\n",
       "      <th>4</th>\n",
       "      <td>Hound Dog</td>\n",
       "      <td>Elvis Presley</td>\n",
       "      <td>https://open.spotify.com/track/64Ny7djQ6rNJspq...</td>\n",
       "      <td>0.494</td>\n",
       "      <td>0.756</td>\n",
       "      <td>0.0</td>\n",
       "      <td>-8.492</td>\n",
       "      <td>1.0</td>\n",
       "      <td>0.0499</td>\n",
       "      <td>0.733</td>\n",
       "      <td>0.005050</td>\n",
       "      <td>0.7600</td>\n",
       "      <td>0.949</td>\n",
       "      <td>86.895</td>\n",
       "      <td>64Ny7djQ6rNJspquof2KoX</td>\n",
       "      <td>spotify:track:64Ny7djQ6rNJspquof2KoX</td>\n",
       "      <td>https://api.spotify.com/v1/tracks/64Ny7djQ6rNJ...</td>\n",
       "      <td>https://api.spotify.com/v1/audio-analysis/64Ny...</td>\n",
       "      <td>136027.0</td>\n",
       "      <td>4.0</td>\n",
       "    </tr>\n",
       "  </tbody>\n",
       "</table>\n",
       "</div>"
      ],
      "text/plain": [
       "                                               title         artist  \\\n",
       "0                                     Blue Christmas  Elvis Presley   \n",
       "1                         Can't Help Falling in Love  Elvis Presley   \n",
       "2                                     Jailhouse Rock  Elvis Presley   \n",
       "3  Here Comes Santa Claus (Right Down Santa Claus...  Elvis Presley   \n",
       "4                                          Hound Dog  Elvis Presley   \n",
       "\n",
       "                                                 url  danceability  energy  \\\n",
       "0  https://open.spotify.com/track/3QiAAp20rPC3dcA...         0.465   0.270   \n",
       "1  https://open.spotify.com/track/44AyOl4qVkzS48v...         0.396   0.293   \n",
       "2  https://open.spotify.com/track/452KBpASS5lZLeJ...         0.623   0.537   \n",
       "3  https://open.spotify.com/track/7n7VsX3sv66znBw...         0.575   0.236   \n",
       "4  https://open.spotify.com/track/64Ny7djQ6rNJspq...         0.494   0.756   \n",
       "\n",
       "    key  loudness  mode  speechiness  acousticness  instrumentalness  \\\n",
       "0   4.0   -16.661   1.0       0.0425         0.900          0.001040   \n",
       "1   2.0   -14.062   1.0       0.0275         0.941          0.000196   \n",
       "2  10.0   -10.014   0.0       0.0726         0.332          0.000014   \n",
       "3   2.0   -16.982   1.0       0.0422         0.968          0.017800   \n",
       "4   0.0    -8.492   1.0       0.0499         0.733          0.005050   \n",
       "\n",
       "   liveness  valence    tempo                      id  \\\n",
       "0    0.1450    0.580   94.518  3QiAAp20rPC3dcAtKtMaqQ   \n",
       "1    0.1050    0.343  100.307  44AyOl4qVkzS48vBsbNXaC   \n",
       "2    0.0963    0.905  166.885  452KBpASS5lZLeJWX9Ixub   \n",
       "3    0.1050    0.829   79.576  7n7VsX3sv66znBwA8b5uhp   \n",
       "4    0.7600    0.949   86.895  64Ny7djQ6rNJspquof2KoX   \n",
       "\n",
       "                                    uri  \\\n",
       "0  spotify:track:3QiAAp20rPC3dcAtKtMaqQ   \n",
       "1  spotify:track:44AyOl4qVkzS48vBsbNXaC   \n",
       "2  spotify:track:452KBpASS5lZLeJWX9Ixub   \n",
       "3  spotify:track:7n7VsX3sv66znBwA8b5uhp   \n",
       "4  spotify:track:64Ny7djQ6rNJspquof2KoX   \n",
       "\n",
       "                                          track_href  \\\n",
       "0  https://api.spotify.com/v1/tracks/3QiAAp20rPC3...   \n",
       "1  https://api.spotify.com/v1/tracks/44AyOl4qVkzS...   \n",
       "2  https://api.spotify.com/v1/tracks/452KBpASS5lZ...   \n",
       "3  https://api.spotify.com/v1/tracks/7n7VsX3sv66z...   \n",
       "4  https://api.spotify.com/v1/tracks/64Ny7djQ6rNJ...   \n",
       "\n",
       "                                        analysis_url  duration_ms  \\\n",
       "0  https://api.spotify.com/v1/audio-analysis/3QiA...     129173.0   \n",
       "1  https://api.spotify.com/v1/audio-analysis/44Ay...     182360.0   \n",
       "2  https://api.spotify.com/v1/audio-analysis/452K...     146933.0   \n",
       "3  https://api.spotify.com/v1/audio-analysis/7n7V...     115827.0   \n",
       "4  https://api.spotify.com/v1/audio-analysis/64Ny...     136027.0   \n",
       "\n",
       "   time_signature  \n",
       "0             4.0  \n",
       "1             3.0  \n",
       "2             4.0  \n",
       "3             4.0  \n",
       "4             4.0  "
      ]
     },
     "execution_count": 47,
     "metadata": {},
     "output_type": "execute_result"
    }
   ],
   "source": [
    "playlist = pd.read_csv('asli_playlist.csv')\n",
    "playlist.head()"
   ]
  },
  {
   "cell_type": "code",
   "execution_count": 48,
   "id": "e912164c",
   "metadata": {},
   "outputs": [],
   "source": [
    "data = playlist.drop(columns=['title', 'artist', 'url','id','uri','track_href','analysis_url'])\n"
   ]
  },
  {
   "cell_type": "code",
   "execution_count": 49,
   "id": "061a6d17",
   "metadata": {},
   "outputs": [
    {
     "data": {
      "text/plain": [
       "(5734, 13)"
      ]
     },
     "metadata": {},
     "output_type": "display_data"
    },
    {
     "data": {
      "text/html": [
       "<div>\n",
       "<style scoped>\n",
       "    .dataframe tbody tr th:only-of-type {\n",
       "        vertical-align: middle;\n",
       "    }\n",
       "\n",
       "    .dataframe tbody tr th {\n",
       "        vertical-align: top;\n",
       "    }\n",
       "\n",
       "    .dataframe thead th {\n",
       "        text-align: right;\n",
       "    }\n",
       "</style>\n",
       "<table border=\"1\" class=\"dataframe\">\n",
       "  <thead>\n",
       "    <tr style=\"text-align: right;\">\n",
       "      <th></th>\n",
       "      <th>danceability</th>\n",
       "      <th>energy</th>\n",
       "      <th>key</th>\n",
       "      <th>loudness</th>\n",
       "      <th>mode</th>\n",
       "      <th>speechiness</th>\n",
       "      <th>acousticness</th>\n",
       "      <th>instrumentalness</th>\n",
       "      <th>liveness</th>\n",
       "      <th>valence</th>\n",
       "      <th>tempo</th>\n",
       "      <th>duration_ms</th>\n",
       "      <th>time_signature</th>\n",
       "    </tr>\n",
       "  </thead>\n",
       "  <tbody>\n",
       "    <tr>\n",
       "      <th>0</th>\n",
       "      <td>0.465</td>\n",
       "      <td>0.270</td>\n",
       "      <td>4.0</td>\n",
       "      <td>-16.661</td>\n",
       "      <td>1.0</td>\n",
       "      <td>0.0425</td>\n",
       "      <td>0.900</td>\n",
       "      <td>0.001040</td>\n",
       "      <td>0.1450</td>\n",
       "      <td>0.580</td>\n",
       "      <td>94.518</td>\n",
       "      <td>129173.0</td>\n",
       "      <td>4.0</td>\n",
       "    </tr>\n",
       "    <tr>\n",
       "      <th>1</th>\n",
       "      <td>0.396</td>\n",
       "      <td>0.293</td>\n",
       "      <td>2.0</td>\n",
       "      <td>-14.062</td>\n",
       "      <td>1.0</td>\n",
       "      <td>0.0275</td>\n",
       "      <td>0.941</td>\n",
       "      <td>0.000196</td>\n",
       "      <td>0.1050</td>\n",
       "      <td>0.343</td>\n",
       "      <td>100.307</td>\n",
       "      <td>182360.0</td>\n",
       "      <td>3.0</td>\n",
       "    </tr>\n",
       "    <tr>\n",
       "      <th>2</th>\n",
       "      <td>0.623</td>\n",
       "      <td>0.537</td>\n",
       "      <td>10.0</td>\n",
       "      <td>-10.014</td>\n",
       "      <td>0.0</td>\n",
       "      <td>0.0726</td>\n",
       "      <td>0.332</td>\n",
       "      <td>0.000014</td>\n",
       "      <td>0.0963</td>\n",
       "      <td>0.905</td>\n",
       "      <td>166.885</td>\n",
       "      <td>146933.0</td>\n",
       "      <td>4.0</td>\n",
       "    </tr>\n",
       "    <tr>\n",
       "      <th>3</th>\n",
       "      <td>0.575</td>\n",
       "      <td>0.236</td>\n",
       "      <td>2.0</td>\n",
       "      <td>-16.982</td>\n",
       "      <td>1.0</td>\n",
       "      <td>0.0422</td>\n",
       "      <td>0.968</td>\n",
       "      <td>0.017800</td>\n",
       "      <td>0.1050</td>\n",
       "      <td>0.829</td>\n",
       "      <td>79.576</td>\n",
       "      <td>115827.0</td>\n",
       "      <td>4.0</td>\n",
       "    </tr>\n",
       "    <tr>\n",
       "      <th>4</th>\n",
       "      <td>0.494</td>\n",
       "      <td>0.756</td>\n",
       "      <td>0.0</td>\n",
       "      <td>-8.492</td>\n",
       "      <td>1.0</td>\n",
       "      <td>0.0499</td>\n",
       "      <td>0.733</td>\n",
       "      <td>0.005050</td>\n",
       "      <td>0.7600</td>\n",
       "      <td>0.949</td>\n",
       "      <td>86.895</td>\n",
       "      <td>136027.0</td>\n",
       "      <td>4.0</td>\n",
       "    </tr>\n",
       "  </tbody>\n",
       "</table>\n",
       "</div>"
      ],
      "text/plain": [
       "   danceability  energy   key  loudness  mode  speechiness  acousticness  \\\n",
       "0         0.465   0.270   4.0   -16.661   1.0       0.0425         0.900   \n",
       "1         0.396   0.293   2.0   -14.062   1.0       0.0275         0.941   \n",
       "2         0.623   0.537  10.0   -10.014   0.0       0.0726         0.332   \n",
       "3         0.575   0.236   2.0   -16.982   1.0       0.0422         0.968   \n",
       "4         0.494   0.756   0.0    -8.492   1.0       0.0499         0.733   \n",
       "\n",
       "   instrumentalness  liveness  valence    tempo  duration_ms  time_signature  \n",
       "0          0.001040    0.1450    0.580   94.518     129173.0             4.0  \n",
       "1          0.000196    0.1050    0.343  100.307     182360.0             3.0  \n",
       "2          0.000014    0.0963    0.905  166.885     146933.0             4.0  \n",
       "3          0.017800    0.1050    0.829   79.576     115827.0             4.0  \n",
       "4          0.005050    0.7600    0.949   86.895     136027.0             4.0  "
      ]
     },
     "execution_count": 49,
     "metadata": {},
     "output_type": "execute_result"
    }
   ],
   "source": [
    "display(data.shape)\n",
    "data.head()"
   ]
  },
  {
   "cell_type": "code",
   "execution_count": 50,
   "id": "41eec23c",
   "metadata": {},
   "outputs": [
    {
     "data": {
      "text/html": [
       "<div>\n",
       "<style scoped>\n",
       "    .dataframe tbody tr th:only-of-type {\n",
       "        vertical-align: middle;\n",
       "    }\n",
       "\n",
       "    .dataframe tbody tr th {\n",
       "        vertical-align: top;\n",
       "    }\n",
       "\n",
       "    .dataframe thead th {\n",
       "        text-align: right;\n",
       "    }\n",
       "</style>\n",
       "<table border=\"1\" class=\"dataframe\">\n",
       "  <thead>\n",
       "    <tr style=\"text-align: right;\">\n",
       "      <th></th>\n",
       "      <th>danceability</th>\n",
       "      <th>energy</th>\n",
       "      <th>key</th>\n",
       "      <th>loudness</th>\n",
       "      <th>mode</th>\n",
       "      <th>speechiness</th>\n",
       "      <th>acousticness</th>\n",
       "      <th>instrumentalness</th>\n",
       "      <th>liveness</th>\n",
       "      <th>valence</th>\n",
       "      <th>tempo</th>\n",
       "      <th>duration_ms</th>\n",
       "      <th>time_signature</th>\n",
       "    </tr>\n",
       "  </thead>\n",
       "  <tbody>\n",
       "    <tr>\n",
       "      <th>0</th>\n",
       "      <td>-0.854463</td>\n",
       "      <td>-1.588469</td>\n",
       "      <td>-0.342108</td>\n",
       "      <td>-2.010988</td>\n",
       "      <td>0.695392</td>\n",
       "      <td>-0.412763</td>\n",
       "      <td>2.031443</td>\n",
       "      <td>-0.292214</td>\n",
       "      <td>-0.266020</td>\n",
       "      <td>0.071820</td>\n",
       "      <td>-0.893168</td>\n",
       "      <td>-1.022950</td>\n",
       "      <td>0.217667</td>\n",
       "    </tr>\n",
       "    <tr>\n",
       "      <th>1</th>\n",
       "      <td>-1.281975</td>\n",
       "      <td>-1.483946</td>\n",
       "      <td>-0.904508</td>\n",
       "      <td>-1.377738</td>\n",
       "      <td>0.695392</td>\n",
       "      <td>-0.593407</td>\n",
       "      <td>2.168496</td>\n",
       "      <td>-0.296789</td>\n",
       "      <td>-0.531949</td>\n",
       "      <td>-0.871380</td>\n",
       "      <td>-0.686670</td>\n",
       "      <td>-0.469799</td>\n",
       "      <td>-2.625395</td>\n",
       "    </tr>\n",
       "    <tr>\n",
       "      <th>2</th>\n",
       "      <td>0.124476</td>\n",
       "      <td>-0.375088</td>\n",
       "      <td>1.345090</td>\n",
       "      <td>-0.391439</td>\n",
       "      <td>-1.438037</td>\n",
       "      <td>-0.050270</td>\n",
       "      <td>0.132751</td>\n",
       "      <td>-0.297776</td>\n",
       "      <td>-0.589788</td>\n",
       "      <td>1.365237</td>\n",
       "      <td>1.688214</td>\n",
       "      <td>-0.838244</td>\n",
       "      <td>0.217667</td>\n",
       "    </tr>\n",
       "    <tr>\n",
       "      <th>3</th>\n",
       "      <td>-0.172923</td>\n",
       "      <td>-1.742982</td>\n",
       "      <td>-0.904508</td>\n",
       "      <td>-2.089200</td>\n",
       "      <td>0.695392</td>\n",
       "      <td>-0.416376</td>\n",
       "      <td>2.258751</td>\n",
       "      <td>-0.201362</td>\n",
       "      <td>-0.531949</td>\n",
       "      <td>1.062776</td>\n",
       "      <td>-1.426159</td>\n",
       "      <td>-1.161750</td>\n",
       "      <td>0.217667</td>\n",
       "    </tr>\n",
       "    <tr>\n",
       "      <th>4</th>\n",
       "      <td>-0.674785</td>\n",
       "      <td>0.620158</td>\n",
       "      <td>-1.466908</td>\n",
       "      <td>-0.020602</td>\n",
       "      <td>0.695392</td>\n",
       "      <td>-0.323645</td>\n",
       "      <td>1.473201</td>\n",
       "      <td>-0.270477</td>\n",
       "      <td>3.822623</td>\n",
       "      <td>1.540346</td>\n",
       "      <td>-1.165086</td>\n",
       "      <td>-0.951668</td>\n",
       "      <td>0.217667</td>\n",
       "    </tr>\n",
       "  </tbody>\n",
       "</table>\n",
       "</div>"
      ],
      "text/plain": [
       "   danceability    energy       key  loudness      mode  speechiness  \\\n",
       "0     -0.854463 -1.588469 -0.342108 -2.010988  0.695392    -0.412763   \n",
       "1     -1.281975 -1.483946 -0.904508 -1.377738  0.695392    -0.593407   \n",
       "2      0.124476 -0.375088  1.345090 -0.391439 -1.438037    -0.050270   \n",
       "3     -0.172923 -1.742982 -0.904508 -2.089200  0.695392    -0.416376   \n",
       "4     -0.674785  0.620158 -1.466908 -0.020602  0.695392    -0.323645   \n",
       "\n",
       "   acousticness  instrumentalness  liveness   valence     tempo  duration_ms  \\\n",
       "0      2.031443         -0.292214 -0.266020  0.071820 -0.893168    -1.022950   \n",
       "1      2.168496         -0.296789 -0.531949 -0.871380 -0.686670    -0.469799   \n",
       "2      0.132751         -0.297776 -0.589788  1.365237  1.688214    -0.838244   \n",
       "3      2.258751         -0.201362 -0.531949  1.062776 -1.426159    -1.161750   \n",
       "4      1.473201         -0.270477  3.822623  1.540346 -1.165086    -0.951668   \n",
       "\n",
       "   time_signature  \n",
       "0        0.217667  \n",
       "1       -2.625395  \n",
       "2        0.217667  \n",
       "3        0.217667  \n",
       "4        0.217667  "
      ]
     },
     "execution_count": 50,
     "metadata": {},
     "output_type": "execute_result"
    }
   ],
   "source": [
    "from sklearn.preprocessing import StandardScaler\n",
    "transformer = StandardScaler().fit(data)\n",
    "data_prep = transformer.transform(data)\n",
    "data_prep = pd.DataFrame(data_prep,columns=data.columns)\n",
    "data_prep.head()"
   ]
  },
  {
   "cell_type": "code",
   "execution_count": 52,
   "id": "b3431acd",
   "metadata": {},
   "outputs": [
    {
     "name": "stderr",
     "output_type": "stream",
     "text": [
      "ERROR: Could not find a version that satisfies the requirement pickle (from versions: none)\n",
      "ERROR: No matching distribution found for pickle\n"
     ]
    }
   ],
   "source": [
    "!pip install pickle\n"
   ]
  },
  {
   "cell_type": "code",
   "execution_count": 53,
   "id": "144f38a8",
   "metadata": {},
   "outputs": [
    {
     "name": "stdout",
     "output_type": "stream",
     "text": [
      "Requirement already satisfied: dill in c:\\users\\it-it\\anaconda3\\lib\\site-packages (0.3.4)\n"
     ]
    }
   ],
   "source": [
    "!pip install dill\n"
   ]
  },
  {
   "cell_type": "code",
   "execution_count": 56,
   "id": "9fb37fb1",
   "metadata": {},
   "outputs": [],
   "source": [
    "import dill\n",
    "\n",
    "# Saving the object\n",
    "with open(\"transformer.p\", \"wb\") as f:\n",
    "    dill.dump(transformer, f)\n",
    "    \n",
    "# Loading the object\n",
    "# with open(\"transformer.p\", \"rb\") as f:\n",
    "#     transformer = dill.load(f)\n"
   ]
  },
  {
   "cell_type": "code",
   "execution_count": null,
   "id": "faac69b9",
   "metadata": {},
   "outputs": [],
   "source": [
    "# to pickle  | pickled, pickled |\t\t\tpickeln  | pickelte, gepickelt |\n",
    "# to pickle sth.  | pickled, pickled | [TECH.]\t\t\tetw. abbeizen  | beizte ab, abgebeizt |   [Metallurgy]\n",
    "# to pickle sth.  | pickled, pickled | [TECH.]\t\t\tetw. beizen  | beizte, gebeizt |   [Metallurgy]\n",
    "# to pickle sth.  | pickled, pickled | [TECH.]\t\t\tetw. dekapieren  | dekapierte, dekapiert |   [Metallurgy]\n",
    "# to pickle sth.  | pickled, pickled | [TECH.]\t\t\tetw. entzundern  | entzunderte, entzundert |\n",
    "# to pickle sth.  | pickled, pickled | [COOK.]\t\t\tetw. einwecken  | weckte ein, eingeweckt |\n",
    "# to pickle sth.  | pickled, pickled | [COOK.]\t\t\tetw. pökeln  | pökelte, gepökelt |"
   ]
  },
  {
   "cell_type": "code",
   "execution_count": null,
   "id": "6862f41a",
   "metadata": {},
   "outputs": [],
   "source": [
    "# The command pickle.dump(transformer,open('transformer.p', 'wb')) is used to save an object to a file in a format known as \"pickle\".\n",
    "\n",
    "# The pickle.dump function takes two arguments:\n",
    "\n",
    "# The first argument is the object you want to save, in this case the \"transformer\" object.\n",
    "# The second argument is the file-like object where the object is to be saved. In this case, it's the file \"transformer.p\" that is opened in write binary mode (wb) using the open function.\n",
    "# The pickle module in python converts a python object hierarchy into a byte stream and then it can be saved as a file. This byte stream can also be loaded back to recreate the object hierarchy. This allows you to save the state of your program, or a specific variable, and then load it later to continue where you left off.\n",
    "\n",
    "# In short, the above command is saving the transformer object to a file named \"transformer.p\" in binary format."
   ]
  },
  {
   "cell_type": "code",
   "execution_count": 55,
   "id": "0b4b8ae2",
   "metadata": {},
   "outputs": [
    {
     "ename": "NameError",
     "evalue": "name 'pickle' is not defined",
     "output_type": "error",
     "traceback": [
      "\u001b[1;31m---------------------------------------------------------------------------\u001b[0m",
      "\u001b[1;31mNameError\u001b[0m                                 Traceback (most recent call last)",
      "\u001b[1;32m~\\AppData\\Local\\Temp\\ipykernel_12128\\1288637133.py\u001b[0m in \u001b[0;36m<module>\u001b[1;34m\u001b[0m\n\u001b[1;32m----> 1\u001b[1;33m \u001b[0mpickle\u001b[0m\u001b[1;33m.\u001b[0m\u001b[0mdump\u001b[0m\u001b[1;33m(\u001b[0m\u001b[0mtransformer\u001b[0m\u001b[1;33m,\u001b[0m\u001b[0mopen\u001b[0m\u001b[1;33m(\u001b[0m\u001b[1;34m'transformer.p'\u001b[0m\u001b[1;33m,\u001b[0m \u001b[1;34m'wb'\u001b[0m\u001b[1;33m)\u001b[0m\u001b[1;33m)\u001b[0m\u001b[1;33m\u001b[0m\u001b[1;33m\u001b[0m\u001b[0m\n\u001b[0m",
      "\u001b[1;31mNameError\u001b[0m: name 'pickle' is not defined"
     ]
    }
   ],
   "source": [
    "# pickle.dump(transformer,open('transformer.p', 'wb'))"
   ]
  },
  {
   "cell_type": "code",
   "execution_count": 57,
   "id": "dbcce0aa",
   "metadata": {},
   "outputs": [],
   "source": [
    "data_prep.to_csv('playlist_scaled.csv', index = False)"
   ]
  },
  {
   "cell_type": "code",
   "execution_count": 58,
   "id": "bbf64fc6",
   "metadata": {},
   "outputs": [
    {
     "name": "stderr",
     "output_type": "stream",
     "text": [
      "C:\\Users\\it-it\\anaconda3\\lib\\site-packages\\sklearn\\cluster\\_kmeans.py:870: FutureWarning: The default value of `n_init` will change from 10 to 'auto' in 1.4. Set the value of `n_init` explicitly to suppress the warning\n",
      "  warnings.warn(\n",
      "C:\\Users\\it-it\\anaconda3\\lib\\site-packages\\sklearn\\cluster\\_kmeans.py:870: FutureWarning: The default value of `n_init` will change from 10 to 'auto' in 1.4. Set the value of `n_init` explicitly to suppress the warning\n",
      "  warnings.warn(\n",
      "C:\\Users\\it-it\\anaconda3\\lib\\site-packages\\sklearn\\cluster\\_kmeans.py:870: FutureWarning: The default value of `n_init` will change from 10 to 'auto' in 1.4. Set the value of `n_init` explicitly to suppress the warning\n",
      "  warnings.warn(\n",
      "C:\\Users\\it-it\\anaconda3\\lib\\site-packages\\sklearn\\cluster\\_kmeans.py:870: FutureWarning: The default value of `n_init` will change from 10 to 'auto' in 1.4. Set the value of `n_init` explicitly to suppress the warning\n",
      "  warnings.warn(\n",
      "C:\\Users\\it-it\\anaconda3\\lib\\site-packages\\sklearn\\cluster\\_kmeans.py:870: FutureWarning: The default value of `n_init` will change from 10 to 'auto' in 1.4. Set the value of `n_init` explicitly to suppress the warning\n",
      "  warnings.warn(\n",
      "C:\\Users\\it-it\\anaconda3\\lib\\site-packages\\sklearn\\cluster\\_kmeans.py:870: FutureWarning: The default value of `n_init` will change from 10 to 'auto' in 1.4. Set the value of `n_init` explicitly to suppress the warning\n",
      "  warnings.warn(\n",
      "C:\\Users\\it-it\\anaconda3\\lib\\site-packages\\sklearn\\cluster\\_kmeans.py:870: FutureWarning: The default value of `n_init` will change from 10 to 'auto' in 1.4. Set the value of `n_init` explicitly to suppress the warning\n",
      "  warnings.warn(\n",
      "C:\\Users\\it-it\\anaconda3\\lib\\site-packages\\sklearn\\cluster\\_kmeans.py:870: FutureWarning: The default value of `n_init` will change from 10 to 'auto' in 1.4. Set the value of `n_init` explicitly to suppress the warning\n",
      "  warnings.warn(\n",
      "C:\\Users\\it-it\\anaconda3\\lib\\site-packages\\sklearn\\cluster\\_kmeans.py:870: FutureWarning: The default value of `n_init` will change from 10 to 'auto' in 1.4. Set the value of `n_init` explicitly to suppress the warning\n",
      "  warnings.warn(\n",
      "C:\\Users\\it-it\\anaconda3\\lib\\site-packages\\sklearn\\cluster\\_kmeans.py:870: FutureWarning: The default value of `n_init` will change from 10 to 'auto' in 1.4. Set the value of `n_init` explicitly to suppress the warning\n",
      "  warnings.warn(\n",
      "C:\\Users\\it-it\\anaconda3\\lib\\site-packages\\sklearn\\cluster\\_kmeans.py:870: FutureWarning: The default value of `n_init` will change from 10 to 'auto' in 1.4. Set the value of `n_init` explicitly to suppress the warning\n",
      "  warnings.warn(\n",
      "C:\\Users\\it-it\\anaconda3\\lib\\site-packages\\sklearn\\cluster\\_kmeans.py:870: FutureWarning: The default value of `n_init` will change from 10 to 'auto' in 1.4. Set the value of `n_init` explicitly to suppress the warning\n",
      "  warnings.warn(\n",
      "C:\\Users\\it-it\\anaconda3\\lib\\site-packages\\sklearn\\cluster\\_kmeans.py:870: FutureWarning: The default value of `n_init` will change from 10 to 'auto' in 1.4. Set the value of `n_init` explicitly to suppress the warning\n",
      "  warnings.warn(\n",
      "C:\\Users\\it-it\\anaconda3\\lib\\site-packages\\sklearn\\cluster\\_kmeans.py:870: FutureWarning: The default value of `n_init` will change from 10 to 'auto' in 1.4. Set the value of `n_init` explicitly to suppress the warning\n",
      "  warnings.warn(\n",
      "C:\\Users\\it-it\\anaconda3\\lib\\site-packages\\sklearn\\cluster\\_kmeans.py:870: FutureWarning: The default value of `n_init` will change from 10 to 'auto' in 1.4. Set the value of `n_init` explicitly to suppress the warning\n",
      "  warnings.warn(\n",
      "C:\\Users\\it-it\\anaconda3\\lib\\site-packages\\sklearn\\cluster\\_kmeans.py:870: FutureWarning: The default value of `n_init` will change from 10 to 'auto' in 1.4. Set the value of `n_init` explicitly to suppress the warning\n",
      "  warnings.warn(\n",
      "C:\\Users\\it-it\\anaconda3\\lib\\site-packages\\sklearn\\cluster\\_kmeans.py:870: FutureWarning: The default value of `n_init` will change from 10 to 'auto' in 1.4. Set the value of `n_init` explicitly to suppress the warning\n",
      "  warnings.warn(\n",
      "C:\\Users\\it-it\\anaconda3\\lib\\site-packages\\sklearn\\cluster\\_kmeans.py:870: FutureWarning: The default value of `n_init` will change from 10 to 'auto' in 1.4. Set the value of `n_init` explicitly to suppress the warning\n",
      "  warnings.warn(\n"
     ]
    },
    {
     "data": {
      "text/plain": [
       "Text(0.5, 1.0, 'Elbow Method showing the optimal k')"
      ]
     },
     "execution_count": 58,
     "metadata": {},
     "output_type": "execute_result"
    },
    {
     "data": {
      "image/png": "[encoded data removed]",
      "text/plain": [
       "<Figure size 1600x800 with 1 Axes>"
      ]
     },
     "metadata": {},
     "output_type": "display_data"
    }
   ],
   "source": [
    "from sklearn.cluster import KMeans\n",
    "K = range(2, 20)\n",
    "inertia = []\n",
    "\n",
    "for k in K:\n",
    "    kmeans = KMeans(n_clusters=k,\n",
    "                    random_state=1234)\n",
    "    kmeans.fit(data_prep)\n",
    "    inertia.append(kmeans.inertia_)\n",
    "\n",
    "\n",
    "plt.figure(figsize=(16,8))\n",
    "plt.plot(K, inertia, 'bx-')\n",
    "plt.xlabel('k')\n",
    "plt.ylabel('inertia')\n",
    "plt.xticks(np.arange(min(K), max(K)+1, 1.0))\n",
    "plt.title('Elbow Method showing the optimal k')"
   ]
  },
  {
   "cell_type": "code",
   "execution_count": 59,
   "id": "f7cf2a8a",
   "metadata": {},
   "outputs": [
    {
     "name": "stderr",
     "output_type": "stream",
     "text": [
      "C:\\Users\\it-it\\anaconda3\\lib\\site-packages\\sklearn\\cluster\\_kmeans.py:870: FutureWarning: The default value of `n_init` will change from 10 to 'auto' in 1.4. Set the value of `n_init` explicitly to suppress the warning\n",
      "  warnings.warn(\n",
      "C:\\Users\\it-it\\anaconda3\\lib\\site-packages\\sklearn\\cluster\\_kmeans.py:870: FutureWarning: The default value of `n_init` will change from 10 to 'auto' in 1.4. Set the value of `n_init` explicitly to suppress the warning\n",
      "  warnings.warn(\n",
      "C:\\Users\\it-it\\anaconda3\\lib\\site-packages\\sklearn\\cluster\\_kmeans.py:870: FutureWarning: The default value of `n_init` will change from 10 to 'auto' in 1.4. Set the value of `n_init` explicitly to suppress the warning\n",
      "  warnings.warn(\n",
      "C:\\Users\\it-it\\anaconda3\\lib\\site-packages\\sklearn\\cluster\\_kmeans.py:870: FutureWarning: The default value of `n_init` will change from 10 to 'auto' in 1.4. Set the value of `n_init` explicitly to suppress the warning\n",
      "  warnings.warn(\n",
      "C:\\Users\\it-it\\anaconda3\\lib\\site-packages\\sklearn\\cluster\\_kmeans.py:870: FutureWarning: The default value of `n_init` will change from 10 to 'auto' in 1.4. Set the value of `n_init` explicitly to suppress the warning\n",
      "  warnings.warn(\n",
      "C:\\Users\\it-it\\anaconda3\\lib\\site-packages\\sklearn\\cluster\\_kmeans.py:870: FutureWarning: The default value of `n_init` will change from 10 to 'auto' in 1.4. Set the value of `n_init` explicitly to suppress the warning\n",
      "  warnings.warn(\n",
      "C:\\Users\\it-it\\anaconda3\\lib\\site-packages\\sklearn\\cluster\\_kmeans.py:870: FutureWarning: The default value of `n_init` will change from 10 to 'auto' in 1.4. Set the value of `n_init` explicitly to suppress the warning\n",
      "  warnings.warn(\n",
      "C:\\Users\\it-it\\anaconda3\\lib\\site-packages\\sklearn\\cluster\\_kmeans.py:870: FutureWarning: The default value of `n_init` will change from 10 to 'auto' in 1.4. Set the value of `n_init` explicitly to suppress the warning\n",
      "  warnings.warn(\n",
      "C:\\Users\\it-it\\anaconda3\\lib\\site-packages\\sklearn\\cluster\\_kmeans.py:870: FutureWarning: The default value of `n_init` will change from 10 to 'auto' in 1.4. Set the value of `n_init` explicitly to suppress the warning\n",
      "  warnings.warn(\n",
      "C:\\Users\\it-it\\anaconda3\\lib\\site-packages\\sklearn\\cluster\\_kmeans.py:870: FutureWarning: The default value of `n_init` will change from 10 to 'auto' in 1.4. Set the value of `n_init` explicitly to suppress the warning\n",
      "  warnings.warn(\n",
      "C:\\Users\\it-it\\anaconda3\\lib\\site-packages\\sklearn\\cluster\\_kmeans.py:870: FutureWarning: The default value of `n_init` will change from 10 to 'auto' in 1.4. Set the value of `n_init` explicitly to suppress the warning\n",
      "  warnings.warn(\n",
      "C:\\Users\\it-it\\anaconda3\\lib\\site-packages\\sklearn\\cluster\\_kmeans.py:870: FutureWarning: The default value of `n_init` will change from 10 to 'auto' in 1.4. Set the value of `n_init` explicitly to suppress the warning\n",
      "  warnings.warn(\n",
      "C:\\Users\\it-it\\anaconda3\\lib\\site-packages\\sklearn\\cluster\\_kmeans.py:870: FutureWarning: The default value of `n_init` will change from 10 to 'auto' in 1.4. Set the value of `n_init` explicitly to suppress the warning\n",
      "  warnings.warn(\n",
      "C:\\Users\\it-it\\anaconda3\\lib\\site-packages\\sklearn\\cluster\\_kmeans.py:870: FutureWarning: The default value of `n_init` will change from 10 to 'auto' in 1.4. Set the value of `n_init` explicitly to suppress the warning\n",
      "  warnings.warn(\n",
      "C:\\Users\\it-it\\anaconda3\\lib\\site-packages\\sklearn\\cluster\\_kmeans.py:870: FutureWarning: The default value of `n_init` will change from 10 to 'auto' in 1.4. Set the value of `n_init` explicitly to suppress the warning\n",
      "  warnings.warn(\n",
      "C:\\Users\\it-it\\anaconda3\\lib\\site-packages\\sklearn\\cluster\\_kmeans.py:870: FutureWarning: The default value of `n_init` will change from 10 to 'auto' in 1.4. Set the value of `n_init` explicitly to suppress the warning\n",
      "  warnings.warn(\n",
      "C:\\Users\\it-it\\anaconda3\\lib\\site-packages\\sklearn\\cluster\\_kmeans.py:870: FutureWarning: The default value of `n_init` will change from 10 to 'auto' in 1.4. Set the value of `n_init` explicitly to suppress the warning\n",
      "  warnings.warn(\n",
      "C:\\Users\\it-it\\anaconda3\\lib\\site-packages\\sklearn\\cluster\\_kmeans.py:870: FutureWarning: The default value of `n_init` will change from 10 to 'auto' in 1.4. Set the value of `n_init` explicitly to suppress the warning\n",
      "  warnings.warn(\n"
     ]
    },
    {
     "data": {
      "text/plain": [
       "Text(0.5, 1.0, 'Slhouette score showing the optimal k')"
      ]
     },
     "execution_count": 59,
     "metadata": {},
     "output_type": "execute_result"
    },
    {
     "data": {
      "image/png": "[encoded data removed]",
      "text/plain": [
       "<Figure size 1600x800 with 1 Axes>"
      ]
     },
     "metadata": {},
     "output_type": "display_data"
    }
   ],
   "source": [
    "from sklearn.metrics import silhouette_score\n",
    "K = range(2, 20)\n",
    "silhouette = []\n",
    "\n",
    "for k in K:\n",
    "    kmeans = KMeans(n_clusters=k,\n",
    "                    random_state=1234)\n",
    "    kmeans.fit(data_prep)\n",
    "    silhouette.append(silhouette_score(data_prep, kmeans.predict(data_prep)))\n",
    "\n",
    "\n",
    "plt.figure(figsize=(16,8))\n",
    "plt.plot(K, silhouette, 'bx-')\n",
    "plt.xlabel('k')\n",
    "plt.ylabel('silhouette score')\n",
    "plt.xticks(np.arange(min(K), max(K)+1, 1.0))\n",
    "plt.title('Slhouette score showing the optimal k')"
   ]
  },
  {
   "cell_type": "code",
   "execution_count": 60,
   "id": "b9cc8caa",
   "metadata": {},
   "outputs": [
    {
     "name": "stderr",
     "output_type": "stream",
     "text": [
      "C:\\Users\\it-it\\anaconda3\\lib\\site-packages\\sklearn\\cluster\\_kmeans.py:870: FutureWarning: The default value of `n_init` will change from 10 to 'auto' in 1.4. Set the value of `n_init` explicitly to suppress the warning\n",
      "  warnings.warn(\n"
     ]
    },
    {
     "data": {
      "text/html": [
       "<style>#sk-container-id-1 {color: black;background-color: white;}#sk-container-id-1 pre{padding: 0;}#sk-container-id-1 div.sk-toggleable {background-color: white;}#sk-container-id-1 label.sk-toggleable__label {cursor: pointer;display: block;width: 100%;margin-bottom: 0;padding: 0.3em;box-sizing: border-box;text-align: center;}#sk-container-id-1 label.sk-toggleable__label-arrow:before {content: \"▸\";float: left;margin-right: 0.25em;color: #696969;}#sk-container-id-1 label.sk-toggleable__label-arrow:hover:before {color: black;}#sk-container-id-1 div.sk-estimator:hover label.sk-toggleable__label-arrow:before {color: black;}#sk-container-id-1 div.sk-toggleable__content {max-height: 0;max-width: 0;overflow: hidden;text-align: left;background-color: #f0f8ff;}#sk-container-id-1 div.sk-toggleable__content pre {margin: 0.2em;color: black;border-radius: 0.25em;background-color: #f0f8ff;}#sk-container-id-1 input.sk-toggleable__control:checked~div.sk-toggleable__content {max-height: 200px;max-width: 100%;overflow: auto;}#sk-container-id-1 input.sk-toggleable__control:checked~label.sk-toggleable__label-arrow:before {content: \"▾\";}#sk-container-id-1 div.sk-estimator input.sk-toggleable__control:checked~label.sk-toggleable__label {background-color: #d4ebff;}#sk-container-id-1 div.sk-label input.sk-toggleable__control:checked~label.sk-toggleable__label {background-color: #d4ebff;}#sk-container-id-1 input.sk-hidden--visually {border: 0;clip: rect(1px 1px 1px 1px);clip: rect(1px, 1px, 1px, 1px);height: 1px;margin: -1px;overflow: hidden;padding: 0;position: absolute;width: 1px;}#sk-container-id-1 div.sk-estimator {font-family: monospace;background-color: #f0f8ff;border: 1px dotted black;border-radius: 0.25em;box-sizing: border-box;margin-bottom: 0.5em;}#sk-container-id-1 div.sk-estimator:hover {background-color: #d4ebff;}#sk-container-id-1 div.sk-parallel-item::after {content: \"\";width: 100%;border-bottom: 1px solid gray;flex-grow: 1;}#sk-container-id-1 div.sk-label:hover label.sk-toggleable__label {background-color: #d4ebff;}#sk-container-id-1 div.sk-serial::before {content: \"\";position: absolute;border-left: 1px solid gray;box-sizing: border-box;top: 0;bottom: 0;left: 50%;z-index: 0;}#sk-container-id-1 div.sk-serial {display: flex;flex-direction: column;align-items: center;background-color: white;padding-right: 0.2em;padding-left: 0.2em;position: relative;}#sk-container-id-1 div.sk-item {position: relative;z-index: 1;}#sk-container-id-1 div.sk-parallel {display: flex;align-items: stretch;justify-content: center;background-color: white;position: relative;}#sk-container-id-1 div.sk-item::before, #sk-container-id-1 div.sk-parallel-item::before {content: \"\";position: absolute;border-left: 1px solid gray;box-sizing: border-box;top: 0;bottom: 0;left: 50%;z-index: -1;}#sk-container-id-1 div.sk-parallel-item {display: flex;flex-direction: column;z-index: 1;position: relative;background-color: white;}#sk-container-id-1 div.sk-parallel-item:first-child::after {align-self: flex-end;width: 50%;}#sk-container-id-1 div.sk-parallel-item:last-child::after {align-self: flex-start;width: 50%;}#sk-container-id-1 div.sk-parallel-item:only-child::after {width: 0;}#sk-container-id-1 div.sk-dashed-wrapped {border: 1px dashed gray;margin: 0 0.4em 0.5em 0.4em;box-sizing: border-box;padding-bottom: 0.4em;background-color: white;}#sk-container-id-1 div.sk-label label {font-family: monospace;font-weight: bold;display: inline-block;line-height: 1.2em;}#sk-container-id-1 div.sk-label-container {text-align: center;}#sk-container-id-1 div.sk-container {/* jupyter's `normalize.less` sets `[hidden] { display: none; }` but bootstrap.min.css set `[hidden] { display: none !important; }` so we also need the `!important` here to be able to override the default hidden behavior on the sphinx rendered scikit-learn.org. See: https://github.com/scikit-learn/scikit-learn/issues/21755 */display: inline-block !important;position: relative;}#sk-container-id-1 div.sk-text-repr-fallback {display: none;}</style><div id=\"sk-container-id-1\" class=\"sk-top-container\"><div class=\"sk-text-repr-fallback\"><pre>KMeans(random_state=1234)</pre><b>In a Jupyter environment, please rerun this cell to show the HTML representation or trust the notebook. <br />On GitHub, the HTML representation is unable to render, please try loading this page with nbviewer.org.</b></div><div class=\"sk-container\" hidden><div class=\"sk-item\"><div class=\"sk-estimator sk-toggleable\"><input class=\"sk-toggleable__control sk-hidden--visually\" id=\"sk-estimator-id-1\" type=\"checkbox\" checked><label for=\"sk-estimator-id-1\" class=\"sk-toggleable__label sk-toggleable__label-arrow\">KMeans</label><div class=\"sk-toggleable__content\"><pre>KMeans(random_state=1234)</pre></div></div></div></div></div>"
      ],
      "text/plain": [
       "KMeans(random_state=1234)"
      ]
     },
     "execution_count": 60,
     "metadata": {},
     "output_type": "execute_result"
    }
   ],
   "source": [
    "from sklearn.cluster import KMeans\n",
    "\n",
    "kmeans = KMeans(n_clusters=8, random_state=1234)\n",
    "kmeans.fit(data_prep)"
   ]
  },
  {
   "cell_type": "code",
   "execution_count": 62,
   "id": "76abf41e",
   "metadata": {},
   "outputs": [],
   "source": [
    "# Predicting / assigning the clusters:\n",
    "clusters = kmeans.predict(data_prep)\n",
    "\n"
   ]
  },
  {
   "cell_type": "code",
   "execution_count": 63,
   "id": "c5ab72f4",
   "metadata": {},
   "outputs": [],
   "source": [
    "import dill\n",
    "\n",
    "# Check the size of the clusters\n",
    "pd.Series(clusters).value_counts().sort_index()\n",
    "\n",
    "# Saving the object\n",
    "with open(\"clusters.p\", \"wb\") as f:\n",
    "    dill.dump(clusters, f)"
   ]
  },
  {
   "cell_type": "code",
   "execution_count": null,
   "id": "2aa41da5",
   "metadata": {},
   "outputs": [],
   "source": [
    "# This will save the \"clusters\" object to a file named \"clusters.p\" in binary format.\n",
    "\n",
    "# And you can load the clusters object again using :"
   ]
  },
  {
   "cell_type": "code",
   "execution_count": null,
   "id": "412104c0",
   "metadata": {},
   "outputs": [],
   "source": [
    "# with open(\"clusters.p\", \"rb\") as f:\n",
    "#     clusters = dill.load(f)"
   ]
  },
  {
   "cell_type": "code",
   "execution_count": 64,
   "id": "5d965bf4",
   "metadata": {},
   "outputs": [
    {
     "data": {
      "text/plain": [
       "44205.79700233666"
      ]
     },
     "execution_count": 64,
     "metadata": {},
     "output_type": "execute_result"
    }
   ],
   "source": [
    "kmeans.inertia_  "
   ]
  },
  {
   "cell_type": "code",
   "execution_count": null,
   "id": "276126bd",
   "metadata": {},
   "outputs": [],
   "source": [
    "# import pickle\n",
    "# pickle.dump(kmeans,open('kmeans_8_cluster.p', 'wb'))"
   ]
  },
  {
   "cell_type": "code",
   "execution_count": 65,
   "id": "6f0478b8",
   "metadata": {},
   "outputs": [],
   "source": [
    "# Saving the object\n",
    "with open(\"kmeans_8_cluster.p\", \"wb\") as f:\n",
    "    dill.dump(kmeans, f)\n"
   ]
  },
  {
   "cell_type": "code",
   "execution_count": 66,
   "id": "8b345966",
   "metadata": {},
   "outputs": [
    {
     "data": {
      "text/html": [
       "<div>\n",
       "<style scoped>\n",
       "    .dataframe tbody tr th:only-of-type {\n",
       "        vertical-align: middle;\n",
       "    }\n",
       "\n",
       "    .dataframe tbody tr th {\n",
       "        vertical-align: top;\n",
       "    }\n",
       "\n",
       "    .dataframe thead th {\n",
       "        text-align: right;\n",
       "    }\n",
       "</style>\n",
       "<table border=\"1\" class=\"dataframe\">\n",
       "  <thead>\n",
       "    <tr style=\"text-align: right;\">\n",
       "      <th></th>\n",
       "      <th>title</th>\n",
       "      <th>artist</th>\n",
       "      <th>url</th>\n",
       "      <th>danceability</th>\n",
       "      <th>energy</th>\n",
       "      <th>key</th>\n",
       "      <th>loudness</th>\n",
       "      <th>mode</th>\n",
       "      <th>speechiness</th>\n",
       "      <th>acousticness</th>\n",
       "      <th>...</th>\n",
       "      <th>liveness</th>\n",
       "      <th>valence</th>\n",
       "      <th>tempo</th>\n",
       "      <th>id</th>\n",
       "      <th>uri</th>\n",
       "      <th>track_href</th>\n",
       "      <th>analysis_url</th>\n",
       "      <th>duration_ms</th>\n",
       "      <th>time_signature</th>\n",
       "      <th>clusters</th>\n",
       "    </tr>\n",
       "  </thead>\n",
       "  <tbody>\n",
       "    <tr>\n",
       "      <th>0</th>\n",
       "      <td>Blue Christmas</td>\n",
       "      <td>Elvis Presley</td>\n",
       "      <td>https://open.spotify.com/track/3QiAAp20rPC3dcA...</td>\n",
       "      <td>0.465</td>\n",
       "      <td>0.270</td>\n",
       "      <td>4.0</td>\n",
       "      <td>-16.661</td>\n",
       "      <td>1.0</td>\n",
       "      <td>0.0425</td>\n",
       "      <td>0.900000</td>\n",
       "      <td>...</td>\n",
       "      <td>0.1450</td>\n",
       "      <td>0.580</td>\n",
       "      <td>94.518</td>\n",
       "      <td>3QiAAp20rPC3dcAtKtMaqQ</td>\n",
       "      <td>spotify:track:3QiAAp20rPC3dcAtKtMaqQ</td>\n",
       "      <td>https://api.spotify.com/v1/tracks/3QiAAp20rPC3...</td>\n",
       "      <td>https://api.spotify.com/v1/audio-analysis/3QiA...</td>\n",
       "      <td>129173.0</td>\n",
       "      <td>4.0</td>\n",
       "      <td>4</td>\n",
       "    </tr>\n",
       "    <tr>\n",
       "      <th>1</th>\n",
       "      <td>Can't Help Falling in Love</td>\n",
       "      <td>Elvis Presley</td>\n",
       "      <td>https://open.spotify.com/track/44AyOl4qVkzS48v...</td>\n",
       "      <td>0.396</td>\n",
       "      <td>0.293</td>\n",
       "      <td>2.0</td>\n",
       "      <td>-14.062</td>\n",
       "      <td>1.0</td>\n",
       "      <td>0.0275</td>\n",
       "      <td>0.941000</td>\n",
       "      <td>...</td>\n",
       "      <td>0.1050</td>\n",
       "      <td>0.343</td>\n",
       "      <td>100.307</td>\n",
       "      <td>44AyOl4qVkzS48vBsbNXaC</td>\n",
       "      <td>spotify:track:44AyOl4qVkzS48vBsbNXaC</td>\n",
       "      <td>https://api.spotify.com/v1/tracks/44AyOl4qVkzS...</td>\n",
       "      <td>https://api.spotify.com/v1/audio-analysis/44Ay...</td>\n",
       "      <td>182360.0</td>\n",
       "      <td>3.0</td>\n",
       "      <td>6</td>\n",
       "    </tr>\n",
       "    <tr>\n",
       "      <th>2</th>\n",
       "      <td>Jailhouse Rock</td>\n",
       "      <td>Elvis Presley</td>\n",
       "      <td>https://open.spotify.com/track/452KBpASS5lZLeJ...</td>\n",
       "      <td>0.623</td>\n",
       "      <td>0.537</td>\n",
       "      <td>10.0</td>\n",
       "      <td>-10.014</td>\n",
       "      <td>0.0</td>\n",
       "      <td>0.0726</td>\n",
       "      <td>0.332000</td>\n",
       "      <td>...</td>\n",
       "      <td>0.0963</td>\n",
       "      <td>0.905</td>\n",
       "      <td>166.885</td>\n",
       "      <td>452KBpASS5lZLeJWX9Ixub</td>\n",
       "      <td>spotify:track:452KBpASS5lZLeJWX9Ixub</td>\n",
       "      <td>https://api.spotify.com/v1/tracks/452KBpASS5lZ...</td>\n",
       "      <td>https://api.spotify.com/v1/audio-analysis/452K...</td>\n",
       "      <td>146933.0</td>\n",
       "      <td>4.0</td>\n",
       "      <td>0</td>\n",
       "    </tr>\n",
       "    <tr>\n",
       "      <th>3</th>\n",
       "      <td>Here Comes Santa Claus (Right Down Santa Claus...</td>\n",
       "      <td>Elvis Presley</td>\n",
       "      <td>https://open.spotify.com/track/7n7VsX3sv66znBw...</td>\n",
       "      <td>0.575</td>\n",
       "      <td>0.236</td>\n",
       "      <td>2.0</td>\n",
       "      <td>-16.982</td>\n",
       "      <td>1.0</td>\n",
       "      <td>0.0422</td>\n",
       "      <td>0.968000</td>\n",
       "      <td>...</td>\n",
       "      <td>0.1050</td>\n",
       "      <td>0.829</td>\n",
       "      <td>79.576</td>\n",
       "      <td>7n7VsX3sv66znBwA8b5uhp</td>\n",
       "      <td>spotify:track:7n7VsX3sv66znBwA8b5uhp</td>\n",
       "      <td>https://api.spotify.com/v1/tracks/7n7VsX3sv66z...</td>\n",
       "      <td>https://api.spotify.com/v1/audio-analysis/7n7V...</td>\n",
       "      <td>115827.0</td>\n",
       "      <td>4.0</td>\n",
       "      <td>4</td>\n",
       "    </tr>\n",
       "    <tr>\n",
       "      <th>4</th>\n",
       "      <td>Hound Dog</td>\n",
       "      <td>Elvis Presley</td>\n",
       "      <td>https://open.spotify.com/track/64Ny7djQ6rNJspq...</td>\n",
       "      <td>0.494</td>\n",
       "      <td>0.756</td>\n",
       "      <td>0.0</td>\n",
       "      <td>-8.492</td>\n",
       "      <td>1.0</td>\n",
       "      <td>0.0499</td>\n",
       "      <td>0.733000</td>\n",
       "      <td>...</td>\n",
       "      <td>0.7600</td>\n",
       "      <td>0.949</td>\n",
       "      <td>86.895</td>\n",
       "      <td>64Ny7djQ6rNJspquof2KoX</td>\n",
       "      <td>spotify:track:64Ny7djQ6rNJspquof2KoX</td>\n",
       "      <td>https://api.spotify.com/v1/tracks/64Ny7djQ6rNJ...</td>\n",
       "      <td>https://api.spotify.com/v1/audio-analysis/64Ny...</td>\n",
       "      <td>136027.0</td>\n",
       "      <td>4.0</td>\n",
       "      <td>7</td>\n",
       "    </tr>\n",
       "    <tr>\n",
       "      <th>...</th>\n",
       "      <td>...</td>\n",
       "      <td>...</td>\n",
       "      <td>...</td>\n",
       "      <td>...</td>\n",
       "      <td>...</td>\n",
       "      <td>...</td>\n",
       "      <td>...</td>\n",
       "      <td>...</td>\n",
       "      <td>...</td>\n",
       "      <td>...</td>\n",
       "      <td>...</td>\n",
       "      <td>...</td>\n",
       "      <td>...</td>\n",
       "      <td>...</td>\n",
       "      <td>...</td>\n",
       "      <td>...</td>\n",
       "      <td>...</td>\n",
       "      <td>...</td>\n",
       "      <td>...</td>\n",
       "      <td>...</td>\n",
       "      <td>...</td>\n",
       "    </tr>\n",
       "    <tr>\n",
       "      <th>5729</th>\n",
       "      <td>Radio</td>\n",
       "      <td>Rammstein</td>\n",
       "      <td>https://open.spotify.com/track/5vZ4IeUenK2cHub...</td>\n",
       "      <td>0.652</td>\n",
       "      <td>0.894</td>\n",
       "      <td>0.0</td>\n",
       "      <td>-5.145</td>\n",
       "      <td>0.0</td>\n",
       "      <td>0.0409</td>\n",
       "      <td>0.004040</td>\n",
       "      <td>...</td>\n",
       "      <td>0.1240</td>\n",
       "      <td>0.760</td>\n",
       "      <td>132.030</td>\n",
       "      <td>5vZ4IeUenK2cHub2d7yfWk</td>\n",
       "      <td>spotify:track:5vZ4IeUenK2cHub2d7yfWk</td>\n",
       "      <td>https://api.spotify.com/v1/tracks/5vZ4IeUenK2c...</td>\n",
       "      <td>https://api.spotify.com/v1/audio-analysis/5vZ4...</td>\n",
       "      <td>277397.0</td>\n",
       "      <td>4.0</td>\n",
       "      <td>0</td>\n",
       "    </tr>\n",
       "    <tr>\n",
       "      <th>5730</th>\n",
       "      <td>Dicke Titten</td>\n",
       "      <td>Rammstein</td>\n",
       "      <td>https://open.spotify.com/track/5KTBaWu8IOczQ0s...</td>\n",
       "      <td>0.630</td>\n",
       "      <td>0.823</td>\n",
       "      <td>6.0</td>\n",
       "      <td>-4.857</td>\n",
       "      <td>1.0</td>\n",
       "      <td>0.0496</td>\n",
       "      <td>0.020500</td>\n",
       "      <td>...</td>\n",
       "      <td>0.0377</td>\n",
       "      <td>0.565</td>\n",
       "      <td>117.048</td>\n",
       "      <td>5KTBaWu8IOczQ0sPWzZ7MY</td>\n",
       "      <td>spotify:track:5KTBaWu8IOczQ0sPWzZ7MY</td>\n",
       "      <td>https://api.spotify.com/v1/tracks/5KTBaWu8IOcz...</td>\n",
       "      <td>https://api.spotify.com/v1/audio-analysis/5KTB...</td>\n",
       "      <td>218593.0</td>\n",
       "      <td>4.0</td>\n",
       "      <td>1</td>\n",
       "    </tr>\n",
       "    <tr>\n",
       "      <th>5731</th>\n",
       "      <td>Engel</td>\n",
       "      <td>Rammstein</td>\n",
       "      <td>https://open.spotify.com/track/0xQZkTxb49QpopI...</td>\n",
       "      <td>0.637</td>\n",
       "      <td>0.658</td>\n",
       "      <td>2.0</td>\n",
       "      <td>-5.775</td>\n",
       "      <td>1.0</td>\n",
       "      <td>0.0291</td>\n",
       "      <td>0.009180</td>\n",
       "      <td>...</td>\n",
       "      <td>0.2950</td>\n",
       "      <td>0.328</td>\n",
       "      <td>96.072</td>\n",
       "      <td>0xQZkTxb49QpopIZQhKJUY</td>\n",
       "      <td>spotify:track:0xQZkTxb49QpopIZQhKJUY</td>\n",
       "      <td>https://api.spotify.com/v1/tracks/0xQZkTxb49Qp...</td>\n",
       "      <td>https://api.spotify.com/v1/audio-analysis/0xQZ...</td>\n",
       "      <td>264267.0</td>\n",
       "      <td>4.0</td>\n",
       "      <td>2</td>\n",
       "    </tr>\n",
       "    <tr>\n",
       "      <th>5732</th>\n",
       "      <td>Angst</td>\n",
       "      <td>Rammstein</td>\n",
       "      <td>https://open.spotify.com/track/0UuNO0yYvsMPlyL...</td>\n",
       "      <td>0.639</td>\n",
       "      <td>0.860</td>\n",
       "      <td>11.0</td>\n",
       "      <td>-4.270</td>\n",
       "      <td>1.0</td>\n",
       "      <td>0.0690</td>\n",
       "      <td>0.000306</td>\n",
       "      <td>...</td>\n",
       "      <td>0.0507</td>\n",
       "      <td>0.328</td>\n",
       "      <td>112.025</td>\n",
       "      <td>0UuNO0yYvsMPlyLF7RfQlg</td>\n",
       "      <td>spotify:track:0UuNO0yYvsMPlyLF7RfQlg</td>\n",
       "      <td>https://api.spotify.com/v1/tracks/0UuNO0yYvsMP...</td>\n",
       "      <td>https://api.spotify.com/v1/audio-analysis/0UuN...</td>\n",
       "      <td>224801.0</td>\n",
       "      <td>4.0</td>\n",
       "      <td>2</td>\n",
       "    </tr>\n",
       "    <tr>\n",
       "      <th>5733</th>\n",
       "      <td>Feuer frei!</td>\n",
       "      <td>Rammstein</td>\n",
       "      <td>https://open.spotify.com/track/73JZKk0nb1WOUmh...</td>\n",
       "      <td>0.491</td>\n",
       "      <td>0.966</td>\n",
       "      <td>3.0</td>\n",
       "      <td>-3.974</td>\n",
       "      <td>1.0</td>\n",
       "      <td>0.0463</td>\n",
       "      <td>0.000091</td>\n",
       "      <td>...</td>\n",
       "      <td>0.1530</td>\n",
       "      <td>0.223</td>\n",
       "      <td>95.141</td>\n",
       "      <td>73JZKk0nb1WOUmh1Eo3Unc</td>\n",
       "      <td>spotify:track:73JZKk0nb1WOUmh1Eo3Unc</td>\n",
       "      <td>https://api.spotify.com/v1/tracks/73JZKk0nb1WO...</td>\n",
       "      <td>https://api.spotify.com/v1/audio-analysis/73JZ...</td>\n",
       "      <td>188600.0</td>\n",
       "      <td>4.0</td>\n",
       "      <td>2</td>\n",
       "    </tr>\n",
       "  </tbody>\n",
       "</table>\n",
       "<p>5734 rows × 21 columns</p>\n",
       "</div>"
      ],
      "text/plain": [
       "                                                  title         artist  \\\n",
       "0                                        Blue Christmas  Elvis Presley   \n",
       "1                            Can't Help Falling in Love  Elvis Presley   \n",
       "2                                        Jailhouse Rock  Elvis Presley   \n",
       "3     Here Comes Santa Claus (Right Down Santa Claus...  Elvis Presley   \n",
       "4                                             Hound Dog  Elvis Presley   \n",
       "...                                                 ...            ...   \n",
       "5729                                              Radio      Rammstein   \n",
       "5730                                       Dicke Titten      Rammstein   \n",
       "5731                                              Engel      Rammstein   \n",
       "5732                                              Angst      Rammstein   \n",
       "5733                                        Feuer frei!      Rammstein   \n",
       "\n",
       "                                                    url  danceability  energy  \\\n",
       "0     https://open.spotify.com/track/3QiAAp20rPC3dcA...         0.465   0.270   \n",
       "1     https://open.spotify.com/track/44AyOl4qVkzS48v...         0.396   0.293   \n",
       "2     https://open.spotify.com/track/452KBpASS5lZLeJ...         0.623   0.537   \n",
       "3     https://open.spotify.com/track/7n7VsX3sv66znBw...         0.575   0.236   \n",
       "4     https://open.spotify.com/track/64Ny7djQ6rNJspq...         0.494   0.756   \n",
       "...                                                 ...           ...     ...   \n",
       "5729  https://open.spotify.com/track/5vZ4IeUenK2cHub...         0.652   0.894   \n",
       "5730  https://open.spotify.com/track/5KTBaWu8IOczQ0s...         0.630   0.823   \n",
       "5731  https://open.spotify.com/track/0xQZkTxb49QpopI...         0.637   0.658   \n",
       "5732  https://open.spotify.com/track/0UuNO0yYvsMPlyL...         0.639   0.860   \n",
       "5733  https://open.spotify.com/track/73JZKk0nb1WOUmh...         0.491   0.966   \n",
       "\n",
       "       key  loudness  mode  speechiness  acousticness  ...  liveness  valence  \\\n",
       "0      4.0   -16.661   1.0       0.0425      0.900000  ...    0.1450    0.580   \n",
       "1      2.0   -14.062   1.0       0.0275      0.941000  ...    0.1050    0.343   \n",
       "2     10.0   -10.014   0.0       0.0726      0.332000  ...    0.0963    0.905   \n",
       "3      2.0   -16.982   1.0       0.0422      0.968000  ...    0.1050    0.829   \n",
       "4      0.0    -8.492   1.0       0.0499      0.733000  ...    0.7600    0.949   \n",
       "...    ...       ...   ...          ...           ...  ...       ...      ...   \n",
       "5729   0.0    -5.145   0.0       0.0409      0.004040  ...    0.1240    0.760   \n",
       "5730   6.0    -4.857   1.0       0.0496      0.020500  ...    0.0377    0.565   \n",
       "5731   2.0    -5.775   1.0       0.0291      0.009180  ...    0.2950    0.328   \n",
       "5732  11.0    -4.270   1.0       0.0690      0.000306  ...    0.0507    0.328   \n",
       "5733   3.0    -3.974   1.0       0.0463      0.000091  ...    0.1530    0.223   \n",
       "\n",
       "        tempo                      id                                   uri  \\\n",
       "0      94.518  3QiAAp20rPC3dcAtKtMaqQ  spotify:track:3QiAAp20rPC3dcAtKtMaqQ   \n",
       "1     100.307  44AyOl4qVkzS48vBsbNXaC  spotify:track:44AyOl4qVkzS48vBsbNXaC   \n",
       "2     166.885  452KBpASS5lZLeJWX9Ixub  spotify:track:452KBpASS5lZLeJWX9Ixub   \n",
       "3      79.576  7n7VsX3sv66znBwA8b5uhp  spotify:track:7n7VsX3sv66znBwA8b5uhp   \n",
       "4      86.895  64Ny7djQ6rNJspquof2KoX  spotify:track:64Ny7djQ6rNJspquof2KoX   \n",
       "...       ...                     ...                                   ...   \n",
       "5729  132.030  5vZ4IeUenK2cHub2d7yfWk  spotify:track:5vZ4IeUenK2cHub2d7yfWk   \n",
       "5730  117.048  5KTBaWu8IOczQ0sPWzZ7MY  spotify:track:5KTBaWu8IOczQ0sPWzZ7MY   \n",
       "5731   96.072  0xQZkTxb49QpopIZQhKJUY  spotify:track:0xQZkTxb49QpopIZQhKJUY   \n",
       "5732  112.025  0UuNO0yYvsMPlyLF7RfQlg  spotify:track:0UuNO0yYvsMPlyLF7RfQlg   \n",
       "5733   95.141  73JZKk0nb1WOUmh1Eo3Unc  spotify:track:73JZKk0nb1WOUmh1Eo3Unc   \n",
       "\n",
       "                                             track_href  \\\n",
       "0     https://api.spotify.com/v1/tracks/3QiAAp20rPC3...   \n",
       "1     https://api.spotify.com/v1/tracks/44AyOl4qVkzS...   \n",
       "2     https://api.spotify.com/v1/tracks/452KBpASS5lZ...   \n",
       "3     https://api.spotify.com/v1/tracks/7n7VsX3sv66z...   \n",
       "4     https://api.spotify.com/v1/tracks/64Ny7djQ6rNJ...   \n",
       "...                                                 ...   \n",
       "5729  https://api.spotify.com/v1/tracks/5vZ4IeUenK2c...   \n",
       "5730  https://api.spotify.com/v1/tracks/5KTBaWu8IOcz...   \n",
       "5731  https://api.spotify.com/v1/tracks/0xQZkTxb49Qp...   \n",
       "5732  https://api.spotify.com/v1/tracks/0UuNO0yYvsMP...   \n",
       "5733  https://api.spotify.com/v1/tracks/73JZKk0nb1WO...   \n",
       "\n",
       "                                           analysis_url duration_ms  \\\n",
       "0     https://api.spotify.com/v1/audio-analysis/3QiA...    129173.0   \n",
       "1     https://api.spotify.com/v1/audio-analysis/44Ay...    182360.0   \n",
       "2     https://api.spotify.com/v1/audio-analysis/452K...    146933.0   \n",
       "3     https://api.spotify.com/v1/audio-analysis/7n7V...    115827.0   \n",
       "4     https://api.spotify.com/v1/audio-analysis/64Ny...    136027.0   \n",
       "...                                                 ...         ...   \n",
       "5729  https://api.spotify.com/v1/audio-analysis/5vZ4...    277397.0   \n",
       "5730  https://api.spotify.com/v1/audio-analysis/5KTB...    218593.0   \n",
       "5731  https://api.spotify.com/v1/audio-analysis/0xQZ...    264267.0   \n",
       "5732  https://api.spotify.com/v1/audio-analysis/0UuN...    224801.0   \n",
       "5733  https://api.spotify.com/v1/audio-analysis/73JZ...    188600.0   \n",
       "\n",
       "      time_signature  clusters  \n",
       "0                4.0         4  \n",
       "1                3.0         6  \n",
       "2                4.0         0  \n",
       "3                4.0         4  \n",
       "4                4.0         7  \n",
       "...              ...       ...  \n",
       "5729             4.0         0  \n",
       "5730             4.0         1  \n",
       "5731             4.0         2  \n",
       "5732             4.0         2  \n",
       "5733             4.0         2  \n",
       "\n",
       "[5734 rows x 21 columns]"
      ]
     },
     "execution_count": 66,
     "metadata": {},
     "output_type": "execute_result"
    }
   ],
   "source": [
    "playlist_clustered = playlist.assign(clusters = clusters)\n",
    "playlist_clustered"
   ]
  },
  {
   "cell_type": "code",
   "execution_count": 67,
   "id": "eaa86123",
   "metadata": {},
   "outputs": [],
   "source": [
    "playlist_clustered.to_csv('playlist_8_cluster.csv', index = False)\n"
   ]
  },
  {
   "cell_type": "code",
   "execution_count": null,
   "id": "e5401917",
   "metadata": {},
   "outputs": [],
   "source": [
    "# The first steps you took yesterday, were to create a list of Top Songs and Artists from scraping web sites.\n",
    "\n",
    "#  You should have ended with your lists in a data frame containing at least Song Title and Artist.\n",
    "\n",
    "# Today you are creating a recommender where the user inputs a song title and check if that song is in the list you created.   If it is,  give a different random song and artist from the list.  If it is not on the list, let the user know that you have no recommendation at this time."
   ]
  },
  {
   "cell_type": "code",
   "execution_count": null,
   "id": "edcf7fc5",
   "metadata": {},
   "outputs": [],
   "source": [
    "# PICKLING AND TRANSFORMING "
   ]
  },
  {
   "cell_type": "code",
   "execution_count": 68,
   "id": "b61dc5e9",
   "metadata": {},
   "outputs": [],
   "source": [
    "import pandas as pd\n",
    "import numpy as np\n",
    "# K-means\n",
    "from sklearn.cluster import KMeans\n",
    "from sklearn import cluster, datasets"
   ]
  },
  {
   "cell_type": "code",
   "execution_count": 69,
   "id": "6c71f5f1",
   "metadata": {},
   "outputs": [],
   "source": [
    "playlist = pd.read_csv('asli_playlist.csv')"
   ]
  },
  {
   "cell_type": "code",
   "execution_count": 70,
   "id": "0e928407",
   "metadata": {},
   "outputs": [],
   "source": [
    "data = playlist.drop(columns=['title', 'artist', 'url','id','uri','track_href','analysis_url'])\n"
   ]
  },
  {
   "cell_type": "code",
   "execution_count": 71,
   "id": "61ac858f",
   "metadata": {},
   "outputs": [],
   "source": [
    "from sklearn.preprocessing import StandardScaler\n",
    "transformer = StandardScaler().fit(data)\n",
    "data_prep = transformer.transform(data)\n",
    "\n",
    "# Now, all features will have the same weight.\n",
    "data_prep = pd.DataFrame(data_prep,columns=data.columns)"
   ]
  },
  {
   "cell_type": "code",
   "execution_count": 72,
   "id": "bb2e06b5",
   "metadata": {},
   "outputs": [
    {
     "name": "stderr",
     "output_type": "stream",
     "text": [
      "C:\\Users\\it-it\\anaconda3\\lib\\site-packages\\sklearn\\cluster\\_kmeans.py:870: FutureWarning: The default value of `n_init` will change from 10 to 'auto' in 1.4. Set the value of `n_init` explicitly to suppress the warning\n",
      "  warnings.warn(\n"
     ]
    },
    {
     "data": {
      "text/html": [
       "<style>#sk-container-id-2 {color: black;background-color: white;}#sk-container-id-2 pre{padding: 0;}#sk-container-id-2 div.sk-toggleable {background-color: white;}#sk-container-id-2 label.sk-toggleable__label {cursor: pointer;display: block;width: 100%;margin-bottom: 0;padding: 0.3em;box-sizing: border-box;text-align: center;}#sk-container-id-2 label.sk-toggleable__label-arrow:before {content: \"▸\";float: left;margin-right: 0.25em;color: #696969;}#sk-container-id-2 label.sk-toggleable__label-arrow:hover:before {color: black;}#sk-container-id-2 div.sk-estimator:hover label.sk-toggleable__label-arrow:before {color: black;}#sk-container-id-2 div.sk-toggleable__content {max-height: 0;max-width: 0;overflow: hidden;text-align: left;background-color: #f0f8ff;}#sk-container-id-2 div.sk-toggleable__content pre {margin: 0.2em;color: black;border-radius: 0.25em;background-color: #f0f8ff;}#sk-container-id-2 input.sk-toggleable__control:checked~div.sk-toggleable__content {max-height: 200px;max-width: 100%;overflow: auto;}#sk-container-id-2 input.sk-toggleable__control:checked~label.sk-toggleable__label-arrow:before {content: \"▾\";}#sk-container-id-2 div.sk-estimator input.sk-toggleable__control:checked~label.sk-toggleable__label {background-color: #d4ebff;}#sk-container-id-2 div.sk-label input.sk-toggleable__control:checked~label.sk-toggleable__label {background-color: #d4ebff;}#sk-container-id-2 input.sk-hidden--visually {border: 0;clip: rect(1px 1px 1px 1px);clip: rect(1px, 1px, 1px, 1px);height: 1px;margin: -1px;overflow: hidden;padding: 0;position: absolute;width: 1px;}#sk-container-id-2 div.sk-estimator {font-family: monospace;background-color: #f0f8ff;border: 1px dotted black;border-radius: 0.25em;box-sizing: border-box;margin-bottom: 0.5em;}#sk-container-id-2 div.sk-estimator:hover {background-color: #d4ebff;}#sk-container-id-2 div.sk-parallel-item::after {content: \"\";width: 100%;border-bottom: 1px solid gray;flex-grow: 1;}#sk-container-id-2 div.sk-label:hover label.sk-toggleable__label {background-color: #d4ebff;}#sk-container-id-2 div.sk-serial::before {content: \"\";position: absolute;border-left: 1px solid gray;box-sizing: border-box;top: 0;bottom: 0;left: 50%;z-index: 0;}#sk-container-id-2 div.sk-serial {display: flex;flex-direction: column;align-items: center;background-color: white;padding-right: 0.2em;padding-left: 0.2em;position: relative;}#sk-container-id-2 div.sk-item {position: relative;z-index: 1;}#sk-container-id-2 div.sk-parallel {display: flex;align-items: stretch;justify-content: center;background-color: white;position: relative;}#sk-container-id-2 div.sk-item::before, #sk-container-id-2 div.sk-parallel-item::before {content: \"\";position: absolute;border-left: 1px solid gray;box-sizing: border-box;top: 0;bottom: 0;left: 50%;z-index: -1;}#sk-container-id-2 div.sk-parallel-item {display: flex;flex-direction: column;z-index: 1;position: relative;background-color: white;}#sk-container-id-2 div.sk-parallel-item:first-child::after {align-self: flex-end;width: 50%;}#sk-container-id-2 div.sk-parallel-item:last-child::after {align-self: flex-start;width: 50%;}#sk-container-id-2 div.sk-parallel-item:only-child::after {width: 0;}#sk-container-id-2 div.sk-dashed-wrapped {border: 1px dashed gray;margin: 0 0.4em 0.5em 0.4em;box-sizing: border-box;padding-bottom: 0.4em;background-color: white;}#sk-container-id-2 div.sk-label label {font-family: monospace;font-weight: bold;display: inline-block;line-height: 1.2em;}#sk-container-id-2 div.sk-label-container {text-align: center;}#sk-container-id-2 div.sk-container {/* jupyter's `normalize.less` sets `[hidden] { display: none; }` but bootstrap.min.css set `[hidden] { display: none !important; }` so we also need the `!important` here to be able to override the default hidden behavior on the sphinx rendered scikit-learn.org. See: https://github.com/scikit-learn/scikit-learn/issues/21755 */display: inline-block !important;position: relative;}#sk-container-id-2 div.sk-text-repr-fallback {display: none;}</style><div id=\"sk-container-id-2\" class=\"sk-top-container\"><div class=\"sk-text-repr-fallback\"><pre>KMeans(random_state=1234)</pre><b>In a Jupyter environment, please rerun this cell to show the HTML representation or trust the notebook. <br />On GitHub, the HTML representation is unable to render, please try loading this page with nbviewer.org.</b></div><div class=\"sk-container\" hidden><div class=\"sk-item\"><div class=\"sk-estimator sk-toggleable\"><input class=\"sk-toggleable__control sk-hidden--visually\" id=\"sk-estimator-id-2\" type=\"checkbox\" checked><label for=\"sk-estimator-id-2\" class=\"sk-toggleable__label sk-toggleable__label-arrow\">KMeans</label><div class=\"sk-toggleable__content\"><pre>KMeans(random_state=1234)</pre></div></div></div></div></div>"
      ],
      "text/plain": [
       "KMeans(random_state=1234)"
      ]
     },
     "execution_count": 72,
     "metadata": {},
     "output_type": "execute_result"
    }
   ],
   "source": [
    "from sklearn.cluster import KMeans\n",
    "\n",
    "kmeans = KMeans(n_clusters=8, random_state=1234)\n",
    "kmeans.fit(data_prep)"
   ]
  },
  {
   "cell_type": "code",
   "execution_count": 73,
   "id": "8b906f0e",
   "metadata": {},
   "outputs": [
    {
     "data": {
      "text/plain": [
       "0    1163\n",
       "1    1508\n",
       "2     831\n",
       "3     289\n",
       "4     912\n",
       "5     422\n",
       "6     317\n",
       "7     292\n",
       "dtype: int64"
      ]
     },
     "execution_count": 73,
     "metadata": {},
     "output_type": "execute_result"
    }
   ],
   "source": [
    "# Predicting / assigning the clusters:\n",
    "clusters = kmeans.predict(data_prep)\n",
    "\n",
    "# Check the size of the clusters\n",
    "pd.Series(clusters).value_counts().sort_index()"
   ]
  },
  {
   "cell_type": "code",
   "execution_count": 74,
   "id": "73ec1868",
   "metadata": {},
   "outputs": [
    {
     "data": {
      "text/plain": [
       "44205.79700233666"
      ]
     },
     "execution_count": 74,
     "metadata": {},
     "output_type": "execute_result"
    }
   ],
   "source": [
    "kmeans.inertia_ "
   ]
  },
  {
   "cell_type": "code",
   "execution_count": 75,
   "id": "17728de5",
   "metadata": {},
   "outputs": [],
   "source": [
    "import pickle\n",
    "pickle.dump(kmeans,open('kmeans_8_cluster.p', 'wb'))"
   ]
  },
  {
   "cell_type": "code",
   "execution_count": 76,
   "id": "e721adec",
   "metadata": {},
   "outputs": [],
   "source": [
    "pickle.dump(transformer,open('transformer.p', 'wb'))"
   ]
  },
  {
   "cell_type": "code",
   "execution_count": null,
   "id": "a22137ed",
   "metadata": {},
   "outputs": [],
   "source": [
    "# Lab_6.01_GNOD_part1_and_part2"
   ]
  },
  {
   "cell_type": "code",
   "execution_count": 77,
   "id": "d7bfff35",
   "metadata": {},
   "outputs": [],
   "source": [
    "from bs4 import BeautifulSoup\n",
    "import requests\n",
    "import pandas as pd\n",
    "import numpy as np"
   ]
  },
  {
   "cell_type": "code",
   "execution_count": 78,
   "id": "1363ee45",
   "metadata": {},
   "outputs": [],
   "source": [
    "# 1. find url and store it in a variable\n",
    "url = \"https://www.popvortex.com/music/charts/top-100-songs.php\""
   ]
  },
  {
   "cell_type": "code",
   "execution_count": 79,
   "id": "9f6d2fb9",
   "metadata": {},
   "outputs": [
    {
     "data": {
      "text/plain": [
       "200"
      ]
     },
     "execution_count": 79,
     "metadata": {},
     "output_type": "execute_result"
    }
   ],
   "source": [
    "# 2. download html with a get request\n",
    "response = requests.get(url)\n",
    "response.status_code # 200 status code means OK!"
   ]
  },
  {
   "cell_type": "code",
   "execution_count": 80,
   "id": "00dc9411",
   "metadata": {},
   "outputs": [],
   "source": [
    "# 3. parse html (create the 'soup')\n",
    "soup = BeautifulSoup(response.content, \"html.parser\")"
   ]
  },
  {
   "cell_type": "code",
   "execution_count": 81,
   "id": "3758360d",
   "metadata": {},
   "outputs": [],
   "source": [
    "#initialize empty lists\n",
    "title = []\n",
    "artist = []\n",
    "\n",
    "\n",
    "# define the number of iterations of our for loop\n",
    "num_iter = len(soup.select(\"cite.title\"))\n",
    "\n",
    "title_list = soup.select(\"cite.title\")\n",
    "artist_list = soup.select(\"em.artist\")\n",
    "\n",
    "\n",
    "# iterate through the result set and retrive all the data\n",
    "for i in range(num_iter):\n",
    "    title.append(title_list[i].get_text())\n",
    "    artist.append(artist_list[i].get_text())"
   ]
  },
  {
   "cell_type": "code",
   "execution_count": 82,
   "id": "0ee5eb24",
   "metadata": {},
   "outputs": [],
   "source": [
    "top_100_songs = pd.DataFrame({\"title\":title, \"artist\":artist})\n"
   ]
  },
  {
   "cell_type": "code",
   "execution_count": 83,
   "id": "537bcc8f",
   "metadata": {},
   "outputs": [],
   "source": [
    "top_100_songs['title'] = top_100_songs['title'].str.lower()\n"
   ]
  },
  {
   "cell_type": "code",
   "execution_count": 84,
   "id": "cc3bf807",
   "metadata": {},
   "outputs": [],
   "source": [
    "top_100_songs['artist'] = top_100_songs['artist'].str.lower()\n"
   ]
  },
  {
   "cell_type": "code",
   "execution_count": 85,
   "id": "f2729e32",
   "metadata": {},
   "outputs": [
    {
     "data": {
      "text/html": [
       "<div>\n",
       "<style scoped>\n",
       "    .dataframe tbody tr th:only-of-type {\n",
       "        vertical-align: middle;\n",
       "    }\n",
       "\n",
       "    .dataframe tbody tr th {\n",
       "        vertical-align: top;\n",
       "    }\n",
       "\n",
       "    .dataframe thead th {\n",
       "        text-align: right;\n",
       "    }\n",
       "</style>\n",
       "<table border=\"1\" class=\"dataframe\">\n",
       "  <thead>\n",
       "    <tr style=\"text-align: right;\">\n",
       "      <th></th>\n",
       "      <th>title</th>\n",
       "      <th>artist</th>\n",
       "    </tr>\n",
       "  </thead>\n",
       "  <tbody>\n",
       "    <tr>\n",
       "      <th>0</th>\n",
       "      <td>flowers</td>\n",
       "      <td>miley cyrus</td>\n",
       "    </tr>\n",
       "    <tr>\n",
       "      <th>1</th>\n",
       "      <td>shakira: bzrp music sessions, vol. 53</td>\n",
       "      <td>bizarrap &amp; shakira</td>\n",
       "    </tr>\n",
       "    <tr>\n",
       "      <th>2</th>\n",
       "      <td>vibe (feat. jimin of bts)</td>\n",
       "      <td>taeyang</td>\n",
       "    </tr>\n",
       "    <tr>\n",
       "      <th>3</th>\n",
       "      <td>unholy</td>\n",
       "      <td>sam smith &amp; kim petras</td>\n",
       "    </tr>\n",
       "    <tr>\n",
       "      <th>4</th>\n",
       "      <td>anti-hero</td>\n",
       "      <td>taylor swift</td>\n",
       "    </tr>\n",
       "  </tbody>\n",
       "</table>\n",
       "</div>"
      ],
      "text/plain": [
       "                                   title                  artist\n",
       "0                                flowers             miley cyrus\n",
       "1  shakira: bzrp music sessions, vol. 53      bizarrap & shakira\n",
       "2              vibe (feat. jimin of bts)                 taeyang\n",
       "3                                 unholy  sam smith & kim petras\n",
       "4                              anti-hero            taylor swift"
      ]
     },
     "execution_count": 85,
     "metadata": {},
     "output_type": "execute_result"
    }
   ],
   "source": [
    "top_100_songs.head()"
   ]
  },
  {
   "cell_type": "code",
   "execution_count": 86,
   "id": "6cb29f0a",
   "metadata": {},
   "outputs": [],
   "source": [
    "top_100_songs.to_csv('top_100_songs.csv', index = False)"
   ]
  },
  {
   "cell_type": "code",
   "execution_count": 87,
   "id": "2e2217c7",
   "metadata": {},
   "outputs": [],
   "source": [
    "# GNOD part 2\n",
    "# Today you are creating a recommender where the user inputs a song title and check if that song is in the list you created. If it is, give a different random song and artist from the list. If it is not on the list, let the user know that you have no recommendation at this time."
   ]
  },
  {
   "cell_type": "code",
   "execution_count": 88,
   "id": "ffc8972a",
   "metadata": {},
   "outputs": [
    {
     "name": "stdout",
     "output_type": "stream",
     "text": [
      "Enter a song that you love: Yesterday\n"
     ]
    }
   ],
   "source": [
    "song = input(\"Enter a song that you love: \")\n"
   ]
  },
  {
   "cell_type": "code",
   "execution_count": 89,
   "id": "272e70ed",
   "metadata": {},
   "outputs": [
    {
     "name": "stdout",
     "output_type": "stream",
     "text": [
      "I have no recommendation at this time\n"
     ]
    }
   ],
   "source": [
    "if top_100_songs['title'].str.lower().str.contains(str(song).lower()).any() == True:\n",
    "        print('here what I found for you! ')\n",
    "        print(top_100_songs['title'].sample())\n",
    "else:\n",
    "        print('I have no recommendation at this time')"
   ]
  },
  {
   "cell_type": "code",
   "execution_count": 90,
   "id": "df6d4932",
   "metadata": {},
   "outputs": [],
   "source": [
    "# GNOD SONG RECOMMENDER"
   ]
  },
  {
   "cell_type": "code",
   "execution_count": 91,
   "id": "15d591b7",
   "metadata": {},
   "outputs": [],
   "source": [
    "import requests\n",
    "import pandas as pd\n",
    "import numpy as np\n",
    "import pickle\n",
    "from sklearn.preprocessing import StandardScaler\n",
    "from sklearn.cluster import KMeans\n",
    "\n",
    "# I am retrieving the kmeans model which I add 8 clusters to my playlist\n",
    "kmeans = pickle.load(open('kmeans_8_cluster.p', 'rb'))\n",
    "\n",
    "# I am retrieving my scaler that I used at my original dataset\n",
    "transformer = pickle.load(open('transformer.p', 'rb'))"
   ]
  },
  {
   "cell_type": "code",
   "execution_count": 92,
   "id": "6e8a2cfa",
   "metadata": {},
   "outputs": [],
   "source": [
    "top_100_songs = pd.read_csv('top_100_songs.csv')\n",
    "playlist_8_cluster = pd.read_csv('playlist_8_cluster.csv')"
   ]
  },
  {
   "cell_type": "code",
   "execution_count": 93,
   "id": "b9af6ebc",
   "metadata": {},
   "outputs": [],
   "source": [
    "\n",
    "import spotipy\n",
    "import json\n",
    "from spotipy.oauth2 import SpotifyClientCredentials"
   ]
  },
  {
   "cell_type": "code",
   "execution_count": 95,
   "id": "2a6c4d85",
   "metadata": {},
   "outputs": [],
   "source": [
    "secrets_file = open(\"secrets.txt\",\"r\")\n"
   ]
  },
  {
   "cell_type": "code",
   "execution_count": 96,
   "id": "84e86df3",
   "metadata": {},
   "outputs": [],
   "source": [
    "string = secrets_file.read()\n"
   ]
  },
  {
   "cell_type": "code",
   "execution_count": 97,
   "id": "3a039439",
   "metadata": {},
   "outputs": [],
   "source": [
    "#string.split('\\n')\n"
   ]
  },
  {
   "cell_type": "code",
   "execution_count": 98,
   "id": "99d23540",
   "metadata": {},
   "outputs": [],
   "source": [
    "secrets_dict={}\n",
    "for line in string.split('\\n'):\n",
    "    if len(line) > 0:\n",
    "        secrets_dict[line.split(':')[0]]=line.split(':')[1].strip()"
   ]
  },
  {
   "cell_type": "code",
   "execution_count": 99,
   "id": "0bb302fd",
   "metadata": {},
   "outputs": [],
   "source": [
    "import spotipy\n",
    "from spotipy.oauth2 import SpotifyClientCredentials\n",
    "\n",
    "#Initialize SpotiPy with user credentials\n",
    "sp = spotipy.Spotify(auth_manager=SpotifyClientCredentials(client_id=secrets_dict['clientid'],\n",
    "                                                           client_secret=secrets_dict['clientsecret']))"
   ]
  },
  {
   "cell_type": "code",
   "execution_count": 100,
   "id": "e7e62085",
   "metadata": {},
   "outputs": [
    {
     "name": "stdout",
     "output_type": "stream",
     "text": [
      "Enter a song that you love: Yesterday\n"
     ]
    }
   ],
   "source": [
    "track = input(\"Enter a song that you love: \")"
   ]
  },
  {
   "cell_type": "code",
   "execution_count": 101,
   "id": "7937e301",
   "metadata": {},
   "outputs": [
    {
     "name": "stdout",
     "output_type": "stream",
     "text": [
      "continue below !!!\n"
     ]
    }
   ],
   "source": [
    "if top_100_songs['title'].str.lower().str.contains(str(track).lower()).any() == True:\n",
    "        print('here what I found for you! ')\n",
    "        print(top_100_songs['title'].sample())\n",
    "else:\n",
    "        print('continue below !!!')"
   ]
  },
  {
   "cell_type": "code",
   "execution_count": 102,
   "id": "96b160d9",
   "metadata": {},
   "outputs": [],
   "source": [
    "results = sp.search(q=\"track:\" + track, type=\"track\")"
   ]
  },
  {
   "cell_type": "code",
   "execution_count": 103,
   "id": "20af51d0",
   "metadata": {},
   "outputs": [
    {
     "data": {
      "text/plain": [
       "'3BQHpFgAp4l80e1XslIjNI'"
      ]
     },
     "execution_count": 103,
     "metadata": {},
     "output_type": "execute_result"
    }
   ],
   "source": [
    "song_uri = results['tracks']['items'][0]['uri'].split(':')[2]\n",
    "song_uri"
   ]
  },
  {
   "cell_type": "code",
   "execution_count": 104,
   "id": "ac8fa64c",
   "metadata": {},
   "outputs": [
    {
     "data": {
      "text/plain": [
       "[{'danceability': 0.332,\n",
       "  'energy': 0.179,\n",
       "  'key': 5,\n",
       "  'loudness': -11.83,\n",
       "  'mode': 1,\n",
       "  'speechiness': 0.0326,\n",
       "  'acousticness': 0.879,\n",
       "  'instrumentalness': 0,\n",
       "  'liveness': 0.0886,\n",
       "  'valence': 0.315,\n",
       "  'tempo': 96.529,\n",
       "  'type': 'audio_features',\n",
       "  'id': '3BQHpFgAp4l80e1XslIjNI',\n",
       "  'uri': 'spotify:track:3BQHpFgAp4l80e1XslIjNI',\n",
       "  'track_href': 'https://api.spotify.com/v1/tracks/3BQHpFgAp4l80e1XslIjNI',\n",
       "  'analysis_url': 'https://api.spotify.com/v1/audio-analysis/3BQHpFgAp4l80e1XslIjNI',\n",
       "  'duration_ms': 125667,\n",
       "  'time_signature': 4}]"
      ]
     },
     "execution_count": 104,
     "metadata": {},
     "output_type": "execute_result"
    }
   ],
   "source": [
    "# get the audio features for that song\n",
    "song_features = sp.audio_features(song_uri)\n",
    "song_features"
   ]
  },
  {
   "cell_type": "code",
   "execution_count": 105,
   "id": "b12aeb56",
   "metadata": {},
   "outputs": [],
   "source": [
    "new = pd.DataFrame.from_dict(song_features)\n"
   ]
  },
  {
   "cell_type": "code",
   "execution_count": 106,
   "id": "4a3ff4f0",
   "metadata": {},
   "outputs": [
    {
     "data": {
      "text/html": [
       "<div>\n",
       "<style scoped>\n",
       "    .dataframe tbody tr th:only-of-type {\n",
       "        vertical-align: middle;\n",
       "    }\n",
       "\n",
       "    .dataframe tbody tr th {\n",
       "        vertical-align: top;\n",
       "    }\n",
       "\n",
       "    .dataframe thead th {\n",
       "        text-align: right;\n",
       "    }\n",
       "</style>\n",
       "<table border=\"1\" class=\"dataframe\">\n",
       "  <thead>\n",
       "    <tr style=\"text-align: right;\">\n",
       "      <th></th>\n",
       "      <th>danceability</th>\n",
       "      <th>energy</th>\n",
       "      <th>key</th>\n",
       "      <th>loudness</th>\n",
       "      <th>mode</th>\n",
       "      <th>speechiness</th>\n",
       "      <th>acousticness</th>\n",
       "      <th>instrumentalness</th>\n",
       "      <th>liveness</th>\n",
       "      <th>valence</th>\n",
       "      <th>tempo</th>\n",
       "      <th>duration_ms</th>\n",
       "      <th>time_signature</th>\n",
       "    </tr>\n",
       "  </thead>\n",
       "  <tbody>\n",
       "    <tr>\n",
       "      <th>0</th>\n",
       "      <td>0.332</td>\n",
       "      <td>0.179</td>\n",
       "      <td>5</td>\n",
       "      <td>-11.83</td>\n",
       "      <td>1</td>\n",
       "      <td>0.0326</td>\n",
       "      <td>0.879</td>\n",
       "      <td>0</td>\n",
       "      <td>0.0886</td>\n",
       "      <td>0.315</td>\n",
       "      <td>96.529</td>\n",
       "      <td>125667</td>\n",
       "      <td>4</td>\n",
       "    </tr>\n",
       "  </tbody>\n",
       "</table>\n",
       "</div>"
      ],
      "text/plain": [
       "   danceability  energy  key  loudness  mode  speechiness  acousticness  \\\n",
       "0         0.332   0.179    5    -11.83     1       0.0326         0.879   \n",
       "\n",
       "   instrumentalness  liveness  valence   tempo  duration_ms  time_signature  \n",
       "0                 0    0.0886    0.315  96.529       125667               4  "
      ]
     },
     "execution_count": 106,
     "metadata": {},
     "output_type": "execute_result"
    }
   ],
   "source": [
    "y_pred = new.drop(columns=['type', 'id' , 'uri', 'track_href', 'analysis_url'])\n",
    "y_pred"
   ]
  },
  {
   "cell_type": "code",
   "execution_count": 107,
   "id": "1d74b8b6",
   "metadata": {},
   "outputs": [],
   "source": [
    "y_scaled = transformer.transform(y_pred)"
   ]
  },
  {
   "cell_type": "code",
   "execution_count": 108,
   "id": "c67902a4",
   "metadata": {},
   "outputs": [],
   "source": [
    "y_scaled = pd.DataFrame(y_scaled,columns=y_pred.columns)"
   ]
  },
  {
   "cell_type": "code",
   "execution_count": 109,
   "id": "3b393aa0",
   "metadata": {},
   "outputs": [
    {
     "data": {
      "text/html": [
       "<div>\n",
       "<style scoped>\n",
       "    .dataframe tbody tr th:only-of-type {\n",
       "        vertical-align: middle;\n",
       "    }\n",
       "\n",
       "    .dataframe tbody tr th {\n",
       "        vertical-align: top;\n",
       "    }\n",
       "\n",
       "    .dataframe thead th {\n",
       "        text-align: right;\n",
       "    }\n",
       "</style>\n",
       "<table border=\"1\" class=\"dataframe\">\n",
       "  <thead>\n",
       "    <tr style=\"text-align: right;\">\n",
       "      <th></th>\n",
       "      <th>danceability</th>\n",
       "      <th>energy</th>\n",
       "      <th>key</th>\n",
       "      <th>loudness</th>\n",
       "      <th>mode</th>\n",
       "      <th>speechiness</th>\n",
       "      <th>acousticness</th>\n",
       "      <th>instrumentalness</th>\n",
       "      <th>liveness</th>\n",
       "      <th>valence</th>\n",
       "      <th>tempo</th>\n",
       "      <th>duration_ms</th>\n",
       "      <th>time_signature</th>\n",
       "    </tr>\n",
       "  </thead>\n",
       "  <tbody>\n",
       "    <tr>\n",
       "      <th>0</th>\n",
       "      <td>-1.678507</td>\n",
       "      <td>-2.002019</td>\n",
       "      <td>-0.060909</td>\n",
       "      <td>-0.833909</td>\n",
       "      <td>0.695392</td>\n",
       "      <td>-0.531988</td>\n",
       "      <td>1.961244</td>\n",
       "      <td>-0.297852</td>\n",
       "      <td>-0.640979</td>\n",
       "      <td>-0.982813</td>\n",
       "      <td>-0.821434</td>\n",
       "      <td>-1.059413</td>\n",
       "      <td>0.217667</td>\n",
       "    </tr>\n",
       "  </tbody>\n",
       "</table>\n",
       "</div>"
      ],
      "text/plain": [
       "   danceability    energy       key  loudness      mode  speechiness  \\\n",
       "0     -1.678507 -2.002019 -0.060909 -0.833909  0.695392    -0.531988   \n",
       "\n",
       "   acousticness  instrumentalness  liveness   valence     tempo  duration_ms  \\\n",
       "0      1.961244         -0.297852 -0.640979 -0.982813 -0.821434    -1.059413   \n",
       "\n",
       "   time_signature  \n",
       "0        0.217667  "
      ]
     },
     "execution_count": 109,
     "metadata": {},
     "output_type": "execute_result"
    }
   ],
   "source": [
    "y_scaled"
   ]
  },
  {
   "cell_type": "code",
   "execution_count": 110,
   "id": "af1357fa",
   "metadata": {},
   "outputs": [],
   "source": [
    "look_for = kmeans.predict(y_scaled)\n"
   ]
  },
  {
   "cell_type": "code",
   "execution_count": 111,
   "id": "db934218",
   "metadata": {},
   "outputs": [
    {
     "data": {
      "text/plain": [
       "4"
      ]
     },
     "execution_count": 111,
     "metadata": {},
     "output_type": "execute_result"
    }
   ],
   "source": [
    "# song cluster\n",
    "look_for[0]"
   ]
  },
  {
   "cell_type": "code",
   "execution_count": 112,
   "id": "33e38eeb",
   "metadata": {},
   "outputs": [
    {
     "data": {
      "text/html": [
       "<div>\n",
       "<style scoped>\n",
       "    .dataframe tbody tr th:only-of-type {\n",
       "        vertical-align: middle;\n",
       "    }\n",
       "\n",
       "    .dataframe tbody tr th {\n",
       "        vertical-align: top;\n",
       "    }\n",
       "\n",
       "    .dataframe thead th {\n",
       "        text-align: right;\n",
       "    }\n",
       "</style>\n",
       "<table border=\"1\" class=\"dataframe\">\n",
       "  <thead>\n",
       "    <tr style=\"text-align: right;\">\n",
       "      <th></th>\n",
       "      <th>title</th>\n",
       "      <th>artist</th>\n",
       "      <th>url</th>\n",
       "      <th>danceability</th>\n",
       "      <th>energy</th>\n",
       "      <th>key</th>\n",
       "      <th>loudness</th>\n",
       "      <th>mode</th>\n",
       "      <th>speechiness</th>\n",
       "      <th>acousticness</th>\n",
       "      <th>...</th>\n",
       "      <th>liveness</th>\n",
       "      <th>valence</th>\n",
       "      <th>tempo</th>\n",
       "      <th>id</th>\n",
       "      <th>uri</th>\n",
       "      <th>track_href</th>\n",
       "      <th>analysis_url</th>\n",
       "      <th>duration_ms</th>\n",
       "      <th>time_signature</th>\n",
       "      <th>clusters</th>\n",
       "    </tr>\n",
       "  </thead>\n",
       "  <tbody>\n",
       "    <tr>\n",
       "      <th>5545</th>\n",
       "      <td>Our Love's Funeral</td>\n",
       "      <td>Racoon</td>\n",
       "      <td>https://open.spotify.com/track/4AXklvY4icjXZQf...</td>\n",
       "      <td>0.634</td>\n",
       "      <td>0.245</td>\n",
       "      <td>2.0</td>\n",
       "      <td>-10.84</td>\n",
       "      <td>1.0</td>\n",
       "      <td>0.0306</td>\n",
       "      <td>0.754</td>\n",
       "      <td>...</td>\n",
       "      <td>0.0914</td>\n",
       "      <td>0.152</td>\n",
       "      <td>98.901</td>\n",
       "      <td>4AXklvY4icjXZQf3vFAZug</td>\n",
       "      <td>spotify:track:4AXklvY4icjXZQf3vFAZug</td>\n",
       "      <td>https://api.spotify.com/v1/tracks/4AXklvY4icjX...</td>\n",
       "      <td>https://api.spotify.com/v1/audio-analysis/4AXk...</td>\n",
       "      <td>165320.0</td>\n",
       "      <td>4.0</td>\n",
       "      <td>4</td>\n",
       "    </tr>\n",
       "  </tbody>\n",
       "</table>\n",
       "<p>1 rows × 21 columns</p>\n",
       "</div>"
      ],
      "text/plain": [
       "                   title  artist  \\\n",
       "5545  Our Love's Funeral  Racoon   \n",
       "\n",
       "                                                    url  danceability  energy  \\\n",
       "5545  https://open.spotify.com/track/4AXklvY4icjXZQf...         0.634   0.245   \n",
       "\n",
       "      key  loudness  mode  speechiness  acousticness  ...  liveness  valence  \\\n",
       "5545  2.0    -10.84   1.0       0.0306         0.754  ...    0.0914    0.152   \n",
       "\n",
       "       tempo                      id                                   uri  \\\n",
       "5545  98.901  4AXklvY4icjXZQf3vFAZug  spotify:track:4AXklvY4icjXZQf3vFAZug   \n",
       "\n",
       "                                             track_href  \\\n",
       "5545  https://api.spotify.com/v1/tracks/4AXklvY4icjX...   \n",
       "\n",
       "                                           analysis_url duration_ms  \\\n",
       "5545  https://api.spotify.com/v1/audio-analysis/4AXk...    165320.0   \n",
       "\n",
       "      time_signature  clusters  \n",
       "5545             4.0         4  \n",
       "\n",
       "[1 rows x 21 columns]"
      ]
     },
     "metadata": {},
     "output_type": "display_data"
    }
   ],
   "source": [
    "display(playlist_8_cluster.loc[playlist_8_cluster.clusters == look_for[0]].sample(1))\n"
   ]
  },
  {
   "cell_type": "code",
   "execution_count": 113,
   "id": "67fb4e61",
   "metadata": {},
   "outputs": [],
   "source": [
    "# FINAL_Song_Recommender"
   ]
  },
  {
   "cell_type": "code",
   "execution_count": 114,
   "id": "9d5f6604",
   "metadata": {},
   "outputs": [],
   "source": [
    "import requests\n",
    "import pandas as pd\n",
    "import numpy as np\n",
    "import pickle\n",
    "from sklearn.preprocessing import StandardScaler\n",
    "from sklearn.cluster import KMeans\n",
    "\n",
    "# I am retrieving the kmeans model which I add 8 clusters to my playlist\n",
    "kmeans = pickle.load(open('kmeans_8_cluster.p', 'rb'))\n",
    "\n",
    "# I am retrieving my scaler that I used at my original dataset\n",
    "transformer = pickle.load(open('transformer.p', 'rb'))\n"
   ]
  },
  {
   "cell_type": "code",
   "execution_count": 115,
   "id": "faef0955",
   "metadata": {},
   "outputs": [
    {
     "data": {
      "text/html": [
       "<div>\n",
       "<style scoped>\n",
       "    .dataframe tbody tr th:only-of-type {\n",
       "        vertical-align: middle;\n",
       "    }\n",
       "\n",
       "    .dataframe tbody tr th {\n",
       "        vertical-align: top;\n",
       "    }\n",
       "\n",
       "    .dataframe thead th {\n",
       "        text-align: right;\n",
       "    }\n",
       "</style>\n",
       "<table border=\"1\" class=\"dataframe\">\n",
       "  <thead>\n",
       "    <tr style=\"text-align: right;\">\n",
       "      <th></th>\n",
       "      <th>title</th>\n",
       "      <th>artist</th>\n",
       "    </tr>\n",
       "  </thead>\n",
       "  <tbody>\n",
       "    <tr>\n",
       "      <th>0</th>\n",
       "      <td>flowers</td>\n",
       "      <td>miley cyrus</td>\n",
       "    </tr>\n",
       "    <tr>\n",
       "      <th>1</th>\n",
       "      <td>shakira: bzrp music sessions, vol. 53</td>\n",
       "      <td>bizarrap &amp; shakira</td>\n",
       "    </tr>\n",
       "    <tr>\n",
       "      <th>2</th>\n",
       "      <td>vibe (feat. jimin of bts)</td>\n",
       "      <td>taeyang</td>\n",
       "    </tr>\n",
       "    <tr>\n",
       "      <th>3</th>\n",
       "      <td>unholy</td>\n",
       "      <td>sam smith &amp; kim petras</td>\n",
       "    </tr>\n",
       "    <tr>\n",
       "      <th>4</th>\n",
       "      <td>anti-hero</td>\n",
       "      <td>taylor swift</td>\n",
       "    </tr>\n",
       "    <tr>\n",
       "      <th>...</th>\n",
       "      <td>...</td>\n",
       "      <td>...</td>\n",
       "    </tr>\n",
       "    <tr>\n",
       "      <th>95</th>\n",
       "      <td>goodness of god (live)</td>\n",
       "      <td>cece winans</td>\n",
       "    </tr>\n",
       "    <tr>\n",
       "      <th>96</th>\n",
       "      <td>goo goo muck</td>\n",
       "      <td>the cramps</td>\n",
       "    </tr>\n",
       "    <tr>\n",
       "      <th>97</th>\n",
       "      <td>tishomingo</td>\n",
       "      <td>zach bryan</td>\n",
       "    </tr>\n",
       "    <tr>\n",
       "      <th>98</th>\n",
       "      <td>can't help falling in love</td>\n",
       "      <td>elvis presley</td>\n",
       "    </tr>\n",
       "    <tr>\n",
       "      <th>99</th>\n",
       "      <td>calm down</td>\n",
       "      <td>rema</td>\n",
       "    </tr>\n",
       "  </tbody>\n",
       "</table>\n",
       "<p>100 rows × 2 columns</p>\n",
       "</div>"
      ],
      "text/plain": [
       "                                    title                  artist\n",
       "0                                 flowers             miley cyrus\n",
       "1   shakira: bzrp music sessions, vol. 53      bizarrap & shakira\n",
       "2               vibe (feat. jimin of bts)                 taeyang\n",
       "3                                  unholy  sam smith & kim petras\n",
       "4                               anti-hero            taylor swift\n",
       "..                                    ...                     ...\n",
       "95                 goodness of god (live)             cece winans\n",
       "96                           goo goo muck              the cramps\n",
       "97                             tishomingo              zach bryan\n",
       "98             can't help falling in love           elvis presley\n",
       "99                              calm down                    rema\n",
       "\n",
       "[100 rows x 2 columns]"
      ]
     },
     "execution_count": 115,
     "metadata": {},
     "output_type": "execute_result"
    }
   ],
   "source": [
    "top_100_songs = pd.read_csv('top_100_songs.csv')\n",
    "playlist_8_cluster = pd.read_csv('playlist_8_cluster.csv')\n",
    "top_100_songs"
   ]
  },
  {
   "cell_type": "code",
   "execution_count": 116,
   "id": "f985cc74",
   "metadata": {},
   "outputs": [],
   "source": [
    "import spotipy\n",
    "import json\n",
    "from spotipy.oauth2 import SpotifyClientCredentials"
   ]
  },
  {
   "cell_type": "code",
   "execution_count": 117,
   "id": "9a5583f5",
   "metadata": {},
   "outputs": [],
   "source": [
    "\n",
    "secrets_file = open(\"secrets.txt\",\"r\")"
   ]
  },
  {
   "cell_type": "code",
   "execution_count": 118,
   "id": "ec3e750f",
   "metadata": {},
   "outputs": [],
   "source": [
    "string = secrets_file.read()"
   ]
  },
  {
   "cell_type": "code",
   "execution_count": 119,
   "id": "1eb0c174",
   "metadata": {},
   "outputs": [],
   "source": [
    "#string.split('\\n')"
   ]
  },
  {
   "cell_type": "code",
   "execution_count": 120,
   "id": "5d5ffccf",
   "metadata": {},
   "outputs": [],
   "source": [
    "secrets_dict={}\n",
    "for line in string.split('\\n'):\n",
    "    if len(line) > 0:\n",
    "        secrets_dict[line.split(':')[0]]=line.split(':')[1].strip()"
   ]
  },
  {
   "cell_type": "code",
   "execution_count": 121,
   "id": "e9f29802",
   "metadata": {},
   "outputs": [],
   "source": [
    "import spotipy\n",
    "from spotipy.oauth2 import SpotifyClientCredentials\n",
    "\n",
    "#Initialize SpotiPy with user credentials\n",
    "sp = spotipy.Spotify(auth_manager=SpotifyClientCredentials(client_id=secrets_dict['clientid'],\n",
    "                                                           client_secret=secrets_dict['clientsecret']))"
   ]
  },
  {
   "cell_type": "code",
   "execution_count": 123,
   "id": "c5b07b17",
   "metadata": {},
   "outputs": [
    {
     "name": "stdout",
     "output_type": "stream",
     "text": [
      "Enter a song that you love: yesterday\n",
      "Here what I found for you !!!\n",
      "                                 title artist  \\\n",
      "4262  Love Nwantiti (Acoustic Version)   CKay   \n",
      "\n",
      "                                                    url  \n",
      "4262  https://open.spotify.com/track/450u5gGMGwQXmtL...  \n"
     ]
    }
   ],
   "source": [
    "track = input(\"Enter a song that you love: \")\n",
    "\n",
    "\n",
    "if top_100_songs['title'].str.lower().str.contains(str(track).lower()).any() == True:\n",
    "        print('here what I found for you! ')\n",
    "        print(top_100_songs['title'].sample())\n",
    "else:\n",
    "    # get the track name\n",
    "    results = sp.search(q=\"track:\" + track, type=\"track\")\n",
    "    \n",
    "    # find the song uri with spotipy\n",
    "    song_uri = results['tracks']['items'][0]['uri'].split(':')[2]\n",
    "    \n",
    "    #find song features\n",
    "    song_features = sp.audio_features(song_uri)\n",
    "    \n",
    "    #clean song features\n",
    "    new = pd.DataFrame.from_dict(song_features)\n",
    "    y_pred = new.drop(columns=['type', 'id' , 'uri', 'track_href', 'analysis_url'])\n",
    "    \n",
    "    # scale the data\n",
    "    y_scaled = transformer.transform(y_pred)\n",
    "    y_scaled = pd.DataFrame(y_scaled,columns=y_pred.columns)\n",
    "    \n",
    "    # use the Kmeans created before to predict the cluster for the song\n",
    "    look_for = kmeans.predict(y_scaled)\n",
    "    print('Here what I found for you !!!')\n",
    "    \n",
    "#     # choose a random row from the playlist with same cluster\n",
    "#     print(playlist_8_cluster.loc[playlist_8_cluster.clusters == look_for[0],['title','artist','url']].sample\n",
    "    print(playlist_8_cluster.loc[playlist_8_cluster.clusters == look_for[0],['title','artist','url']].sample())"
   ]
  },
  {
   "cell_type": "code",
   "execution_count": null,
   "id": "fbee4c80",
   "metadata": {},
   "outputs": [],
   "source": [
    "# The function takes input from the user, checking if the input is present in the 'title' column of the 'top_100_songs' dataframe, and if it is, it prints a random title from 'top_100_songs' dataframe. If it's not, it performs a Spotify search for a track with the given name, obtains its features, processes them, and then uses a k-means model to predict the cluster of the track. It then prints a random row from the 'playlist_8_cluster' dataframe that belongs to the same cluster as the track.\n",
    "\n",
    "# It looks like the issue might be with the last line of the code, specifically with the \"sample\" function.\n",
    "\n",
    "# The issue seems to be that the sample function is not being called, as the ? at the end of the function suggests.\n",
    "\n",
    "# To correct this, you can remove the ? and add .sample() at the end of the line."
   ]
  },
  {
   "cell_type": "code",
   "execution_count": null,
   "id": "85c68a81",
   "metadata": {},
   "outputs": [],
   "source": []
  },
  {
   "cell_type": "code",
   "execution_count": null,
   "id": "0c2eca56",
   "metadata": {},
   "outputs": [],
   "source": []
  }
 ],
 "metadata": {
  "kernelspec": {
   "display_name": "Python 3 (ipykernel)",
   "language": "python",
   "name": "python3"
  },
  "language_info": {
   "codemirror_mode": {
    "name": "ipython",
    "version": 3
   },
   "file_extension": ".py",
   "mimetype": "text/x-python",
   "name": "python",
   "nbconvert_exporter": "python",
   "pygments_lexer": "ipython3",
   "version": "3.9.13"
  }
 },
 "nbformat": 4,
 "nbformat_minor": 5
}
