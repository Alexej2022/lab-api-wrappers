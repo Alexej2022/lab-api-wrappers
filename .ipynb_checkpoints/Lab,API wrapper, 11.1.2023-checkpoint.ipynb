{
 "cells": [
  {
   "cell_type": "code",
   "execution_count": 2,
   "id": "b47e701b",
   "metadata": {},
   "outputs": [],
   "source": [
    "# https://github.com/Alexej2022/lab-api-wrappers.git"
   ]
  },
  {
   "cell_type": "code",
   "execution_count": 3,
   "id": "cb9ab46a",
   "metadata": {},
   "outputs": [],
   "source": [
    "# Lab | API wrappers - \n",
    "#Create your collection of songs & audio features\n",
    "# Instructions\n",
    "# To move forward with the project, you need to \n",
    "#create a collection of songs with their audio features\n",
    "# - as large as possible!\n",
    "# These are the songs that we will cluster. \n",
    "#And, later, when the user inputs a song, we will \n",
    "#find the cluster to which the song belongs and \n",
    "#recommend a song from the same cluster. \n",
    "#The more songs you have, the more accurate and \n",
    "#diverse recommendations you'll be able to give. \n",
    "#Although... you might want to make sure the \n",
    "#collected songs are \"curated\" in a certain way. \n",
    "#Try to find playlists of songs that are diverse, \n",
    "#but also that meet certain standards.\n",
    "# The process of sending hundreds or thousands of \n",
    "#requests can take some time - it's normal if you \n",
    "#have to wait a few minutes (or, if you're ambitious, \n",
    "#even hours) to get all the data you need.\n",
    "# An idea for collecting as many songs as \n",
    "#possible is to start with all the songs of a big, \n",
    "#diverse playlist and then go to every artist present \n",
    "#in the playlist and grab every song of \n",
    "#every album of that artist. \n",
    "#The amount of songs you'll be \n",
    "#collecting per playlist will grow exponentially!"
   ]
  },
  {
   "cell_type": "code",
   "execution_count": null,
   "id": "dd036308",
   "metadata": {},
   "outputs": [],
   "source": []
  }
 ],
 "metadata": {
  "kernelspec": {
   "display_name": "Python 3 (ipykernel)",
   "language": "python",
   "name": "python3"
  },
  "language_info": {
   "codemirror_mode": {
    "name": "ipython",
    "version": 3
   },
   "file_extension": ".py",
   "mimetype": "text/x-python",
   "name": "python",
   "nbconvert_exporter": "python",
   "pygments_lexer": "ipython3",
   "version": "3.9.13"
  }
 },
 "nbformat": 4,
 "nbformat_minor": 5
}
