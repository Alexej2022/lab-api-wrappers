{
 "cells": [
  {
   "cell_type": "code",
   "execution_count": null,
   "id": "71afe857",
   "metadata": {},
   "outputs": [],
   "source": [
    "secrets_file = open(\"secrets.txt\",\"r\")\n",
    "# function open, \"r\" stands for reading the file\n",
    "# only want to read the file\n",
    "# we can access the file through the handel\n",
    "# ../secrets.txt if one folder above"
   ]
  },
  {
   "cell_type": "code",
   "execution_count": null,
   "id": "b85097b4",
   "metadata": {},
   "outputs": [],
   "source": [
    "import numpy as np\n",
    "import pandas as pd\n",
    "import spotipy\n",
    "import json\n",
    "from spotipy.oauth2 import SpotifyClientCredentials"
   ]
  },
  {
   "cell_type": "code",
   "execution_count": null,
   "id": "6ded3063",
   "metadata": {},
   "outputs": [],
   "source": [
    "# contents of the file is written in a string\n",
    "\n",
    "string = secrets_file.read()"
   ]
  },
  {
   "cell_type": "code",
   "execution_count": null,
   "id": "3d2500b6",
   "metadata": {},
   "outputs": [],
   "source": [
    "string"
   ]
  },
  {
   "cell_type": "code",
   "execution_count": null,
   "id": "724dd1d0",
   "metadata": {},
   "outputs": [],
   "source": [
    "string.split('\\n')\n",
    "# if we split the string on the new line \n",
    "# i get 2,3 strings with the client id and an empty "
   ]
  },
  {
   "cell_type": "code",
   "execution_count": null,
   "id": "8df76398",
   "metadata": {},
   "outputs": [],
   "source": [
    "secrets_dict={}\n",
    "for line in string.split('\\n'):\n",
    "    if len(line) > 0:\n",
    "        secrets_dict[line.split(':')[0]]=line.split(':')[1]"
   ]
  },
  {
   "cell_type": "code",
   "execution_count": null,
   "id": "ecf9f441",
   "metadata": {},
   "outputs": [],
   "source": [
    "secrets_dict"
   ]
  },
  {
   "cell_type": "code",
   "execution_count": null,
   "id": "d556f35f",
   "metadata": {},
   "outputs": [],
   "source": [
    "import spotipy\n",
    "from spotipy.oauth2 import SpotifyClientCredentials\n",
    "\n",
    "#Initialize SpotiPy with user credentials\n",
    "sp = spotipy.Spotify(auth_manager=SpotifyClientCredentials(client_id=secrets_dict['clientid'],\n",
    "                                                           client_secret=secrets_dict['clientsecret']))"
   ]
  },
  {
   "cell_type": "code",
   "execution_count": null,
   "id": "fa14ef69",
   "metadata": {},
   "outputs": [],
   "source": [
    "import numpy as np\n",
    "import pandas as pd\n",
    "import json"
   ]
  },
  {
   "cell_type": "code",
   "execution_count": null,
   "id": "3327d00f",
   "metadata": {},
   "outputs": [],
   "source": [
    "playlist1 = sp.user_playlist_tracks(\"spotify\", '37i9dQZF1DX5Ejj0EkURtP')\n",
    "playlist2 = sp.user_playlist_tracks(\"spotify\", '23HsgHgvpjludlObYNpA1S')\n",
    "playlist3 = sp.user_playlist_tracks(\"spotify\", '0JiVp7Z0pYKI8diUV6HJyQ')\n",
    "playlist4 = sp.user_playlist_tracks(\"spotify\", '37i9dQZF1DX1Hya1sRqqxI')\n",
    "playlist5 = sp.user_playlist_tracks(\"spotify\", '37i9dQZF1DX4o1oenSJRJd')\n",
    "playlist6 = sp.user_playlist_tracks(\"spotify\", '37i9dQZF1DWTmvXBN4DgpA')\n",
    "playlist7 = sp.user_playlist_tracks(\"spotify\", '4vSTV61efRmetmaoz95Vet')\n",
    "playlist8 = sp.user_playlist_tracks(\"spotify\", '37i9dQZF1DXb57FjYWz00c')\n",
    "playlist9 = sp.user_playlist_tracks(\"spotify\", '37i9dQZF1DWZNJXX2UeBij')\n",
    "playlist10 = sp.user_playlist_tracks(\"spotify\", '37i9dQZF1DWSV3Tk4GO2fq')\n",
    "playlist11 = sp.user_playlist_tracks(\"spotify\", '3SbE5Sk5MWtNc0GRTU0X6d')\n",
    "playlist12 = sp.user_playlist_tracks(\"spotify\", '37i9dQZF1DXbTxeAdrVG2l')"
   ]
  },
  {
   "cell_type": "code",
   "execution_count": null,
   "id": "c132871a",
   "metadata": {},
   "outputs": [],
   "source": [
    "def get_artist(put_the_playlist):\n",
    "    \n",
    "    artist_1 =[]\n",
    "    for i in range (len(put_the_playlist[\"items\"])):\n",
    "         artist_1.append(put_the_playlist[\"items\"][i]['track']['artists'][0]['name']) \n",
    "\n",
    "    artist_list1 = []\n",
    "    for word in artist_1:\n",
    "        if word not in artist_list1:\n",
    "            artist_list1.append(word)  \n",
    "\n",
    "    return artist_list1"
   ]
  },
  {
   "cell_type": "code",
   "execution_count": null,
   "id": "dd84899f",
   "metadata": {},
   "outputs": [],
   "source": [
    "artist_list = get_artist(playlist1) + get_artist(playlist2) + get_artist(playlist3) + get_artist(playlist4) + get_artist(playlist5) + get_artist(playlist6) + get_artist(playlist7) + get_artist(playlist8) + get_artist(playlist9) + get_artist(playlist10) + get_artist(playlist11) + get_artist(playlist12)\n"
   ]
  },
  {
   "cell_type": "code",
   "execution_count": null,
   "id": "2b4cae82",
   "metadata": {},
   "outputs": [],
   "source": [
    "my_artists = []\n",
    "for word in artist_list:\n",
    "    if word not in my_artists:\n",
    "        my_artists.append(word)"
   ]
  },
  {
   "cell_type": "code",
   "execution_count": null,
   "id": "7ce82686",
   "metadata": {},
   "outputs": [],
   "source": [
    "print(my_artists)"
   ]
  },
  {
   "cell_type": "code",
   "execution_count": null,
   "id": "dd6381bd",
   "metadata": {},
   "outputs": [],
   "source": [
    "artists = ['Elvis Presley', 'Frank Sinatra', 'The Platters', 'Ray Charles', 'Louis Armstrong', 'Buddy Holly', 'Chuck Berry', 'Jerry Lee Lewis', 'Ritchie Valens', 'Bobby Darin', 'Nat King Cole', 'The Everly Brothers', 'Ella Fitzgerald', 'Chet Baker', 'Harry Belafonte', 'Dinah Washington', 'Billie Holiday', 'Little Richard', 'Dean Martin', 'Paul Anka', 'Bill Haley & His Comets', 'The Flamingos', 'Peggy Lee', 'Louis Prima', 'Eddie Cochran', 'Muddy Waters', 'Fats Domino', 'Neil Sedaka', 'Dion & The Belmonts', 'Bobby Day', 'Barrett Strong', 'Pat Boone', 'The Del-Vikings', 'Jackie Wilson', 'Perry Como', 'The Coasters', 'Danny & The Juniors', 'The Penguins', 'The Isley Brothers', 'Sam Cooke', 'Doris Day', 'Carl Perkins', 'The Crew Cuts', 'Tommy Edwards', 'The Clovers', 'The Diamonds', 'The Big Bopper', 'Percy Faith & His Orchestra', 'Johnny Mathis', 'Conway Twitty', 'The Fleetwoods', 'The Chordettes', 'Frankie Lymon', 'The Animals', 'The Rolling Stones', 'Big Blanco', 'Ben E. King', 'Creedence Clearwater Revival', 'The Mamas & The Papas', 'The Beatles', 'Shocking Blue', 'Etta James', 'Nina Simone', 'Circle the Earth', 'David Bowie', 'Marvin Gaye', 'Solomon Burke', 'The Ronettes', 'The Archies', 'Engelbert Humperdinck', 'James Brown & The Famous Flames', 'Frankie Valli', 'The Foundations', 'Led Zeppelin', 'The Seekers', 'Dion', 'Procol Harum', 'Aretha Franklin', 'B.J. Thomas', 'Johnny Cash', 'The Backstage Beatles', 'Gerry & The Pacemakers', 'Neil Diamond', 'The Doors', 'Chubby Checker', 'Patsy Cline', 'Van Morrison', 'Born For Bliss', 'The Trashmen', 'Simon & Garfunkel', 'Buffalo Springfield', 'The Ventures', 'The Tokens', 'Elton John', 'Cream', 'Bob Dylan', 'Diana Ross & The Supremes', 'Skeeter Davis', 'Scott McKenzie', 'Steppenwolf', 'Tom Jones', 'John Denver', 'Roy Orbison', 'The Band', 'Zager & Evans', 'The Cascades', 'Jeannie C. Riley', 'Stevie Wonder', 'Bee Gees', 'John Travolta', 'Earth, Wind & Fire', 'The Jacksons', 'Gloria Gaynor', 'Queen', 'The Trammps', 'Sister Sledge', 'John Paul Young', 'Billy Ocean', 'ABBA', 'Barry White', 'Frankie Valli & The Four Seasons', 'The Emotions', 'KC & The Sunshine Band', 'The Jackson 5', 'Donna Summer', 'CHIC', 'Wild Cherry', 'Village People', 'AC/DC', 'KISS', 'Lynyrd Skynyrd', 'TOTO', 'Fleetwood Mac', 'Stealers Wheel', 'Eagles', 'Edison Lighthouse', 'Michael Jackson', 'Thin Lizzy', 'Boney M.', 'King Harvest', 'Patrick Hernandez', 'The Doobie Brothers', 'Free', 'Rod Stewart', 'Hot Chocolate', \"The O'Jays\", 'The Bellamy Brothers', 'Curtis Mayfield', 'Grand Funk Railroad', 'Candi Staton', 'Jackson Browne', 'Alice Cooper', 'Chris Norman', 'Sly & The Family Stone', 'War', 'Carl Douglas', 'Don McLean', 'The Spinners', 'Jim Croce', 'Steve Miller Band', 'Hues Corporation', 'Cheryl Lynn', 'Blondie', 'Steve Harley', 'Todd Rundgren', 'The Buggles', 'Steely Dan', 'Boz Scaggs', 'Deep Purple', 'Lynn Anderson', 'Three Dog Night', 'Billy Preston', 'T. Rex', 'Gary Glitter', 'Carpenters', 'Sylvester', 'a-ha', 'Michael Sembello', 'Eurythmics', 'Journey', 'Tears For Fears', 'Kenny Loggins', 'Men At Work', 'Soft Cell', 'Bryan Adams', 'Whitney Houston', 'Simple Minds', 'Cyndi Lauper', 'Daryl Hall & John Oates', 'Bon Jovi', 'Starship', 'Bonnie Tyler', 'Rick Astley', 'Lipps Inc.', 'Kim Carnes', 'Wham!', 'New Order', 'The Human League', 'Matthew Wilder', 'Van Halen', 'UB40', 'Culture Club', 'Belinda Carlisle', 'Phil Collins', 'Philip Bailey', 'The Pointer Sisters', 'Dire Straits', 'The Proclaimers', 'Pet Shop Boys', 'Survivor', 'Huey Lewis & The News', 'Eric Carmen', 'Taylor Dayne', 'Duran Duran', 'Paul Simon', 'Billy Joel', 'Fine Young Cannibals', 'Katrina & The Waves', 'Lionel Richie', 'The Cure', 'U2', 'Genesis', 'Run–D.M.C.', 'Dexys Midnight Runners', 'INXS', 'Dead Or Alive', 'Don Henley', 'Prince', 'Tina Turner', 'Depeche Mode', 'Billy Idol', 'Men Without Hats', 'Kim Wilde', 'Madonna', 'Kool & The Gang', 'Deniece Williams', 'George Michael', 'Madness', 'Tiffany', 'Irene Cara', 'George Harrison', 'Frankie Goes To Hollywood', 'The Police', 'Cameo', 'Spandau Ballet', 'Whitesnake', 'Steve Winwood', 'Chaka Khan', 'Erasure', \"The B-52's\", 'Nena', 'The Communards', 'Phil Oakey', 'Luther Vandross', 'Joy Division', 'Four Tops', 'Boy Meets Girl', 'Tight Fit', 'Diana Ross', 'Womack & Womack', 'The Stranglers', 'Spice Girls', 'Backstreet Boys', 'Mariah Carey', 'Roxette', 'Coolio', 'Radiohead', 'Dr. Dre', 'R.E.M.', 'The Goo Goo Dolls', 'Red Hot Chili Peppers', 'The Cranberries', 'blink-182', 'The Offspring', 'Green Day', '4 Non Blondes', \"Guns N' Roses\", 'Gala', 'The Verve', 'TLC', 'Scorpions', 'Blur', 'Mazzy Star', 'Britney Spears', 'Nirvana', 'Smash Mouth', 'Shaggy', 'Chris Isaak', 'Sixpence None The Richer', 'Counting Crows', 'Blackstreet', 'Shania Twain', 'Cher', 'Sublime', 'Oasis', 'Soundgarden', 'Fugees', 'Eminem', 'No Doubt', 'The Smashing Pumpkins', 'Lou Bega', 'Foo Fighters', 'Pearl Jam', 'Alice Deejay', 'Metallica', 'Mark Morrison', 'Blind Melon', 'Natalie Imbruglia', 'Fools Garden', 'Aqua', 'Aerosmith', 'Warren G', 'Céline Dion', 'Luniz', 'Vengaboys', 'The Cardigans', 'The Notorious B.I.G.', 'Ricky Martin', 'Ace of Base', 'New Radicals', 'Ms. Lauryn Hill', 'Lenny Kravitz', 'Weezer', 'Cypress Hill', 'Savage Garden', 'Dido', 'Robbie Williams', '2Pac', 'MC Hammer', 'Daft Punk', 'Third Eye Blind', 'Seal', 'Black Eyed Peas', '50 Cent', 'Lady Gaga', 'Rihanna', 'Shakira', 'Usher', 'Mary J. Blige', 'Gnarls Barkley', 'JAY-Z', 'Maroon 5', 'Coldplay', 'The Killers', 'Linkin Park', 'The White Stripes', 'Gorillaz', 'Nelly Furtado', 'Foster The People', 'The Game', 'Daddy Yankee', 'Outkast', 'Timbaland', 'Evanescence', 'Train', 'Kesha', 'Flo Rida', 'Akon', 'Kings of Leon', 'Hoobastank', 'Taio Cruz', 'Papa Roach', 'Snow Patrol', 'Jimmy Eat World', 'Alicia Keys', 'Kendrick Lamar', 'Amy Winehouse', 'Nickelback', 'The Fray', 'Stromae', 'Sean Paul', 'Avril Lavigne', 'Franz Ferdinand', \"Plain White T's\", 'Empire of the Sun', 'Beyoncé', 't.A.T.u.', 'Owl City', 'Justin Timberlake', 'Bruno Mars', 'Nelly', 'Sean Kingston', 'Jay Sean', 'My Chemical Romance', 'Fall Out Boy', 'Ne-Yo', 'Taylor Swift', 'Toploader', 'P!nk', 'MGMT', 'Soulja Boy', 'Modjo', \"Destiny's Child\", 'Snoop Dogg', 'Avicii', 'Justin Bieber', 'Ellie Goulding', 'Ed Sheeran', 'The Chainsmokers', 'Sam Smith', 'Post Malone', 'Khalid', 'Tom Odell', 'The Neighbourhood', 'The Weeknd', 'Miguel', 'Billie Eilish', 'Harry Styles', 'J Balvin', 'J. Cole', 'Calvin Harris', 'Imagine Dragons', 'Arctic Monkeys', 'One Direction', 'Lewis Capaldi', 'Shawn Mendes', 'Frank Ocean', 'Alec Benjamin', 'Drake', 'Gesaffelstein', 'Juice WRLD', 'Måneskin', 'John Legend', 'Ariana Grande', 'Lil Baby', 'Jaymes Young', 'Joji', 'Twenty One Pilots', 'Childish Gambino', 'XXXTENTACION', 'Travis Scott', 'Tame Impala', 'Bryson Tiller', 'DJ Snake', 'Cigarettes After Sex', 'Mark Ronson', 'CKay', 'WALK THE MOON', 'Marshmello', 'Doja Cat', 'Sia', 'Lana Del Rey', 'Meghan Trainor', 'Capital Cities', 'SZA', 'Metro Boomin', 'Powfu', 'RAYE', 'Steve Lacy', 'Olivia Rodrigo', 'Pop Smoke', 'Lil Nas X', 'David Guetta', 'Rema', 'Nicki Minaj', 'BLACKPINK', 'Cardi B', 'Jack Harlow', 'Dua Lipa', 'Giveon', 'LISA', 'BTS', 'Adele', 'Glass Animals', 'Internet Money', 'Future', '24kGoldn', 'Charlie Puth', 'GAYLE', 'DJ Khaled', 'Lizzo', 'Miley Cyrus', 'The Kid LAROI', 'Camila Cabello', 'Selena Gomez', 'Anitta', 'Kali Uchis', 'Dove Cameron', 'Judy Garland', 'Édith Piaf', 'Charles Trenet', 'Stevie Nicks', 'M.I.A.', 'Florence + The Machine', \"Sinéad O'Connor\", 'Gotye', 'Missy Elliott', 'Benny Goodman', 'John Lennon', 'Tones And I', 'The Kinks', 'Vera Lynn', 'Tracy Chapman', 'The Beach Boys', 'Vanessa Carlton', 'The Smiths', 'Vance Joy', 'Carly Simon', 'The Shirelles', 'Electric Light Orchestra', 'Enya', 'Major Lazer', 'Pink Floyd', 'Macy Gray', 'James Arthur', 'Hozier', 'Lil Uzi Vert', 'OneRepublic', 'Passenger', 'Macklemore & Ryan Lewis', 'SAINt JHN', 'Alan Walker', 'Halsey', 'Mike Posner', 'Bad Bunny', 'Luis Fonsi', 'French Montana', 'Roddy Ricch', 'Wiz Khalifa', 'Lauv', 'Lukas Graham', 'Jason Mraz', 'DaBaby', 'Pritam', 'Atif Aslam', 'Salim–Sulaiman', 'Rashid Ali', 'A.R. Rahman', 'Madan Mohan', 'Shankar-Ehsaan-Loy', 'Sonu Nigam', 'Jatin-Lalit', 'Sukhwinder Singh', 'Monty Sharma', 'Suraj Jagan', 'KK', 'Vishal-Shekhar', 'Mohit Chauhan', 'Javed Ali', 'Shaan', 'Kailash Kher', 'Wajid', 'Rekha Bhardwaj', 'Benny Dayal', 'Sandesh Shandilya', \"Suzzane D'Mello\", 'Shankar', 'Himesh Reshammiya', 'Suzanne', 'Abhijeet', 'Alka Yagnik', 'Mithoon', 'Shankar Mahadevan', 'Sunidhi Chauhan', 'Udit Narayan', 'Adnan Sami', 'Raman Mahadevan', 'Mika Singh', 'Monali Thakur', 'Pinky', 'Kumar Sanu', 'Alisha Chinai', 'Rahat Fateh Ali Khan', 'Kunal Ganjawala', 'Jaspinder Narula', 'Manak-E', 'Neeraj Shridhar', 'Danny Vera', 'Boudewijn de Groot', 'Golden Earring', 'Disturbed', 'DI-RECT', 'Bruce Springsteen', 'Meat Loaf', 'Racoon', 'Miss Montreal', 'Michael Kiwanuka', 'Klein Orkest', 'Rage Against The Machine', 'Supertramp', 'Kate Bush', 'Goldband', 'Wim Sonneveld', 'Paolo Nutini', 'Volbeat', 'Stef Bos', 'Floor Jansen', 'Muse', 'Nothing But Thieves', 'Kensington', 'Guus Meeuwis', 'The Alan Parsons Project', 'Liesbeth List', 'Rammstein']\n"
   ]
  },
  {
   "cell_type": "code",
   "execution_count": null,
   "id": "792f0630",
   "metadata": {},
   "outputs": [],
   "source": [
    "len(artists)"
   ]
  },
  {
   "cell_type": "code",
   "execution_count": null,
   "id": "9e331e1a",
   "metadata": {},
   "outputs": [],
   "source": [
    "from random import randint\n",
    "from time import sleep"
   ]
  },
  {
   "cell_type": "code",
   "execution_count": null,
   "id": "dc957689",
   "metadata": {},
   "outputs": [],
   "source": [
    "my_3_tracks = []\n",
    "\n",
    "for artist in artists:\n",
    "    my_3_tracks.append(sp.search(q=artist, limit=10))\n",
    "#     sleep(randint(1,2))"
   ]
  },
  {
   "cell_type": "code",
   "execution_count": null,
   "id": "66ca942a",
   "metadata": {},
   "outputs": [],
   "source": [
    "# my_3_tracks = []\n",
    "\n",
    "# for artist in artists:   \n",
    "#     my_3_tracks.append(sp.search(q=artist, limit=10))"
   ]
  },
  {
   "cell_type": "code",
   "execution_count": null,
   "id": "57e96159",
   "metadata": {},
   "outputs": [],
   "source": [
    "# range differs according to artist count\n",
    "songs_30 = []\n",
    "songs_30_uri = []\n",
    "songs_30_url = []\n",
    "for i in range(594):\n",
    "    for j in range(10):\n",
    "        songs_30.append(my_3_tracks[i]['tracks']['items'][j]['name'])\n",
    "        songs_30_uri.append(my_3_tracks[i]['tracks']['items'][j]['uri'])\n",
    "        songs_30_url.append(my_3_tracks[i]['tracks']['items'][j]['external_urls']['spotify'])"
   ]
  },
  {
   "cell_type": "code",
   "execution_count": null,
   "id": "1b64d11e",
   "metadata": {},
   "outputs": [],
   "source": [
    "songs_30_artists = []\n",
    "for i in range(len(artists)):\n",
    "    j = 10\n",
    "    while j != 0:\n",
    "        songs_30_artists.append(artists[i])\n",
    "        j-=1"
   ]
  },
  {
   "cell_type": "code",
   "execution_count": null,
   "id": "68a429b7",
   "metadata": {},
   "outputs": [],
   "source": [
    "# range len artist * 10\n",
    "songs_30_features = []\n",
    "for i in range(5940):\n",
    "    songs_30_features.append(sp.audio_features(songs_30_uri[i]))"
   ]
  },
  {
   "cell_type": "code",
   "execution_count": null,
   "id": "f9d19d15",
   "metadata": {},
   "outputs": [],
   "source": [
    "def flatten(input_list):\n",
    "    return [item for sublist in input_list for item in sublist]"
   ]
  },
  {
   "cell_type": "code",
   "execution_count": null,
   "id": "ebb362f6",
   "metadata": {},
   "outputs": [],
   "source": [
    "songs_30_features = flatten(songs_30_features)"
   ]
  },
  {
   "cell_type": "code",
   "execution_count": null,
   "id": "463f9ff3",
   "metadata": {},
   "outputs": [],
   "source": [
    "artist_3_song_30 = pd.DataFrame({'title':songs_30,'artist':songs_30_artists,'url':songs_30_url,'features':songs_30_features})\n"
   ]
  },
  {
   "cell_type": "code",
   "execution_count": null,
   "id": "94213ce7",
   "metadata": {},
   "outputs": [],
   "source": [
    "ftr = pd.json_normalize(artist_3_song_30.features)\n",
    "ftr.columns = [f'features_{col}' for col in ftr.columns]"
   ]
  },
  {
   "cell_type": "code",
   "execution_count": null,
   "id": "962d240d",
   "metadata": {},
   "outputs": [],
   "source": [
    "artist3_song30 = pd.concat([artist_3_song_30, ftr], axis=1)\n",
    "cleaned_1 = artist3_song30.drop(columns=['features', 'features_uri', 'features_track_href' , 'features_analysis_url', 'features_id'])\n"
   ]
  },
  {
   "cell_type": "code",
   "execution_count": null,
   "id": "28b7c5f9",
   "metadata": {},
   "outputs": [],
   "source": [
    "cleaned_1.nunique()"
   ]
  },
  {
   "cell_type": "code",
   "execution_count": null,
   "id": "5013309c",
   "metadata": {},
   "outputs": [],
   "source": [
    "cleaned_1.shape"
   ]
  },
  {
   "cell_type": "code",
   "execution_count": null,
   "id": "ebbf817b",
   "metadata": {},
   "outputs": [],
   "source": [
    "cleaned_1 = cleaned_1.drop_duplicates(subset=['title'])\n"
   ]
  },
  {
   "cell_type": "code",
   "execution_count": null,
   "id": "e55465ba",
   "metadata": {},
   "outputs": [],
   "source": [
    "cleaned_1.isna().sum()\n"
   ]
  },
  {
   "cell_type": "code",
   "execution_count": null,
   "id": "c703f63c",
   "metadata": {},
   "outputs": [],
   "source": [
    "cleaned_1.to_csv('test3.csv', index = False)"
   ]
  },
  {
   "cell_type": "code",
   "execution_count": null,
   "id": "0e1b5592",
   "metadata": {},
   "outputs": [],
   "source": [
    "data = pd.read_csv('test3.csv')\n",
    "data.head()"
   ]
  },
  {
   "cell_type": "code",
   "execution_count": null,
   "id": "10bf2b11",
   "metadata": {},
   "outputs": [],
   "source": [
    "# Lab | Unsupervised learning intro\n",
    "# Instructions\n",
    "# It's the moment to perform clustering on the songs you collected. \n",
    "#Remember that the ultimate goal of this little project is to \n",
    "#improve the recommendations of artists. Clustering the songs \n",
    "#will allow the recommendation system to limit the scope of \n",
    "#the recommendations to only songs that belong to the \n",
    "#same cluster - songs with similar audio features.\n",
    "\n",
    "# The experiments you did with the Spotify API and the \n",
    "#Billboard web scraping will allow you to create \n",
    "#a pipeline such that when the user enters a song, you:\n",
    "\n",
    "# Check whether or not the song is in the Billboard Hot 200.\n",
    "# Collect the audio features from the Spotify API.\n",
    "# After that, you want to send the Spotify audio features \n",
    "#of the submitted song to the clustering model, \n",
    "#which should return a cluster number.\n",
    "\n",
    "# We want to have as many songs as possible to create the \n",
    "#clustering model, so we will add the songs you collected \n",
    "#to a bigger dataset available on Kaggle containing 160 thousand songs."
   ]
  },
  {
   "cell_type": "code",
   "execution_count": null,
   "id": "8d47d22b",
   "metadata": {},
   "outputs": [],
   "source": [
    "#  pipeline that takes a song name as input, \n",
    "#checks if it's in the Spotify playlist, \n",
    "#and then checks if it's in the Billboard Hot 200 list."
   ]
  },
  {
   "cell_type": "code",
   "execution_count": null,
   "id": "882bc33d",
   "metadata": {},
   "outputs": [],
   "source": [
    "import spotipy\n",
    "from spotipy.oauth2 import SpotifyOAuth\n",
    "import requests\n",
    "import pandas as pd\n",
    "from bs4 import BeautifulSoup"
   ]
  },
  {
   "cell_type": "code",
   "execution_count": null,
   "id": "f4b5ee12",
   "metadata": {},
   "outputs": [],
   "source": [
    "import pandas as pd\n",
    "import numpy as np\n",
    "\n",
    "# K-means\n",
    "from sklearn.cluster import KMeans\n",
    "\n",
    "import numpy as np\n",
    "import matplotlib.pyplot as plt\n",
    "\n",
    "from sklearn import cluster, datasets\n",
    "from matplotlib.lines import Line2D"
   ]
  },
  {
   "cell_type": "code",
   "execution_count": null,
   "id": "662f0197",
   "metadata": {},
   "outputs": [],
   "source": [
    "playlist = pd.read_csv('alexej_playlist.csv')\n",
    "playlist.head()"
   ]
  },
  {
   "cell_type": "code",
   "execution_count": null,
   "id": "e912164c",
   "metadata": {},
   "outputs": [],
   "source": [
    "data = playlist.drop(columns=['title', 'artist', 'url','id','uri','track_href','analysis_url'])\n"
   ]
  },
  {
   "cell_type": "code",
   "execution_count": null,
   "id": "061a6d17",
   "metadata": {},
   "outputs": [],
   "source": [
    "display(data.shape)\n",
    "data.head()"
   ]
  },
  {
   "cell_type": "code",
   "execution_count": null,
   "id": "41eec23c",
   "metadata": {},
   "outputs": [],
   "source": [
    "from sklearn.preprocessing import StandardScaler\n",
    "transformer = StandardScaler().fit(data)\n",
    "data_prep = transformer.transform(data)\n",
    "data_prep = pd.DataFrame(data_prep,columns=data.columns)\n",
    "data_prep.head()"
   ]
  },
  {
   "cell_type": "code",
   "execution_count": null,
   "id": "b3431acd",
   "metadata": {},
   "outputs": [],
   "source": [
    "!pip install pickle\n"
   ]
  },
  {
   "cell_type": "code",
   "execution_count": null,
   "id": "144f38a8",
   "metadata": {},
   "outputs": [],
   "source": [
    "!pip install dill\n"
   ]
  },
  {
   "cell_type": "code",
   "execution_count": null,
   "id": "9fb37fb1",
   "metadata": {},
   "outputs": [],
   "source": [
    "import dill\n",
    "\n",
    "# Saving the object\n",
    "with open(\"transformer.p\", \"wb\") as f:\n",
    "    dill.dump(transformer, f)\n",
    "    \n",
    "# Loading the object\n",
    "# with open(\"transformer.p\", \"rb\") as f:\n",
    "#     transformer = dill.load(f)\n"
   ]
  },
  {
   "cell_type": "code",
   "execution_count": null,
   "id": "faac69b9",
   "metadata": {},
   "outputs": [],
   "source": [
    "# to pickle  | pickled, pickled |\t\t\tpickeln  | pickelte, gepickelt |\n",
    "# to pickle sth.  | pickled, pickled | [TECH.]\t\t\tetw. abbeizen  | beizte ab, abgebeizt |   [Metallurgy]\n",
    "# to pickle sth.  | pickled, pickled | [TECH.]\t\t\tetw. beizen  | beizte, gebeizt |   [Metallurgy]\n",
    "# to pickle sth.  | pickled, pickled | [TECH.]\t\t\tetw. dekapieren  | dekapierte, dekapiert |   [Metallurgy]\n",
    "# to pickle sth.  | pickled, pickled | [TECH.]\t\t\tetw. entzundern  | entzunderte, entzundert |\n",
    "# to pickle sth.  | pickled, pickled | [COOK.]\t\t\tetw. einwecken  | weckte ein, eingeweckt |\n",
    "# to pickle sth.  | pickled, pickled | [COOK.]\t\t\tetw. pökeln  | pökelte, gepökelt |"
   ]
  },
  {
   "cell_type": "code",
   "execution_count": null,
   "id": "6862f41a",
   "metadata": {},
   "outputs": [],
   "source": [
    "# The command pickle.dump(transformer,open('transformer.p', 'wb')) is used to save an object to a file in a format known as \"pickle\".\n",
    "\n",
    "# The pickle.dump function takes two arguments:\n",
    "\n",
    "# The first argument is the object you want to save, in this case the \"transformer\" object.\n",
    "# The second argument is the file-like object where the object is to be saved. In this case, it's the file \"transformer.p\" that is opened in write binary mode (wb) using the open function.\n",
    "# The pickle module in python converts a python object hierarchy into a byte stream and then it can be saved as a file. This byte stream can also be loaded back to recreate the object hierarchy. This allows you to save the state of your program, or a specific variable, and then load it later to continue where you left off.\n",
    "\n",
    "# In short, the above command is saving the transformer object to a file named \"transformer.p\" in binary format."
   ]
  },
  {
   "cell_type": "code",
   "execution_count": null,
   "id": "0b4b8ae2",
   "metadata": {},
   "outputs": [],
   "source": [
    "# pickle.dump(transformer,open('transformer.p', 'wb'))"
   ]
  },
  {
   "cell_type": "code",
   "execution_count": null,
   "id": "dbcce0aa",
   "metadata": {},
   "outputs": [],
   "source": [
    "data_prep.to_csv('playlist_scaled.csv', index = False)"
   ]
  },
  {
   "cell_type": "code",
   "execution_count": null,
   "id": "bbf64fc6",
   "metadata": {},
   "outputs": [],
   "source": [
    "from sklearn.cluster import KMeans\n",
    "K = range(2, 20)\n",
    "inertia = []\n",
    "\n",
    "for k in K:\n",
    "    kmeans = KMeans(n_clusters=k,\n",
    "                    random_state=1234)\n",
    "    kmeans.fit(data_prep)\n",
    "    inertia.append(kmeans.inertia_)\n",
    "\n",
    "\n",
    "plt.figure(figsize=(16,8))\n",
    "plt.plot(K, inertia, 'bx-')\n",
    "plt.xlabel('k')\n",
    "plt.ylabel('inertia')\n",
    "plt.xticks(np.arange(min(K), max(K)+1, 1.0))\n",
    "plt.title('Elbow Method showing the optimal k')"
   ]
  },
  {
   "cell_type": "code",
   "execution_count": null,
   "id": "f7cf2a8a",
   "metadata": {},
   "outputs": [],
   "source": [
    "from sklearn.metrics import silhouette_score\n",
    "K = range(2, 20)\n",
    "silhouette = []\n",
    "\n",
    "for k in K:\n",
    "    kmeans = KMeans(n_clusters=k,\n",
    "                    random_state=1234)\n",
    "    kmeans.fit(data_prep)\n",
    "    silhouette.append(silhouette_score(data_prep, kmeans.predict(data_prep)))\n",
    "\n",
    "\n",
    "plt.figure(figsize=(16,8))\n",
    "plt.plot(K, silhouette, 'bx-')\n",
    "plt.xlabel('k')\n",
    "plt.ylabel('silhouette score')\n",
    "plt.xticks(np.arange(min(K), max(K)+1, 1.0))\n",
    "plt.title('Slhouette score showing the optimal k')"
   ]
  },
  {
   "cell_type": "code",
   "execution_count": null,
   "id": "b9cc8caa",
   "metadata": {},
   "outputs": [],
   "source": [
    "from sklearn.cluster import KMeans\n",
    "\n",
    "kmeans = KMeans(n_clusters=8, random_state=1234)\n",
    "kmeans.fit(data_prep)"
   ]
  },
  {
   "cell_type": "code",
   "execution_count": null,
   "id": "76abf41e",
   "metadata": {},
   "outputs": [],
   "source": [
    "# Predicting / assigning the clusters:\n",
    "clusters = kmeans.predict(data_prep)\n",
    "\n"
   ]
  },
  {
   "cell_type": "code",
   "execution_count": null,
   "id": "c5ab72f4",
   "metadata": {},
   "outputs": [],
   "source": [
    "import dill\n",
    "\n",
    "# Check the size of the clusters\n",
    "pd.Series(clusters).value_counts().sort_index()\n",
    "\n",
    "# Saving the object\n",
    "with open(\"clusters.p\", \"wb\") as f:\n",
    "    dill.dump(clusters, f)"
   ]
  },
  {
   "cell_type": "code",
   "execution_count": null,
   "id": "2aa41da5",
   "metadata": {},
   "outputs": [],
   "source": [
    "# This will save the \"clusters\" object to a file named \"clusters.p\" in binary format.\n",
    "\n",
    "# And you can load the clusters object again using :"
   ]
  },
  {
   "cell_type": "code",
   "execution_count": null,
   "id": "412104c0",
   "metadata": {},
   "outputs": [],
   "source": [
    "# with open(\"clusters.p\", \"rb\") as f:\n",
    "#     clusters = dill.load(f)"
   ]
  },
  {
   "cell_type": "code",
   "execution_count": null,
   "id": "5d965bf4",
   "metadata": {},
   "outputs": [],
   "source": [
    "kmeans.inertia_  "
   ]
  },
  {
   "cell_type": "code",
   "execution_count": null,
   "id": "276126bd",
   "metadata": {},
   "outputs": [],
   "source": [
    "# import pickle\n",
    "# pickle.dump(kmeans,open('kmeans_8_cluster.p', 'wb'))"
   ]
  },
  {
   "cell_type": "code",
   "execution_count": null,
   "id": "6f0478b8",
   "metadata": {},
   "outputs": [],
   "source": [
    "# Saving the object\n",
    "with open(\"kmeans_8_cluster.p\", \"wb\") as f:\n",
    "    dill.dump(kmeans, f)\n"
   ]
  },
  {
   "cell_type": "code",
   "execution_count": null,
   "id": "8b345966",
   "metadata": {},
   "outputs": [],
   "source": [
    "playlist_clustered = playlist.assign(clusters = clusters)\n",
    "playlist_clustered"
   ]
  },
  {
   "cell_type": "code",
   "execution_count": null,
   "id": "eaa86123",
   "metadata": {},
   "outputs": [],
   "source": [
    "playlist_clustered.to_csv('playlist_8_cluster.csv', index = False)\n"
   ]
  },
  {
   "cell_type": "code",
   "execution_count": null,
   "id": "e5401917",
   "metadata": {},
   "outputs": [],
   "source": [
    "# The first steps you took yesterday, were to create a list of Top Songs and Artists from scraping web sites.\n",
    "\n",
    "#  You should have ended with your lists in a data frame containing at least Song Title and Artist.\n",
    "\n",
    "# Today you are creating a recommender where the user inputs a song title and check if that song is in the list you created.   If it is,  give a different random song and artist from the list.  If it is not on the list, let the user know that you have no recommendation at this time."
   ]
  },
  {
   "cell_type": "code",
   "execution_count": null,
   "id": "edcf7fc5",
   "metadata": {},
   "outputs": [],
   "source": [
    "# PICKLING AND TRANSFORMING "
   ]
  },
  {
   "cell_type": "code",
   "execution_count": null,
   "id": "b61dc5e9",
   "metadata": {},
   "outputs": [],
   "source": [
    "import pandas as pd\n",
    "import numpy as np\n",
    "# K-means\n",
    "from sklearn.cluster import KMeans\n",
    "from sklearn import cluster, datasets"
   ]
  },
  {
   "cell_type": "code",
   "execution_count": null,
   "id": "6c71f5f1",
   "metadata": {},
   "outputs": [],
   "source": [
    "playlist = pd.read_csv('alexej_playlist.csv')"
   ]
  },
  {
   "cell_type": "code",
   "execution_count": null,
   "id": "0e928407",
   "metadata": {},
   "outputs": [],
   "source": [
    "data = playlist.drop(columns=['title', 'artist', 'url','id','uri','track_href','analysis_url'])\n"
   ]
  },
  {
   "cell_type": "code",
   "execution_count": null,
   "id": "61ac858f",
   "metadata": {},
   "outputs": [],
   "source": [
    "from sklearn.preprocessing import StandardScaler\n",
    "transformer = StandardScaler().fit(data)\n",
    "data_prep = transformer.transform(data)\n",
    "\n",
    "# Now, all features will have the same weight.\n",
    "data_prep = pd.DataFrame(data_prep,columns=data.columns)"
   ]
  },
  {
   "cell_type": "code",
   "execution_count": null,
   "id": "bb2e06b5",
   "metadata": {},
   "outputs": [],
   "source": [
    "from sklearn.cluster import KMeans\n",
    "\n",
    "kmeans = KMeans(n_clusters=8, random_state=1234)\n",
    "kmeans.fit(data_prep)"
   ]
  },
  {
   "cell_type": "code",
   "execution_count": null,
   "id": "8b906f0e",
   "metadata": {},
   "outputs": [],
   "source": [
    "# Predicting / assigning the clusters:\n",
    "clusters = kmeans.predict(data_prep)\n",
    "\n",
    "# Check the size of the clusters\n",
    "pd.Series(clusters).value_counts().sort_index()"
   ]
  },
  {
   "cell_type": "code",
   "execution_count": null,
   "id": "73ec1868",
   "metadata": {},
   "outputs": [],
   "source": [
    "kmeans.inertia_ "
   ]
  },
  {
   "cell_type": "code",
   "execution_count": null,
   "id": "17728de5",
   "metadata": {},
   "outputs": [],
   "source": [
    "import pickle\n",
    "pickle.dump(kmeans,open('kmeans_8_cluster.p', 'wb'))"
   ]
  },
  {
   "cell_type": "code",
   "execution_count": null,
   "id": "e721adec",
   "metadata": {},
   "outputs": [],
   "source": [
    "pickle.dump(transformer,open('transformer.p', 'wb'))"
   ]
  },
  {
   "cell_type": "code",
   "execution_count": null,
   "id": "a22137ed",
   "metadata": {},
   "outputs": [],
   "source": [
    "# Lab_6.01_GNOD_part1_and_part2"
   ]
  },
  {
   "cell_type": "code",
   "execution_count": null,
   "id": "d7bfff35",
   "metadata": {},
   "outputs": [],
   "source": [
    "from bs4 import BeautifulSoup\n",
    "import requests\n",
    "import pandas as pd\n",
    "import numpy as np"
   ]
  },
  {
   "cell_type": "code",
   "execution_count": null,
   "id": "1363ee45",
   "metadata": {},
   "outputs": [],
   "source": [
    "# 1. find url and store it in a variable\n",
    "url = \"https://www.popvortex.com/music/charts/top-100-songs.php\""
   ]
  },
  {
   "cell_type": "code",
   "execution_count": null,
   "id": "9f6d2fb9",
   "metadata": {},
   "outputs": [],
   "source": [
    "# 2. download html with a get request\n",
    "response = requests.get(url)\n",
    "response.status_code # 200 status code means OK!"
   ]
  },
  {
   "cell_type": "code",
   "execution_count": null,
   "id": "00dc9411",
   "metadata": {},
   "outputs": [],
   "source": [
    "# 3. parse html (create the 'soup')\n",
    "soup = BeautifulSoup(response.content, \"html.parser\")"
   ]
  },
  {
   "cell_type": "code",
   "execution_count": null,
   "id": "3758360d",
   "metadata": {},
   "outputs": [],
   "source": [
    "#initialize empty lists\n",
    "title = []\n",
    "artist = []\n",
    "\n",
    "\n",
    "# define the number of iterations of our for loop\n",
    "num_iter = len(soup.select(\"cite.title\"))\n",
    "\n",
    "title_list = soup.select(\"cite.title\")\n",
    "artist_list = soup.select(\"em.artist\")\n",
    "\n",
    "\n",
    "# iterate through the result set and retrive all the data\n",
    "for i in range(num_iter):\n",
    "    title.append(title_list[i].get_text())\n",
    "    artist.append(artist_list[i].get_text())"
   ]
  },
  {
   "cell_type": "code",
   "execution_count": null,
   "id": "0ee5eb24",
   "metadata": {},
   "outputs": [],
   "source": [
    "top_100_songs = pd.DataFrame({\"title\":title, \"artist\":artist})\n"
   ]
  },
  {
   "cell_type": "code",
   "execution_count": null,
   "id": "537bcc8f",
   "metadata": {},
   "outputs": [],
   "source": [
    "top_100_songs['title'] = top_100_songs['title'].str.lower()\n"
   ]
  },
  {
   "cell_type": "code",
   "execution_count": null,
   "id": "cc3bf807",
   "metadata": {},
   "outputs": [],
   "source": [
    "top_100_songs['artist'] = top_100_songs['artist'].str.lower()\n"
   ]
  },
  {
   "cell_type": "code",
   "execution_count": null,
   "id": "f2729e32",
   "metadata": {},
   "outputs": [],
   "source": [
    "top_100_songs.head()"
   ]
  },
  {
   "cell_type": "code",
   "execution_count": null,
   "id": "6cb29f0a",
   "metadata": {},
   "outputs": [],
   "source": [
    "top_100_songs.to_csv('top_100_songs.csv', index = False)"
   ]
  },
  {
   "cell_type": "code",
   "execution_count": null,
   "id": "2e2217c7",
   "metadata": {},
   "outputs": [],
   "source": [
    "# GNOD part 2\n"
   ]
  },
  {
   "cell_type": "code",
   "execution_count": null,
   "id": "ffc8972a",
   "metadata": {},
   "outputs": [],
   "source": [
    "song = input(\"Text here a song that you like: \")\n"
   ]
  },
  {
   "cell_type": "code",
   "execution_count": null,
   "id": "272e70ed",
   "metadata": {},
   "outputs": [],
   "source": [
    "if top_100_songs['title'].str.lower().str.contains(str(song).lower()).any() == True:\n",
    "        print('FOR YOU I FOUND THIS SONG! ')\n",
    "        print(top_100_songs['title'].sample())\n",
    "else:\n",
    "        print('There is no recommendation at this time')"
   ]
  },
  {
   "cell_type": "code",
   "execution_count": null,
   "id": "df6d4932",
   "metadata": {},
   "outputs": [],
   "source": [
    "# GNOD SONG RECOMMENDER"
   ]
  },
  {
   "cell_type": "code",
   "execution_count": null,
   "id": "15d591b7",
   "metadata": {},
   "outputs": [],
   "source": [
    "import requests\n",
    "import pandas as pd\n",
    "import numpy as np\n",
    "import pickle\n",
    "from sklearn.preprocessing import StandardScaler\n",
    "from sklearn.cluster import KMeans\n",
    "\n",
    "# I am retrieving the kmeans model which I add 8 clusters to my playlist\n",
    "kmeans = pickle.load(open('kmeans_8_cluster.p', 'rb'))\n",
    "\n",
    "# I am retrieving my scaler that I used at my original dataset\n",
    "transformer = pickle.load(open('transformer.p', 'rb'))"
   ]
  },
  {
   "cell_type": "code",
   "execution_count": null,
   "id": "6e8a2cfa",
   "metadata": {},
   "outputs": [],
   "source": [
    "top_100_songs = pd.read_csv('top_100_songs.csv')\n",
    "playlist_8_cluster = pd.read_csv('playlist_8_cluster.csv')"
   ]
  },
  {
   "cell_type": "code",
   "execution_count": null,
   "id": "b9af6ebc",
   "metadata": {},
   "outputs": [],
   "source": [
    "\n",
    "import spotipy\n",
    "import json\n",
    "from spotipy.oauth2 import SpotifyClientCredentials"
   ]
  },
  {
   "cell_type": "code",
   "execution_count": null,
   "id": "2a6c4d85",
   "metadata": {},
   "outputs": [],
   "source": [
    "secrets_file = open(\"secrets.txt\",\"r\")\n"
   ]
  },
  {
   "cell_type": "code",
   "execution_count": null,
   "id": "84e86df3",
   "metadata": {},
   "outputs": [],
   "source": [
    "string = secrets_file.read()\n"
   ]
  },
  {
   "cell_type": "code",
   "execution_count": null,
   "id": "3a039439",
   "metadata": {},
   "outputs": [],
   "source": [
    "#string.split('\\n')\n"
   ]
  },
  {
   "cell_type": "code",
   "execution_count": null,
   "id": "99d23540",
   "metadata": {},
   "outputs": [],
   "source": [
    "secrets_dict={}\n",
    "for line in string.split('\\n'):\n",
    "    if len(line) > 0:\n",
    "        secrets_dict[line.split(':')[0]]=line.split(':')[1].strip()"
   ]
  },
  {
   "cell_type": "code",
   "execution_count": null,
   "id": "0bb302fd",
   "metadata": {},
   "outputs": [],
   "source": [
    "import spotipy\n",
    "from spotipy.oauth2 import SpotifyClientCredentials\n",
    "\n",
    "#Initialize SpotiPy with user credentials\n",
    "sp = spotipy.Spotify(auth_manager=SpotifyClientCredentials(client_id=secrets_dict['clientid'],\n",
    "                                                           client_secret=secrets_dict['clientsecret']))"
   ]
  },
  {
   "cell_type": "code",
   "execution_count": null,
   "id": "e7e62085",
   "metadata": {},
   "outputs": [],
   "source": [
    "track = input(\"Text here a song that you like: \")"
   ]
  },
  {
   "cell_type": "code",
   "execution_count": null,
   "id": "7937e301",
   "metadata": {},
   "outputs": [],
   "source": [
    "if top_100_songs['title'].str.lower().str.contains(str(track).lower()).any() == True:\n",
    "        print('FOR YOU I FOUND THIS SONG! ')\n",
    "        print(top_100_songs['title'].sample())\n",
    "else:\n",
    "        print('continue further !!!')"
   ]
  },
  {
   "cell_type": "code",
   "execution_count": null,
   "id": "96b160d9",
   "metadata": {},
   "outputs": [],
   "source": [
    "results = sp.search(q=\"track:\" + track, type=\"track\")"
   ]
  },
  {
   "cell_type": "code",
   "execution_count": null,
   "id": "20af51d0",
   "metadata": {},
   "outputs": [],
   "source": [
    "song_uri = results['tracks']['items'][0]['uri'].split(':')[2]\n",
    "song_uri"
   ]
  },
  {
   "cell_type": "code",
   "execution_count": null,
   "id": "ac8fa64c",
   "metadata": {},
   "outputs": [],
   "source": [
    "song_features = sp.audio_features(song_uri)\n",
    "song_features"
   ]
  },
  {
   "cell_type": "code",
   "execution_count": null,
   "id": "b12aeb56",
   "metadata": {},
   "outputs": [],
   "source": [
    "new = pd.DataFrame.from_dict(song_features)\n"
   ]
  },
  {
   "cell_type": "code",
   "execution_count": null,
   "id": "4a3ff4f0",
   "metadata": {},
   "outputs": [],
   "source": [
    "y_pred = new.drop(columns=['type', 'id' , 'uri', 'track_href', 'analysis_url'])\n",
    "y_pred"
   ]
  },
  {
   "cell_type": "code",
   "execution_count": null,
   "id": "1d74b8b6",
   "metadata": {},
   "outputs": [],
   "source": [
    "y_scaled = transformer.transform(y_pred)"
   ]
  },
  {
   "cell_type": "code",
   "execution_count": null,
   "id": "c67902a4",
   "metadata": {},
   "outputs": [],
   "source": [
    "y_scaled = pd.DataFrame(y_scaled,columns=y_pred.columns)"
   ]
  },
  {
   "cell_type": "code",
   "execution_count": null,
   "id": "3b393aa0",
   "metadata": {},
   "outputs": [],
   "source": [
    "y_scaled"
   ]
  },
  {
   "cell_type": "code",
   "execution_count": null,
   "id": "af1357fa",
   "metadata": {},
   "outputs": [],
   "source": [
    "look_for = kmeans.predict(y_scaled)\n"
   ]
  },
  {
   "cell_type": "code",
   "execution_count": null,
   "id": "db934218",
   "metadata": {},
   "outputs": [],
   "source": [
    "# song cluster\n",
    "look_for[0]"
   ]
  },
  {
   "cell_type": "code",
   "execution_count": null,
   "id": "33e38eeb",
   "metadata": {},
   "outputs": [],
   "source": [
    "display(playlist_8_cluster.loc[playlist_8_cluster.clusters == look_for[0]].sample(1))\n"
   ]
  },
  {
   "cell_type": "code",
   "execution_count": null,
   "id": "67fb4e61",
   "metadata": {},
   "outputs": [],
   "source": [
    "# FINAL_Song_Recommender"
   ]
  },
  {
   "cell_type": "code",
   "execution_count": null,
   "id": "9d5f6604",
   "metadata": {},
   "outputs": [],
   "source": [
    "import requests\n",
    "import pandas as pd\n",
    "import numpy as np\n",
    "import pickle\n",
    "from sklearn.preprocessing import StandardScaler\n",
    "from sklearn.cluster import KMeans\n",
    "\n",
    "# I am retrieving the kmeans model which I add 8 clusters to my playlist\n",
    "kmeans = pickle.load(open('kmeans_8_cluster.p', 'rb'))\n",
    "\n",
    "# I am retrieving my scaler that I used at my original dataset\n",
    "transformer = pickle.load(open('transformer.p', 'rb'))\n"
   ]
  },
  {
   "cell_type": "code",
   "execution_count": null,
   "id": "faef0955",
   "metadata": {},
   "outputs": [],
   "source": [
    "top_100_songs = pd.read_csv('top_100_songs.csv')\n",
    "playlist_8_cluster = pd.read_csv('playlist_8_cluster.csv')\n",
    "top_100_songs"
   ]
  },
  {
   "cell_type": "code",
   "execution_count": null,
   "id": "f985cc74",
   "metadata": {},
   "outputs": [],
   "source": [
    "import spotipy\n",
    "import json\n",
    "from spotipy.oauth2 import SpotifyClientCredentials"
   ]
  },
  {
   "cell_type": "code",
   "execution_count": null,
   "id": "9a5583f5",
   "metadata": {},
   "outputs": [],
   "source": [
    "\n",
    "secrets_file = open(\"secrets.txt\",\"r\")"
   ]
  },
  {
   "cell_type": "code",
   "execution_count": null,
   "id": "ec3e750f",
   "metadata": {},
   "outputs": [],
   "source": [
    "string = secrets_file.read()"
   ]
  },
  {
   "cell_type": "code",
   "execution_count": null,
   "id": "1eb0c174",
   "metadata": {},
   "outputs": [],
   "source": [
    "#string.split('\\n')"
   ]
  },
  {
   "cell_type": "code",
   "execution_count": null,
   "id": "5d5ffccf",
   "metadata": {},
   "outputs": [],
   "source": [
    "secrets_dict={}\n",
    "for line in string.split('\\n'):\n",
    "    if len(line) > 0:\n",
    "        secrets_dict[line.split(':')[0]]=line.split(':')[1].strip()"
   ]
  },
  {
   "cell_type": "code",
   "execution_count": null,
   "id": "e9f29802",
   "metadata": {},
   "outputs": [],
   "source": [
    "import spotipy\n",
    "from spotipy.oauth2 import SpotifyClientCredentials\n",
    "\n",
    "#Initialize SpotiPy with user credentials\n",
    "sp = spotipy.Spotify(auth_manager=SpotifyClientCredentials(client_id=secrets_dict['clientid'],\n",
    "                                                           client_secret=secrets_dict['clientsecret']))"
   ]
  },
  {
   "cell_type": "code",
   "execution_count": null,
   "id": "c5b07b17",
   "metadata": {},
   "outputs": [],
   "source": [
    "track = input(\"Text here a song that you like: \")\n",
    "\n",
    "\n",
    "if top_100_songs['title'].str.lower().str.contains(str(track).lower()).any() == True:\n",
    "        print('FOR YOU I FOUND THIS SONG! ')\n",
    "        print(top_100_songs['title'].sample())\n",
    "else:\n",
    "    # get the track name\n",
    "    results = sp.search(q=\"track:\" + track, type=\"track\")\n",
    "    \n",
    "    # find the song uri with spotipy\n",
    "    song_uri = results['tracks']['items'][0]['uri'].split(':')[2]\n",
    "    \n",
    "    #find song features\n",
    "    song_features = sp.audio_features(song_uri)\n",
    "    \n",
    "    #clean song features\n",
    "    new = pd.DataFrame.from_dict(song_features)\n",
    "    y_pred = new.drop(columns=['type', 'id' , 'uri', 'track_href', 'analysis_url'])\n",
    "    \n",
    "    # scale the data\n",
    "    y_scaled = transformer.transform(y_pred)\n",
    "    y_scaled = pd.DataFrame(y_scaled,columns=y_pred.columns)\n",
    "    \n",
    "    # use the Kmeans created before to predict the cluster for the song\n",
    "    look_for = kmeans.predict(y_scaled)\n",
    "    print('FOR YOU I FOUND THIS SONG!')\n",
    "    \n",
    "#     # choose a random row from the playlist with same cluster\n",
    "#     print(playlist_8_cluster.loc[playlist_8_cluster.clusters == look_for[0],['title','artist','url']].sample\n",
    "    print(playlist_8_cluster.loc[playlist_8_cluster.clusters == look_for[0],['title','artist','url']].sample())"
   ]
  },
  {
   "cell_type": "code",
   "execution_count": null,
   "id": "fbee4c80",
   "metadata": {},
   "outputs": [],
   "source": [
    "# The function takes input from the user, checking if the input is present in the 'title' column of the 'top_100_songs' dataframe, and if it is, it prints a random title from 'top_100_songs' dataframe. If it's not, it performs a Spotify search for a track with the given name, obtains its features, processes them, and then uses a k-means model to predict the cluster of the track. It then prints a random row from the 'playlist_8_cluster' dataframe that belongs to the same cluster as the track.\n",
    "\n",
    "# It looks like the issue might be with the last line of the code, specifically with the \"sample\" function.\n",
    "\n",
    "# The issue seems to be that the sample function is not being called, as the ? at the end of the function suggests.\n",
    "\n",
    "# To correct this, you can remove the ? and add .sample() at the end of the line."
   ]
  },
  {
   "cell_type": "code",
   "execution_count": null,
   "id": "85c68a81",
   "metadata": {},
   "outputs": [],
   "source": []
  },
  {
   "cell_type": "code",
   "execution_count": null,
   "id": "0c2eca56",
   "metadata": {},
   "outputs": [],
   "source": []
  }
 ],
 "metadata": {
  "kernelspec": {
   "display_name": "Python 3 (ipykernel)",
   "language": "python",
   "name": "python3"
  },
  "language_info": {
   "codemirror_mode": {
    "name": "ipython",
    "version": 3
   },
   "file_extension": ".py",
   "mimetype": "text/x-python",
   "name": "python",
   "nbconvert_exporter": "python",
   "pygments_lexer": "ipython3",
   "version": "3.9.13"
  }
 },
 "nbformat": 4,
 "nbformat_minor": 5
}
