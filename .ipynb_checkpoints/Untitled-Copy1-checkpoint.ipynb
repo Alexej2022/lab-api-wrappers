{
 "cells": [
  {
   "cell_type": "code",
   "execution_count": 1,
   "id": "080b7c7f",
   "metadata": {},
   "outputs": [],
   "source": [
    "secrets_file = open(\"secrets.txt\",\"r\")\n",
    "# function open, \"r\" stands for reading the file\n",
    "# only want to read the file\n",
    "# we can access the file through the handel\n",
    "# ../secrets.txt if one folder above"
   ]
  },
  {
   "cell_type": "code",
   "execution_count": 2,
   "id": "15378aac",
   "metadata": {},
   "outputs": [],
   "source": [
    "# contents of the file is written in a string\n",
    "\n",
    "string = secrets_file.read()"
   ]
  },
  {
   "cell_type": "code",
   "execution_count": 3,
   "id": "fc5289ed",
   "metadata": {},
   "outputs": [
    {
     "data": {
      "text/plain": [
       "'clientid:dce6d8a52c174cfb9b34e5ac1976f60f\\nclientsecret:3a685d939cf94ad0a891a3867314204b'"
      ]
     },
     "execution_count": 3,
     "metadata": {},
     "output_type": "execute_result"
    }
   ],
   "source": [
    "string"
   ]
  },
  {
   "cell_type": "code",
   "execution_count": 4,
   "id": "f3b2b662",
   "metadata": {},
   "outputs": [
    {
     "data": {
      "text/plain": [
       "['clientid:dce6d8a52c174cfb9b34e5ac1976f60f',\n",
       " 'clientsecret:3a685d939cf94ad0a891a3867314204b']"
      ]
     },
     "execution_count": 4,
     "metadata": {},
     "output_type": "execute_result"
    }
   ],
   "source": [
    "string.split('\\n')\n",
    "# if we split the string on the new line \n",
    "# i get 2,3 strings with the client id and an empty "
   ]
  },
  {
   "cell_type": "code",
   "execution_count": 5,
   "id": "cba1447d",
   "metadata": {},
   "outputs": [],
   "source": [
    "secrets_dict={}\n",
    "for line in string.split('\\n'):\n",
    "    if len(line) > 0:\n",
    "        secrets_dict[line.split(':')[0]]=line.split(':')[1]"
   ]
  },
  {
   "cell_type": "code",
   "execution_count": 6,
   "id": "2d48d32b",
   "metadata": {},
   "outputs": [
    {
     "data": {
      "text/plain": [
       "{'clientid': 'dce6d8a52c174cfb9b34e5ac1976f60f',\n",
       " 'clientsecret': '3a685d939cf94ad0a891a3867314204b'}"
      ]
     },
     "execution_count": 6,
     "metadata": {},
     "output_type": "execute_result"
    }
   ],
   "source": [
    "secrets_dict"
   ]
  },
  {
   "cell_type": "code",
   "execution_count": 7,
   "id": "7f48ed8e",
   "metadata": {},
   "outputs": [],
   "source": [
    "import spotipy\n",
    "from spotipy.oauth2 import SpotifyClientCredentials\n",
    "\n",
    "#Initialize SpotiPy with user credentials\n",
    "sp = spotipy.Spotify(auth_manager=SpotifyClientCredentials(client_id=secrets_dict['clientid'],\n",
    "                                                           client_secret=secrets_dict['clientsecret']))"
   ]
  },
  {
   "cell_type": "code",
   "execution_count": 8,
   "id": "cbe3df62",
   "metadata": {},
   "outputs": [],
   "source": [
    "import numpy as np\n",
    "import pandas as pd\n",
    "import json"
   ]
  },
  {
   "cell_type": "code",
   "execution_count": 9,
   "id": "fef1018d",
   "metadata": {},
   "outputs": [],
   "source": [
    "playlist1 = sp.user_playlist_tracks(\"spotify\", '4Dg0J0ICj9kKTGDyFu0Cv4')\n",
    "playlist2 = sp.user_playlist_tracks(\"spotify\", '37i9dQZF1DWTmvXBN4DgpA')\n",
    "playlist3 = sp.user_playlist_tracks(\"spotify\", '2LOxEzC4KmoWJ9NhW0kz5M')"
   ]
  },
  {
   "cell_type": "code",
   "execution_count": 10,
   "id": "29873798",
   "metadata": {},
   "outputs": [],
   "source": [
    "def get_artist(put_the_playlist):\n",
    "    \n",
    "    artist_1 =[]\n",
    "    for i in range (len(put_the_playlist[\"items\"])):\n",
    "         artist_1.append(put_the_playlist[\"items\"][i]['track']['artists'][0]['name']) \n",
    "\n",
    "    artist_list1 = []\n",
    "    for word in artist_1:\n",
    "        if word not in artist_list1:\n",
    "            artist_list1.append(word)  \n",
    "\n",
    "    return artist_list1"
   ]
  },
  {
   "cell_type": "code",
   "execution_count": 11,
   "id": "0cb20c3f",
   "metadata": {},
   "outputs": [],
   "source": [
    "artist_list = get_artist(playlist1) + get_artist(playlist2) + get_artist(playlist3)"
   ]
  },
  {
   "cell_type": "code",
   "execution_count": 12,
   "id": "a68ec0fe",
   "metadata": {},
   "outputs": [],
   "source": [
    "my_artists = []\n",
    "for word in artist_list:\n",
    "    if word not in my_artists:\n",
    "        my_artists.append(word)"
   ]
  },
  {
   "cell_type": "code",
   "execution_count": 13,
   "id": "c5592f5d",
   "metadata": {},
   "outputs": [
    {
     "name": "stdout",
     "output_type": "stream",
     "text": [
      "['Skrillex', 'Daphni', 'altrice', 'Junior Boys', 'Zaza', 'KH', 'LaRhonda LeGette', 'Koreless', 'Joel Vandroogenbroeck', 'Mark A Mitchell', 'Ersen ve Dadaşlar', 'MGMT', 'Caribou', 'g-man', 'Kareem Ali', 'The New York Community Choir', 'Phil Cordell', 'Captain Beefheart & His Magic Band', 'Superlatives', \"Aphrodite's Child\", 'Offering', 'George Duke', '645AR', 'Apple & The Three Oranges', 'Steve Tibbetts', 'Joe Chambers', 'Dean Blunt', 'Lotte Kærså & Græsrødderne', 'Alogte Oho & His Sounds of Joy', 'African Head Charge', 'Manos Tsangaris', 'Tame Impala', 'Carl Stone', 'Donato Dozzy', 'Yabby You', 'Nick Drake', 'Ana Mazzotti', 'Kamuran Akkor', 'Brainticket', 'Raul Lovisoni', 'Cyril Walker', 'Jeff Parker', 'Gruppo di Improvvisazione Nuova Consonanza', 'The New Year', 'EYE', 'Reuben Wilson', 'Delired Cameleon Family', 'Gene Menger', 'Jeanne Folly', 'Totem Uruguay', 'Labi Siffre', 'Michael Naura Quartet', 'Ramuntcho Matta', 'James Holden', 'Lives Of Angels', 'Four Tet', 'Ian Pooley', 'Asquith', 'MJ Cole', 'Nathan Fake', 'Virgo Four', 'Totó La Momposina', 'Barrett Strong', 'The Diddys', 'Henry Franklin', 'Quavius', 'Aaron Broomfield', 'Kingsley Bucknor', 'DaBaby', 'Mobb Deep', 'Ursula K. Le Guin', 'Angelo Noce Santoro', 'Daniel Schmidt', 'Melodic Energy Commission', 'Peter Kardas', 'Beverly Glenn-Copeland', 'Luka Productions', 'African Futurism', 'Professor Rhythm', 'Asha Bhosle', 'Daniel Lopatin', 'Vegyn', 'KAYTRANADA', 'Bruno Spoerri', \"Tonto's Expanding Head Band\", 'Jan Jones', 'Queen', 'Danny Vera', 'Eagles', 'Billy Joel', 'Coldplay', 'Led Zeppelin', 'Pearl Jam', 'Boudewijn de Groot', 'Metallica', 'Pink Floyd', \"Guns N' Roses\", 'Dire Straits', 'Golden Earring', 'Deep Purple', 'TOTO', 'Disturbed', 'DI-RECT', 'Prince', 'Bruce Springsteen', 'Meat Loaf', 'Fleetwood Mac', 'David Bowie', 'AC/DC', 'Nirvana', 'Racoon', 'The Cure', 'Simon & Garfunkel', 'Miss Montreal', 'Michael Kiwanuka', 'Linkin Park', 'ABBA', 'Klein Orkest', 'Phil Collins', 'Johnny Cash', 'Rage Against The Machine', 'Lady Gaga', 'Supertramp', 'John Lennon', 'Kate Bush', 'Goldband', 'Wim Sonneveld', 'Radiohead', 'Paolo Nutini', 'Volbeat', 'Eminem', 'The Rolling Stones', 'Stef Bos', 'Procol Harum', 'Floor Jansen', 'The Beach Boys', 'Electric Light Orchestra', 'Muse', 'U2', 'Amy Winehouse', 'Nothing But Thieves', 'Kensington', 'Guus Meeuwis', 'Tom Odell', 'The Beatles', 'Red Hot Chili Peppers', 'The Alan Parsons Project', 'Robbie Williams', 'Liesbeth List', 'Rammstein', 'Elvis Presley', 'John Farnham', 'Michael Jackson', 'Bon Jovi', 'The Easybeats', 'Madonna', 'Bob Dylan', 'George Michael', 'Aretha Franklin', 'Whitney Houston', 'Gotye', 'Crowded House', 'The Doors', 'Men At Work', 'Oasis', 'Marvin Gaye', 'Cold Chisel', 'Bee Gees', 'Beyoncé', 'Spice Girls', 'Stevie Wonder', 'Kylie Minogue', 'Culture Club', 'INXS', 'Jeff Buckley', 'Cyndi Lauper', 'Yothu Yindi', 'Don McLean', \"Sinéad O'Connor\", 'Carly Simon', 'Jimi Hendrix', 'Green Day', 'Blondie', 'Mark Ronson', 'The Jacksons', 'Paul Simon', 'Hunters & Collectors', 'Jimmy Barnes', 'Joy Division', 'Savage Garden', 'Britney Spears', 'The Knack', 'R.E.M.', 'Elton John', 'Salt-N-Pepa', 'Daddy Cool', 'Powderfinger', 'Paul McCartney', 'Adele', 'Midnight Oil', 'The Clash', 'Take That', 'ICEHOUSE', 'Gloria Gaynor', 'Fugees', 'The Police', 'Eric Clapton', 'Duran Duran', 'Russell Morris', 'Hanson', 'Foo Fighters', 'Wham!', 'Lenny Kravitz', 'The Who', 'The Verve', 'Silverchair', 'Alanis Morissette', 'Ed Sheeran', 'Neil Diamond', 'Blur']\n"
     ]
    }
   ],
   "source": [
    "print(my_artists)"
   ]
  },
  {
   "cell_type": "code",
   "execution_count": 14,
   "id": "c3766b14",
   "metadata": {},
   "outputs": [],
   "source": [
    "artists = ['Skrillex', 'Daphni', 'altrice', 'Junior Boys', 'Zaza', 'KH', 'LaRhonda LeGette', 'Koreless', 'Joel Vandroogenbroeck', 'Mark A Mitchell', 'Ersen ve Dadaşlar', 'MGMT', 'Caribou', 'g-man', 'Kareem Ali', 'The New York Community Choir', 'Phil Cordell', 'Captain Beefheart & His Magic Band', 'Superlatives', \"Aphrodite's Child\", 'Offering', 'George Duke', '645AR', 'Apple & The Three Oranges', 'Steve Tibbetts', 'Joe Chambers', 'Dean Blunt', 'Lotte Kærså & Græsrødderne', 'Alogte Oho & His Sounds of Joy', 'African Head Charge', 'Manos Tsangaris', 'Tame Impala', 'Carl Stone', 'Donato Dozzy', 'Yabby You', 'Nick Drake', 'Ana Mazzotti', 'Kamuran Akkor', 'Brainticket', 'Raul Lovisoni', 'Cyril Walker', 'Jeff Parker', 'Gruppo di Improvvisazione Nuova Consonanza', 'The New Year', 'EYE', 'Reuben Wilson', 'Delired Cameleon Family', 'Gene Menger', 'Jeanne Folly', 'Totem Uruguay', 'Labi Siffre', 'Michael Naura Quartet', 'Ramuntcho Matta', 'James Holden', 'Lives Of Angels', 'Four Tet', 'Ian Pooley', 'Asquith', 'MJ Cole', 'Nathan Fake', 'Virgo Four', 'Totó La Momposina', 'Barrett Strong', 'The Diddys', 'Henry Franklin', 'Quavius', 'Aaron Broomfield', 'Kingsley Bucknor', 'DaBaby', 'Mobb Deep', 'Ursula K. Le Guin', 'Angelo Noce Santoro', 'Daniel Schmidt', 'Melodic Energy Commission', 'Peter Kardas', 'Beverly Glenn-Copeland', 'Luka Productions', 'African Futurism', 'Professor Rhythm', 'Asha Bhosle', 'Daniel Lopatin', 'Vegyn', 'KAYTRANADA', 'Bruno Spoerri', \"Tonto's Expanding Head Band\", 'Jan Jones', 'Queen', 'Danny Vera', 'Eagles', 'Billy Joel', 'Coldplay', 'Led Zeppelin', 'Pearl Jam', 'Boudewijn de Groot', 'Metallica', 'Pink Floyd', \"Guns N' Roses\", 'Dire Straits', 'Golden Earring', 'Deep Purple', 'TOTO', 'Disturbed', 'DI-RECT', 'Prince', 'Bruce Springsteen', 'Meat Loaf', 'Fleetwood Mac', 'David Bowie', 'AC/DC', 'Nirvana', 'Racoon', 'The Cure', 'Simon & Garfunkel', 'Miss Montreal', 'Michael Kiwanuka', 'Linkin Park', 'ABBA', 'Klein Orkest', 'Phil Collins', 'Johnny Cash', 'Rage Against The Machine', 'Lady Gaga', 'Supertramp', 'John Lennon', 'Kate Bush', 'Goldband', 'Wim Sonneveld', 'Radiohead', 'Paolo Nutini', 'Volbeat', 'Eminem', 'The Rolling Stones', 'Stef Bos', 'Procol Harum', 'Floor Jansen', 'The Beach Boys', 'Electric Light Orchestra', 'Muse', 'U2', 'Amy Winehouse', 'Nothing But Thieves', 'Kensington', 'Guus Meeuwis', 'Tom Odell', 'The Beatles', 'Red Hot Chili Peppers', 'The Alan Parsons Project', 'Robbie Williams', 'Liesbeth List', 'Rammstein', 'Elvis Presley', 'John Farnham', 'Michael Jackson', 'Bon Jovi', 'The Easybeats', 'Madonna', 'Bob Dylan', 'George Michael', 'Aretha Franklin', 'Whitney Houston', 'Gotye', 'Crowded House', 'The Doors', 'Men At Work', 'Oasis', 'Marvin Gaye', 'Cold Chisel', 'Bee Gees', 'Beyoncé', 'Spice Girls', 'Stevie Wonder', 'Kylie Minogue', 'Culture Club', 'INXS', 'Jeff Buckley', 'Cyndi Lauper', 'Yothu Yindi', 'Don McLean', \"Sinéad O'Connor\", 'Carly Simon', 'Jimi Hendrix', 'Green Day', 'Blondie', 'Mark Ronson', 'The Jacksons', 'Paul Simon', 'Hunters & Collectors', 'Jimmy Barnes', 'Joy Division', 'Savage Garden', 'Britney Spears', 'The Knack', 'R.E.M.', 'Elton John', 'Salt-N-Pepa', 'Daddy Cool', 'Powderfinger', 'Paul McCartney', 'Adele', 'Midnight Oil', 'The Clash', 'Take That', 'ICEHOUSE', 'Gloria Gaynor', 'Fugees', 'The Police', 'Eric Clapton', 'Duran Duran', 'Russell Morris', 'Hanson', 'Foo Fighters', 'Wham!', 'Lenny Kravitz', 'The Who', 'The Verve', 'Silverchair', 'Alanis Morissette', 'Ed Sheeran', 'Neil Diamond', 'Blur']"
   ]
  },
  {
   "cell_type": "code",
   "execution_count": 15,
   "id": "3fda3221",
   "metadata": {},
   "outputs": [
    {
     "data": {
      "text/plain": [
       "220"
      ]
     },
     "execution_count": 15,
     "metadata": {},
     "output_type": "execute_result"
    }
   ],
   "source": [
    "len(artists)"
   ]
  },
  {
   "cell_type": "code",
   "execution_count": 16,
   "id": "adbc68f0",
   "metadata": {},
   "outputs": [],
   "source": [
    "my_3_tracks = []\n",
    "\n",
    "for artist in artists:   \n",
    "    my_3_tracks.append(sp.search(q=artist, limit=3))"
   ]
  },
  {
   "cell_type": "code",
   "execution_count": 17,
   "id": "e13a1487",
   "metadata": {},
   "outputs": [],
   "source": [
    "# range differs according to artist count\n",
    "songs_30 = []\n",
    "songs_30_uri = []\n",
    "songs_30_url = []\n",
    "for i in range(220):\n",
    "    for j in range(3):\n",
    "        songs_30.append(my_3_tracks[i]['tracks']['items'][j]['name'])\n",
    "        songs_30_uri.append(my_3_tracks[i]['tracks']['items'][j]['uri'])\n",
    "        songs_30_url.append(my_3_tracks[i]['tracks']['items'][j]['external_urls']['spotify'])"
   ]
  },
  {
   "cell_type": "code",
   "execution_count": 18,
   "id": "bc1931da",
   "metadata": {},
   "outputs": [],
   "source": [
    "songs_30_artists = []\n",
    "for i in range(len(artists)):\n",
    "    j = 3\n",
    "    while j != 0:\n",
    "        songs_30_artists.append(artists[i])\n",
    "        j-=1"
   ]
  },
  {
   "cell_type": "code",
   "execution_count": 23,
   "id": "13e3b7f4",
   "metadata": {},
   "outputs": [],
   "source": [
    "# range len artist * 10\n",
    "songs_30_features = []\n",
    "for i in range(660):\n",
    "    songs_30_features.append(sp.audio_features(songs_30_uri[i]))"
   ]
  },
  {
   "cell_type": "code",
   "execution_count": null,
   "id": "f1db9cce",
   "metadata": {},
   "outputs": [],
   "source": []
  },
  {
   "cell_type": "code",
   "execution_count": 24,
   "id": "bd79dbaf",
   "metadata": {},
   "outputs": [],
   "source": [
    "def flatten(input_list):\n",
    "    return [item for sublist in input_list for item in sublist]"
   ]
  },
  {
   "cell_type": "code",
   "execution_count": 25,
   "id": "ec03a2d3",
   "metadata": {},
   "outputs": [],
   "source": [
    "songs_30_features = flatten(songs_30_features)"
   ]
  },
  {
   "cell_type": "code",
   "execution_count": 22,
   "id": "27883915",
   "metadata": {},
   "outputs": [
    {
     "ename": "ValueError",
     "evalue": "All arrays must be of the same length",
     "output_type": "error",
     "traceback": [
      "\u001b[1;31m---------------------------------------------------------------------------\u001b[0m",
      "\u001b[1;31mValueError\u001b[0m                                Traceback (most recent call last)",
      "\u001b[1;32m~\\AppData\\Local\\Temp\\ipykernel_20160\\4010994804.py\u001b[0m in \u001b[0;36m<module>\u001b[1;34m\u001b[0m\n\u001b[1;32m----> 1\u001b[1;33m \u001b[0martist_3_song_30\u001b[0m \u001b[1;33m=\u001b[0m \u001b[0mpd\u001b[0m\u001b[1;33m.\u001b[0m\u001b[0mDataFrame\u001b[0m\u001b[1;33m(\u001b[0m\u001b[1;33m{\u001b[0m\u001b[1;34m'title'\u001b[0m\u001b[1;33m:\u001b[0m\u001b[0msongs_30\u001b[0m\u001b[1;33m,\u001b[0m\u001b[1;34m'artist'\u001b[0m\u001b[1;33m:\u001b[0m\u001b[0msongs_30_artists\u001b[0m\u001b[1;33m,\u001b[0m\u001b[1;34m'url'\u001b[0m\u001b[1;33m:\u001b[0m\u001b[0msongs_30_url\u001b[0m\u001b[1;33m,\u001b[0m\u001b[1;34m'features'\u001b[0m\u001b[1;33m:\u001b[0m\u001b[0msongs_30_features\u001b[0m\u001b[1;33m}\u001b[0m\u001b[1;33m)\u001b[0m\u001b[1;33m\u001b[0m\u001b[1;33m\u001b[0m\u001b[0m\n\u001b[0m",
      "\u001b[1;32m~\\anaconda3\\lib\\site-packages\\pandas\\core\\frame.py\u001b[0m in \u001b[0;36m__init__\u001b[1;34m(self, data, index, columns, dtype, copy)\u001b[0m\n\u001b[0;32m    634\u001b[0m         \u001b[1;32melif\u001b[0m \u001b[0misinstance\u001b[0m\u001b[1;33m(\u001b[0m\u001b[0mdata\u001b[0m\u001b[1;33m,\u001b[0m \u001b[0mdict\u001b[0m\u001b[1;33m)\u001b[0m\u001b[1;33m:\u001b[0m\u001b[1;33m\u001b[0m\u001b[1;33m\u001b[0m\u001b[0m\n\u001b[0;32m    635\u001b[0m             \u001b[1;31m# GH#38939 de facto copy defaults to False only in non-dict cases\u001b[0m\u001b[1;33m\u001b[0m\u001b[1;33m\u001b[0m\u001b[0m\n\u001b[1;32m--> 636\u001b[1;33m             \u001b[0mmgr\u001b[0m \u001b[1;33m=\u001b[0m \u001b[0mdict_to_mgr\u001b[0m\u001b[1;33m(\u001b[0m\u001b[0mdata\u001b[0m\u001b[1;33m,\u001b[0m \u001b[0mindex\u001b[0m\u001b[1;33m,\u001b[0m \u001b[0mcolumns\u001b[0m\u001b[1;33m,\u001b[0m \u001b[0mdtype\u001b[0m\u001b[1;33m=\u001b[0m\u001b[0mdtype\u001b[0m\u001b[1;33m,\u001b[0m \u001b[0mcopy\u001b[0m\u001b[1;33m=\u001b[0m\u001b[0mcopy\u001b[0m\u001b[1;33m,\u001b[0m \u001b[0mtyp\u001b[0m\u001b[1;33m=\u001b[0m\u001b[0mmanager\u001b[0m\u001b[1;33m)\u001b[0m\u001b[1;33m\u001b[0m\u001b[1;33m\u001b[0m\u001b[0m\n\u001b[0m\u001b[0;32m    637\u001b[0m         \u001b[1;32melif\u001b[0m \u001b[0misinstance\u001b[0m\u001b[1;33m(\u001b[0m\u001b[0mdata\u001b[0m\u001b[1;33m,\u001b[0m \u001b[0mma\u001b[0m\u001b[1;33m.\u001b[0m\u001b[0mMaskedArray\u001b[0m\u001b[1;33m)\u001b[0m\u001b[1;33m:\u001b[0m\u001b[1;33m\u001b[0m\u001b[1;33m\u001b[0m\u001b[0m\n\u001b[0;32m    638\u001b[0m             \u001b[1;32mimport\u001b[0m \u001b[0mnumpy\u001b[0m\u001b[1;33m.\u001b[0m\u001b[0mma\u001b[0m\u001b[1;33m.\u001b[0m\u001b[0mmrecords\u001b[0m \u001b[1;32mas\u001b[0m \u001b[0mmrecords\u001b[0m\u001b[1;33m\u001b[0m\u001b[1;33m\u001b[0m\u001b[0m\n",
      "\u001b[1;32m~\\anaconda3\\lib\\site-packages\\pandas\\core\\internals\\construction.py\u001b[0m in \u001b[0;36mdict_to_mgr\u001b[1;34m(data, index, columns, dtype, typ, copy)\u001b[0m\n\u001b[0;32m    500\u001b[0m         \u001b[1;31m# TODO: can we get rid of the dt64tz special case above?\u001b[0m\u001b[1;33m\u001b[0m\u001b[1;33m\u001b[0m\u001b[0m\n\u001b[0;32m    501\u001b[0m \u001b[1;33m\u001b[0m\u001b[0m\n\u001b[1;32m--> 502\u001b[1;33m     \u001b[1;32mreturn\u001b[0m \u001b[0marrays_to_mgr\u001b[0m\u001b[1;33m(\u001b[0m\u001b[0marrays\u001b[0m\u001b[1;33m,\u001b[0m \u001b[0mcolumns\u001b[0m\u001b[1;33m,\u001b[0m \u001b[0mindex\u001b[0m\u001b[1;33m,\u001b[0m \u001b[0mdtype\u001b[0m\u001b[1;33m=\u001b[0m\u001b[0mdtype\u001b[0m\u001b[1;33m,\u001b[0m \u001b[0mtyp\u001b[0m\u001b[1;33m=\u001b[0m\u001b[0mtyp\u001b[0m\u001b[1;33m,\u001b[0m \u001b[0mconsolidate\u001b[0m\u001b[1;33m=\u001b[0m\u001b[0mcopy\u001b[0m\u001b[1;33m)\u001b[0m\u001b[1;33m\u001b[0m\u001b[1;33m\u001b[0m\u001b[0m\n\u001b[0m\u001b[0;32m    503\u001b[0m \u001b[1;33m\u001b[0m\u001b[0m\n\u001b[0;32m    504\u001b[0m \u001b[1;33m\u001b[0m\u001b[0m\n",
      "\u001b[1;32m~\\anaconda3\\lib\\site-packages\\pandas\\core\\internals\\construction.py\u001b[0m in \u001b[0;36marrays_to_mgr\u001b[1;34m(arrays, columns, index, dtype, verify_integrity, typ, consolidate)\u001b[0m\n\u001b[0;32m    118\u001b[0m         \u001b[1;31m# figure out the index, if necessary\u001b[0m\u001b[1;33m\u001b[0m\u001b[1;33m\u001b[0m\u001b[0m\n\u001b[0;32m    119\u001b[0m         \u001b[1;32mif\u001b[0m \u001b[0mindex\u001b[0m \u001b[1;32mis\u001b[0m \u001b[1;32mNone\u001b[0m\u001b[1;33m:\u001b[0m\u001b[1;33m\u001b[0m\u001b[1;33m\u001b[0m\u001b[0m\n\u001b[1;32m--> 120\u001b[1;33m             \u001b[0mindex\u001b[0m \u001b[1;33m=\u001b[0m \u001b[0m_extract_index\u001b[0m\u001b[1;33m(\u001b[0m\u001b[0marrays\u001b[0m\u001b[1;33m)\u001b[0m\u001b[1;33m\u001b[0m\u001b[1;33m\u001b[0m\u001b[0m\n\u001b[0m\u001b[0;32m    121\u001b[0m         \u001b[1;32melse\u001b[0m\u001b[1;33m:\u001b[0m\u001b[1;33m\u001b[0m\u001b[1;33m\u001b[0m\u001b[0m\n\u001b[0;32m    122\u001b[0m             \u001b[0mindex\u001b[0m \u001b[1;33m=\u001b[0m \u001b[0mensure_index\u001b[0m\u001b[1;33m(\u001b[0m\u001b[0mindex\u001b[0m\u001b[1;33m)\u001b[0m\u001b[1;33m\u001b[0m\u001b[1;33m\u001b[0m\u001b[0m\n",
      "\u001b[1;32m~\\anaconda3\\lib\\site-packages\\pandas\\core\\internals\\construction.py\u001b[0m in \u001b[0;36m_extract_index\u001b[1;34m(data)\u001b[0m\n\u001b[0;32m    672\u001b[0m             \u001b[0mlengths\u001b[0m \u001b[1;33m=\u001b[0m \u001b[0mlist\u001b[0m\u001b[1;33m(\u001b[0m\u001b[0mset\u001b[0m\u001b[1;33m(\u001b[0m\u001b[0mraw_lengths\u001b[0m\u001b[1;33m)\u001b[0m\u001b[1;33m)\u001b[0m\u001b[1;33m\u001b[0m\u001b[1;33m\u001b[0m\u001b[0m\n\u001b[0;32m    673\u001b[0m             \u001b[1;32mif\u001b[0m \u001b[0mlen\u001b[0m\u001b[1;33m(\u001b[0m\u001b[0mlengths\u001b[0m\u001b[1;33m)\u001b[0m \u001b[1;33m>\u001b[0m \u001b[1;36m1\u001b[0m\u001b[1;33m:\u001b[0m\u001b[1;33m\u001b[0m\u001b[1;33m\u001b[0m\u001b[0m\n\u001b[1;32m--> 674\u001b[1;33m                 \u001b[1;32mraise\u001b[0m \u001b[0mValueError\u001b[0m\u001b[1;33m(\u001b[0m\u001b[1;34m\"All arrays must be of the same length\"\u001b[0m\u001b[1;33m)\u001b[0m\u001b[1;33m\u001b[0m\u001b[1;33m\u001b[0m\u001b[0m\n\u001b[0m\u001b[0;32m    675\u001b[0m \u001b[1;33m\u001b[0m\u001b[0m\n\u001b[0;32m    676\u001b[0m             \u001b[1;32mif\u001b[0m \u001b[0mhave_dicts\u001b[0m\u001b[1;33m:\u001b[0m\u001b[1;33m\u001b[0m\u001b[1;33m\u001b[0m\u001b[0m\n",
      "\u001b[1;31mValueError\u001b[0m: All arrays must be of the same length"
     ]
    }
   ],
   "source": [
    "artist_3_song_30 = pd.DataFrame({'title':songs_30,'artist':songs_30_artists,'url':songs_30_url,'features':songs_30_features})\n"
   ]
  },
  {
   "cell_type": "code",
   "execution_count": null,
   "id": "fc688eaa",
   "metadata": {},
   "outputs": [],
   "source": [
    "ftr = pd.json_normalize(artist_3_song_30.features)\n",
    "ftr.columns = [f'features_{col}' for col in ftr.columns]"
   ]
  },
  {
   "cell_type": "code",
   "execution_count": null,
   "id": "5177b669",
   "metadata": {},
   "outputs": [],
   "source": [
    "artist3_song30 = pd.concat([artist_3_song_30, ftr], axis=1)\n",
    "cleaned_1 = artist3_song30.drop(columns=['features', 'features_uri', 'features_track_href' , 'features_analysis_url', 'features_id'])\n"
   ]
  },
  {
   "cell_type": "code",
   "execution_count": null,
   "id": "78a8cb5f",
   "metadata": {},
   "outputs": [],
   "source": [
    "cleaned_1.nunique()"
   ]
  },
  {
   "cell_type": "code",
   "execution_count": null,
   "id": "837fad84",
   "metadata": {},
   "outputs": [],
   "source": [
    "cleaned_1.shape"
   ]
  },
  {
   "cell_type": "code",
   "execution_count": null,
   "id": "714e3a64",
   "metadata": {},
   "outputs": [],
   "source": [
    "cleaned_1 = cleaned_1.drop_duplicates(subset=['title'])\n"
   ]
  },
  {
   "cell_type": "code",
   "execution_count": null,
   "id": "ce88f9b5",
   "metadata": {},
   "outputs": [],
   "source": [
    "cleaned_1.isna().sum()\n"
   ]
  },
  {
   "cell_type": "code",
   "execution_count": null,
   "id": "7f10e15e",
   "metadata": {},
   "outputs": [],
   "source": [
    "cleaned_1.to_csv('test.csv', index = False)"
   ]
  },
  {
   "cell_type": "code",
   "execution_count": null,
   "id": "ba62c68c",
   "metadata": {},
   "outputs": [],
   "source": [
    "data = pd.read_csv('test.csv')\n",
    "data.head()"
   ]
  },
  {
   "cell_type": "code",
   "execution_count": null,
   "id": "b0939396",
   "metadata": {},
   "outputs": [],
   "source": []
  }
 ],
 "metadata": {
  "kernelspec": {
   "display_name": "Python 3 (ipykernel)",
   "language": "python",
   "name": "python3"
  },
  "language_info": {
   "codemirror_mode": {
    "name": "ipython",
    "version": 3
   },
   "file_extension": ".py",
   "mimetype": "text/x-python",
   "name": "python",
   "nbconvert_exporter": "python",
   "pygments_lexer": "ipython3",
   "version": "3.9.13"
  }
 },
 "nbformat": 4,
 "nbformat_minor": 5
}
